{
 "cells": [
  {
   "cell_type": "code",
   "execution_count": 55,
   "id": "db54dff8",
   "metadata": {},
   "outputs": [],
   "source": [
    "import pandas as pd\n",
    "import numpy as np\n",
    "from matplotlib import pyplot as plt\n",
    "import seaborn as sns"
   ]
  },
  {
   "cell_type": "code",
   "execution_count": 56,
   "id": "fb71d80f",
   "metadata": {},
   "outputs": [],
   "source": [
    "xls = 'http://www.biostatisticien.eu/springeR/nutrition_elderly.xls'\n",
    "nutri = pd.read_excel(xls)"
   ]
  },
  {
   "cell_type": "markdown",
   "id": "c9e45410",
   "metadata": {},
   "source": [
    "# 1.2 Structuring Features According to Type"
   ]
  },
  {
   "cell_type": "code",
   "execution_count": 57,
   "id": "79190fb6",
   "metadata": {},
   "outputs": [
    {
     "data": {
      "text/html": [
       "<div>\n",
       "<style scoped>\n",
       "    .dataframe tbody tr th:only-of-type {\n",
       "        vertical-align: middle;\n",
       "    }\n",
       "\n",
       "    .dataframe tbody tr th {\n",
       "        vertical-align: top;\n",
       "    }\n",
       "\n",
       "    .dataframe thead th {\n",
       "        text-align: right;\n",
       "    }\n",
       "</style>\n",
       "<table border=\"1\" class=\"dataframe\">\n",
       "  <thead>\n",
       "    <tr style=\"text-align: right;\">\n",
       "      <th></th>\n",
       "      <th>gender</th>\n",
       "      <th>situation</th>\n",
       "      <th>tea</th>\n",
       "      <th>coffee</th>\n",
       "      <th>height</th>\n",
       "      <th>weight</th>\n",
       "      <th>age</th>\n",
       "      <th>meat</th>\n",
       "      <th>fish</th>\n",
       "      <th>raw_fruit</th>\n",
       "      <th>cooked_fruit_veg</th>\n",
       "      <th>chocol</th>\n",
       "      <th>fat</th>\n",
       "    </tr>\n",
       "  </thead>\n",
       "  <tbody>\n",
       "    <tr>\n",
       "      <th>0</th>\n",
       "      <td>2</td>\n",
       "      <td>1</td>\n",
       "      <td>0</td>\n",
       "      <td>0</td>\n",
       "      <td>151</td>\n",
       "      <td>58</td>\n",
       "      <td>72</td>\n",
       "      <td>4</td>\n",
       "      <td>3</td>\n",
       "      <td>1</td>\n",
       "      <td>4</td>\n",
       "      <td>5</td>\n",
       "      <td>6</td>\n",
       "    </tr>\n",
       "    <tr>\n",
       "      <th>1</th>\n",
       "      <td>2</td>\n",
       "      <td>1</td>\n",
       "      <td>1</td>\n",
       "      <td>1</td>\n",
       "      <td>162</td>\n",
       "      <td>60</td>\n",
       "      <td>68</td>\n",
       "      <td>5</td>\n",
       "      <td>2</td>\n",
       "      <td>5</td>\n",
       "      <td>5</td>\n",
       "      <td>1</td>\n",
       "      <td>4</td>\n",
       "    </tr>\n",
       "    <tr>\n",
       "      <th>2</th>\n",
       "      <td>2</td>\n",
       "      <td>1</td>\n",
       "      <td>0</td>\n",
       "      <td>4</td>\n",
       "      <td>162</td>\n",
       "      <td>75</td>\n",
       "      <td>78</td>\n",
       "      <td>3</td>\n",
       "      <td>1</td>\n",
       "      <td>5</td>\n",
       "      <td>2</td>\n",
       "      <td>5</td>\n",
       "      <td>4</td>\n",
       "    </tr>\n",
       "    <tr>\n",
       "      <th>3</th>\n",
       "      <td>2</td>\n",
       "      <td>1</td>\n",
       "      <td>0</td>\n",
       "      <td>0</td>\n",
       "      <td>154</td>\n",
       "      <td>45</td>\n",
       "      <td>91</td>\n",
       "      <td>0</td>\n",
       "      <td>4</td>\n",
       "      <td>4</td>\n",
       "      <td>0</td>\n",
       "      <td>3</td>\n",
       "      <td>2</td>\n",
       "    </tr>\n",
       "    <tr>\n",
       "      <th>4</th>\n",
       "      <td>2</td>\n",
       "      <td>1</td>\n",
       "      <td>2</td>\n",
       "      <td>1</td>\n",
       "      <td>154</td>\n",
       "      <td>50</td>\n",
       "      <td>65</td>\n",
       "      <td>5</td>\n",
       "      <td>3</td>\n",
       "      <td>5</td>\n",
       "      <td>5</td>\n",
       "      <td>3</td>\n",
       "      <td>2</td>\n",
       "    </tr>\n",
       "    <tr>\n",
       "      <th>...</th>\n",
       "      <td>...</td>\n",
       "      <td>...</td>\n",
       "      <td>...</td>\n",
       "      <td>...</td>\n",
       "      <td>...</td>\n",
       "      <td>...</td>\n",
       "      <td>...</td>\n",
       "      <td>...</td>\n",
       "      <td>...</td>\n",
       "      <td>...</td>\n",
       "      <td>...</td>\n",
       "      <td>...</td>\n",
       "      <td>...</td>\n",
       "    </tr>\n",
       "    <tr>\n",
       "      <th>221</th>\n",
       "      <td>2</td>\n",
       "      <td>1</td>\n",
       "      <td>0</td>\n",
       "      <td>1</td>\n",
       "      <td>160</td>\n",
       "      <td>73</td>\n",
       "      <td>74</td>\n",
       "      <td>4</td>\n",
       "      <td>3</td>\n",
       "      <td>5</td>\n",
       "      <td>5</td>\n",
       "      <td>1</td>\n",
       "      <td>6</td>\n",
       "    </tr>\n",
       "    <tr>\n",
       "      <th>222</th>\n",
       "      <td>2</td>\n",
       "      <td>2</td>\n",
       "      <td>0</td>\n",
       "      <td>3</td>\n",
       "      <td>163</td>\n",
       "      <td>62</td>\n",
       "      <td>68</td>\n",
       "      <td>4</td>\n",
       "      <td>3</td>\n",
       "      <td>4</td>\n",
       "      <td>4</td>\n",
       "      <td>1</td>\n",
       "      <td>3</td>\n",
       "    </tr>\n",
       "    <tr>\n",
       "      <th>223</th>\n",
       "      <td>1</td>\n",
       "      <td>2</td>\n",
       "      <td>0</td>\n",
       "      <td>2</td>\n",
       "      <td>170</td>\n",
       "      <td>74</td>\n",
       "      <td>71</td>\n",
       "      <td>4</td>\n",
       "      <td>3</td>\n",
       "      <td>4</td>\n",
       "      <td>4</td>\n",
       "      <td>1</td>\n",
       "      <td>3</td>\n",
       "    </tr>\n",
       "    <tr>\n",
       "      <th>224</th>\n",
       "      <td>2</td>\n",
       "      <td>1</td>\n",
       "      <td>0</td>\n",
       "      <td>2</td>\n",
       "      <td>154</td>\n",
       "      <td>45</td>\n",
       "      <td>77</td>\n",
       "      <td>4</td>\n",
       "      <td>3</td>\n",
       "      <td>3</td>\n",
       "      <td>5</td>\n",
       "      <td>3</td>\n",
       "      <td>5</td>\n",
       "    </tr>\n",
       "    <tr>\n",
       "      <th>225</th>\n",
       "      <td>2</td>\n",
       "      <td>2</td>\n",
       "      <td>2</td>\n",
       "      <td>0</td>\n",
       "      <td>159</td>\n",
       "      <td>63</td>\n",
       "      <td>69</td>\n",
       "      <td>3</td>\n",
       "      <td>3</td>\n",
       "      <td>5</td>\n",
       "      <td>5</td>\n",
       "      <td>1</td>\n",
       "      <td>4</td>\n",
       "    </tr>\n",
       "  </tbody>\n",
       "</table>\n",
       "<p>226 rows × 13 columns</p>\n",
       "</div>"
      ],
      "text/plain": [
       "     gender  situation  tea  coffee  height  weight  age  meat  fish  \\\n",
       "0         2          1    0       0     151      58   72     4     3   \n",
       "1         2          1    1       1     162      60   68     5     2   \n",
       "2         2          1    0       4     162      75   78     3     1   \n",
       "3         2          1    0       0     154      45   91     0     4   \n",
       "4         2          1    2       1     154      50   65     5     3   \n",
       "..      ...        ...  ...     ...     ...     ...  ...   ...   ...   \n",
       "221       2          1    0       1     160      73   74     4     3   \n",
       "222       2          2    0       3     163      62   68     4     3   \n",
       "223       1          2    0       2     170      74   71     4     3   \n",
       "224       2          1    0       2     154      45   77     4     3   \n",
       "225       2          2    2       0     159      63   69     3     3   \n",
       "\n",
       "     raw_fruit  cooked_fruit_veg  chocol  fat  \n",
       "0            1                 4       5    6  \n",
       "1            5                 5       1    4  \n",
       "2            5                 2       5    4  \n",
       "3            4                 0       3    2  \n",
       "4            5                 5       3    2  \n",
       "..         ...               ...     ...  ...  \n",
       "221          5                 5       1    6  \n",
       "222          4                 4       1    3  \n",
       "223          4                 4       1    3  \n",
       "224          3                 5       3    5  \n",
       "225          5                 5       1    4  \n",
       "\n",
       "[226 rows x 13 columns]"
      ]
     },
     "execution_count": 57,
     "metadata": {},
     "output_type": "execute_result"
    }
   ],
   "source": [
    "nutri"
   ]
  },
  {
   "cell_type": "code",
   "execution_count": 58,
   "id": "89f15936",
   "metadata": {},
   "outputs": [
    {
     "data": {
      "text/html": [
       "<div>\n",
       "<style scoped>\n",
       "    .dataframe tbody tr th:only-of-type {\n",
       "        vertical-align: middle;\n",
       "    }\n",
       "\n",
       "    .dataframe tbody tr th {\n",
       "        vertical-align: top;\n",
       "    }\n",
       "\n",
       "    .dataframe thead th {\n",
       "        text-align: right;\n",
       "    }\n",
       "</style>\n",
       "<table border=\"1\" class=\"dataframe\">\n",
       "  <thead>\n",
       "    <tr style=\"text-align: right;\">\n",
       "      <th></th>\n",
       "      <th>gender</th>\n",
       "      <th>situation</th>\n",
       "      <th>tea</th>\n",
       "      <th>coffee</th>\n",
       "      <th>height</th>\n",
       "      <th>weight</th>\n",
       "      <th>age</th>\n",
       "      <th>meat</th>\n",
       "      <th>fish</th>\n",
       "      <th>raw_fruit</th>\n",
       "      <th>cooked_fruit_veg</th>\n",
       "      <th>chocol</th>\n",
       "      <th>fat</th>\n",
       "    </tr>\n",
       "  </thead>\n",
       "  <tbody>\n",
       "    <tr>\n",
       "      <th>0</th>\n",
       "      <td>2</td>\n",
       "      <td>1</td>\n",
       "      <td>0</td>\n",
       "      <td>0</td>\n",
       "      <td>151</td>\n",
       "      <td>58</td>\n",
       "      <td>72</td>\n",
       "      <td>4</td>\n",
       "      <td>3</td>\n",
       "      <td>1</td>\n",
       "      <td>4</td>\n",
       "      <td>5</td>\n",
       "      <td>6</td>\n",
       "    </tr>\n",
       "    <tr>\n",
       "      <th>1</th>\n",
       "      <td>2</td>\n",
       "      <td>1</td>\n",
       "      <td>1</td>\n",
       "      <td>1</td>\n",
       "      <td>162</td>\n",
       "      <td>60</td>\n",
       "      <td>68</td>\n",
       "      <td>5</td>\n",
       "      <td>2</td>\n",
       "      <td>5</td>\n",
       "      <td>5</td>\n",
       "      <td>1</td>\n",
       "      <td>4</td>\n",
       "    </tr>\n",
       "    <tr>\n",
       "      <th>2</th>\n",
       "      <td>2</td>\n",
       "      <td>1</td>\n",
       "      <td>0</td>\n",
       "      <td>4</td>\n",
       "      <td>162</td>\n",
       "      <td>75</td>\n",
       "      <td>78</td>\n",
       "      <td>3</td>\n",
       "      <td>1</td>\n",
       "      <td>5</td>\n",
       "      <td>2</td>\n",
       "      <td>5</td>\n",
       "      <td>4</td>\n",
       "    </tr>\n",
       "  </tbody>\n",
       "</table>\n",
       "</div>"
      ],
      "text/plain": [
       "   gender  situation  tea  coffee  height  weight  age  meat  fish  raw_fruit  \\\n",
       "0       2          1    0       0     151      58   72     4     3          1   \n",
       "1       2          1    1       1     162      60   68     5     2          5   \n",
       "2       2          1    0       4     162      75   78     3     1          5   \n",
       "\n",
       "   cooked_fruit_veg  chocol  fat  \n",
       "0                 4       5    6  \n",
       "1                 5       1    4  \n",
       "2                 2       5    4  "
      ]
     },
     "execution_count": 58,
     "metadata": {},
     "output_type": "execute_result"
    }
   ],
   "source": [
    "nutri.head(3)"
   ]
  },
  {
   "cell_type": "code",
   "execution_count": 59,
   "id": "5fef05cd",
   "metadata": {},
   "outputs": [
    {
     "name": "stdout",
     "output_type": "stream",
     "text": [
      "<class 'pandas.core.frame.DataFrame'>\n",
      "RangeIndex: 226 entries, 0 to 225\n",
      "Data columns (total 13 columns):\n",
      " #   Column            Non-Null Count  Dtype\n",
      "---  ------            --------------  -----\n",
      " 0   gender            226 non-null    int64\n",
      " 1   situation         226 non-null    int64\n",
      " 2   tea               226 non-null    int64\n",
      " 3   coffee            226 non-null    int64\n",
      " 4   height            226 non-null    int64\n",
      " 5   weight            226 non-null    int64\n",
      " 6   age               226 non-null    int64\n",
      " 7   meat              226 non-null    int64\n",
      " 8   fish              226 non-null    int64\n",
      " 9   raw_fruit         226 non-null    int64\n",
      " 10  cooked_fruit_veg  226 non-null    int64\n",
      " 11  chocol            226 non-null    int64\n",
      " 12  fat               226 non-null    int64\n",
      "dtypes: int64(13)\n",
      "memory usage: 23.1 KB\n"
     ]
    }
   ],
   "source": [
    "nutri.info()"
   ]
  },
  {
   "cell_type": "code",
   "execution_count": 60,
   "id": "02c4f214",
   "metadata": {},
   "outputs": [],
   "source": [
    "DICT = {1: 'Male', 2: 'Female'}\n",
    "nutri['gender'] = nutri['gender'].replace(DICT).astype('category')"
   ]
  },
  {
   "cell_type": "code",
   "execution_count": 61,
   "id": "bd66f802",
   "metadata": {},
   "outputs": [],
   "source": [
    "nutri['height'] = nutri['height'].astype(float)"
   ]
  },
  {
   "cell_type": "code",
   "execution_count": 62,
   "id": "35b958d3",
   "metadata": {},
   "outputs": [],
   "source": [
    "DICT2 = {1:'Single', 2:'Living with spouse', 3: 'Living with Family', 4: 'Living with someone else'}"
   ]
  },
  {
   "cell_type": "code",
   "execution_count": 63,
   "id": "acfb8211",
   "metadata": {},
   "outputs": [],
   "source": [
    "nutri['situation'] = nutri['situation'].replace(DICT2).astype('category')"
   ]
  },
  {
   "cell_type": "code",
   "execution_count": 64,
   "id": "eacc935d",
   "metadata": {},
   "outputs": [],
   "source": [
    "DICT3 = {1:'Butter', 2: 'Margarine', 3: 'Peanut Oil', 4: 'Sunflower Oil', 5: 'Olive Oil', 6: 'Mix of vegetable oils', 7: 'colza oil', 8: 'Duck or goose fat'}"
   ]
  },
  {
   "cell_type": "code",
   "execution_count": 65,
   "id": "391984db",
   "metadata": {},
   "outputs": [],
   "source": [
    "nutri['fat'] = nutri['fat'].replace(DICT3).astype('category')"
   ]
  },
  {
   "cell_type": "code",
   "execution_count": 66,
   "id": "907192bc",
   "metadata": {},
   "outputs": [],
   "source": [
    "nutri.to_csv('nutri.csv', index=False)"
   ]
  },
  {
   "cell_type": "code",
   "execution_count": 67,
   "id": "07abd1a5",
   "metadata": {},
   "outputs": [
    {
     "data": {
      "text/html": [
       "<div>\n",
       "<style scoped>\n",
       "    .dataframe tbody tr th:only-of-type {\n",
       "        vertical-align: middle;\n",
       "    }\n",
       "\n",
       "    .dataframe tbody tr th {\n",
       "        vertical-align: top;\n",
       "    }\n",
       "\n",
       "    .dataframe thead th {\n",
       "        text-align: right;\n",
       "    }\n",
       "</style>\n",
       "<table border=\"1\" class=\"dataframe\">\n",
       "  <thead>\n",
       "    <tr style=\"text-align: right;\">\n",
       "      <th></th>\n",
       "      <th>gender</th>\n",
       "      <th>situation</th>\n",
       "      <th>tea</th>\n",
       "      <th>coffee</th>\n",
       "      <th>height</th>\n",
       "      <th>weight</th>\n",
       "      <th>age</th>\n",
       "      <th>meat</th>\n",
       "      <th>fish</th>\n",
       "      <th>raw_fruit</th>\n",
       "      <th>cooked_fruit_veg</th>\n",
       "      <th>chocol</th>\n",
       "      <th>fat</th>\n",
       "    </tr>\n",
       "  </thead>\n",
       "  <tbody>\n",
       "    <tr>\n",
       "      <th>0</th>\n",
       "      <td>Female</td>\n",
       "      <td>Single</td>\n",
       "      <td>0</td>\n",
       "      <td>0</td>\n",
       "      <td>151.0</td>\n",
       "      <td>58</td>\n",
       "      <td>72</td>\n",
       "      <td>4</td>\n",
       "      <td>3</td>\n",
       "      <td>1</td>\n",
       "      <td>4</td>\n",
       "      <td>5</td>\n",
       "      <td>Mix of vegetable oils</td>\n",
       "    </tr>\n",
       "    <tr>\n",
       "      <th>1</th>\n",
       "      <td>Female</td>\n",
       "      <td>Single</td>\n",
       "      <td>1</td>\n",
       "      <td>1</td>\n",
       "      <td>162.0</td>\n",
       "      <td>60</td>\n",
       "      <td>68</td>\n",
       "      <td>5</td>\n",
       "      <td>2</td>\n",
       "      <td>5</td>\n",
       "      <td>5</td>\n",
       "      <td>1</td>\n",
       "      <td>Sunflower Oil</td>\n",
       "    </tr>\n",
       "    <tr>\n",
       "      <th>2</th>\n",
       "      <td>Female</td>\n",
       "      <td>Single</td>\n",
       "      <td>0</td>\n",
       "      <td>4</td>\n",
       "      <td>162.0</td>\n",
       "      <td>75</td>\n",
       "      <td>78</td>\n",
       "      <td>3</td>\n",
       "      <td>1</td>\n",
       "      <td>5</td>\n",
       "      <td>2</td>\n",
       "      <td>5</td>\n",
       "      <td>Sunflower Oil</td>\n",
       "    </tr>\n",
       "    <tr>\n",
       "      <th>3</th>\n",
       "      <td>Female</td>\n",
       "      <td>Single</td>\n",
       "      <td>0</td>\n",
       "      <td>0</td>\n",
       "      <td>154.0</td>\n",
       "      <td>45</td>\n",
       "      <td>91</td>\n",
       "      <td>0</td>\n",
       "      <td>4</td>\n",
       "      <td>4</td>\n",
       "      <td>0</td>\n",
       "      <td>3</td>\n",
       "      <td>Margarine</td>\n",
       "    </tr>\n",
       "    <tr>\n",
       "      <th>4</th>\n",
       "      <td>Female</td>\n",
       "      <td>Single</td>\n",
       "      <td>2</td>\n",
       "      <td>1</td>\n",
       "      <td>154.0</td>\n",
       "      <td>50</td>\n",
       "      <td>65</td>\n",
       "      <td>5</td>\n",
       "      <td>3</td>\n",
       "      <td>5</td>\n",
       "      <td>5</td>\n",
       "      <td>3</td>\n",
       "      <td>Margarine</td>\n",
       "    </tr>\n",
       "    <tr>\n",
       "      <th>...</th>\n",
       "      <td>...</td>\n",
       "      <td>...</td>\n",
       "      <td>...</td>\n",
       "      <td>...</td>\n",
       "      <td>...</td>\n",
       "      <td>...</td>\n",
       "      <td>...</td>\n",
       "      <td>...</td>\n",
       "      <td>...</td>\n",
       "      <td>...</td>\n",
       "      <td>...</td>\n",
       "      <td>...</td>\n",
       "      <td>...</td>\n",
       "    </tr>\n",
       "    <tr>\n",
       "      <th>221</th>\n",
       "      <td>Female</td>\n",
       "      <td>Single</td>\n",
       "      <td>0</td>\n",
       "      <td>1</td>\n",
       "      <td>160.0</td>\n",
       "      <td>73</td>\n",
       "      <td>74</td>\n",
       "      <td>4</td>\n",
       "      <td>3</td>\n",
       "      <td>5</td>\n",
       "      <td>5</td>\n",
       "      <td>1</td>\n",
       "      <td>Mix of vegetable oils</td>\n",
       "    </tr>\n",
       "    <tr>\n",
       "      <th>222</th>\n",
       "      <td>Female</td>\n",
       "      <td>Living with spouse</td>\n",
       "      <td>0</td>\n",
       "      <td>3</td>\n",
       "      <td>163.0</td>\n",
       "      <td>62</td>\n",
       "      <td>68</td>\n",
       "      <td>4</td>\n",
       "      <td>3</td>\n",
       "      <td>4</td>\n",
       "      <td>4</td>\n",
       "      <td>1</td>\n",
       "      <td>Peanut Oil</td>\n",
       "    </tr>\n",
       "    <tr>\n",
       "      <th>223</th>\n",
       "      <td>Male</td>\n",
       "      <td>Living with spouse</td>\n",
       "      <td>0</td>\n",
       "      <td>2</td>\n",
       "      <td>170.0</td>\n",
       "      <td>74</td>\n",
       "      <td>71</td>\n",
       "      <td>4</td>\n",
       "      <td>3</td>\n",
       "      <td>4</td>\n",
       "      <td>4</td>\n",
       "      <td>1</td>\n",
       "      <td>Peanut Oil</td>\n",
       "    </tr>\n",
       "    <tr>\n",
       "      <th>224</th>\n",
       "      <td>Female</td>\n",
       "      <td>Single</td>\n",
       "      <td>0</td>\n",
       "      <td>2</td>\n",
       "      <td>154.0</td>\n",
       "      <td>45</td>\n",
       "      <td>77</td>\n",
       "      <td>4</td>\n",
       "      <td>3</td>\n",
       "      <td>3</td>\n",
       "      <td>5</td>\n",
       "      <td>3</td>\n",
       "      <td>Olive Oil</td>\n",
       "    </tr>\n",
       "    <tr>\n",
       "      <th>225</th>\n",
       "      <td>Female</td>\n",
       "      <td>Living with spouse</td>\n",
       "      <td>2</td>\n",
       "      <td>0</td>\n",
       "      <td>159.0</td>\n",
       "      <td>63</td>\n",
       "      <td>69</td>\n",
       "      <td>3</td>\n",
       "      <td>3</td>\n",
       "      <td>5</td>\n",
       "      <td>5</td>\n",
       "      <td>1</td>\n",
       "      <td>Sunflower Oil</td>\n",
       "    </tr>\n",
       "  </tbody>\n",
       "</table>\n",
       "<p>226 rows × 13 columns</p>\n",
       "</div>"
      ],
      "text/plain": [
       "     gender           situation  tea  coffee  height  weight  age  meat  fish  \\\n",
       "0    Female              Single    0       0   151.0      58   72     4     3   \n",
       "1    Female              Single    1       1   162.0      60   68     5     2   \n",
       "2    Female              Single    0       4   162.0      75   78     3     1   \n",
       "3    Female              Single    0       0   154.0      45   91     0     4   \n",
       "4    Female              Single    2       1   154.0      50   65     5     3   \n",
       "..      ...                 ...  ...     ...     ...     ...  ...   ...   ...   \n",
       "221  Female              Single    0       1   160.0      73   74     4     3   \n",
       "222  Female  Living with spouse    0       3   163.0      62   68     4     3   \n",
       "223    Male  Living with spouse    0       2   170.0      74   71     4     3   \n",
       "224  Female              Single    0       2   154.0      45   77     4     3   \n",
       "225  Female  Living with spouse    2       0   159.0      63   69     3     3   \n",
       "\n",
       "     raw_fruit  cooked_fruit_veg  chocol                    fat  \n",
       "0            1                 4       5  Mix of vegetable oils  \n",
       "1            5                 5       1          Sunflower Oil  \n",
       "2            5                 2       5          Sunflower Oil  \n",
       "3            4                 0       3              Margarine  \n",
       "4            5                 5       3              Margarine  \n",
       "..         ...               ...     ...                    ...  \n",
       "221          5                 5       1  Mix of vegetable oils  \n",
       "222          4                 4       1             Peanut Oil  \n",
       "223          4                 4       1             Peanut Oil  \n",
       "224          3                 5       3              Olive Oil  \n",
       "225          5                 5       1          Sunflower Oil  \n",
       "\n",
       "[226 rows x 13 columns]"
      ]
     },
     "execution_count": 67,
     "metadata": {},
     "output_type": "execute_result"
    }
   ],
   "source": [
    "pd.read_csv('nutri.csv')"
   ]
  },
  {
   "cell_type": "markdown",
   "id": "4a120774",
   "metadata": {},
   "source": [
    "# 1.3 Summary Tables"
   ]
  },
  {
   "cell_type": "code",
   "execution_count": 68,
   "id": "a6929867",
   "metadata": {},
   "outputs": [
    {
     "data": {
      "text/plain": [
       "count               226\n",
       "unique                8\n",
       "top       Sunflower Oil\n",
       "freq                 68\n",
       "Name: fat, dtype: object"
      ]
     },
     "execution_count": 68,
     "metadata": {},
     "output_type": "execute_result"
    }
   ],
   "source": [
    "nutri = pd.read_csv('nutri.csv')\n",
    "nutri['fat'].describe()"
   ]
  },
  {
   "cell_type": "code",
   "execution_count": 69,
   "id": "9bac313c",
   "metadata": {},
   "outputs": [
    {
     "data": {
      "text/plain": [
       "Sunflower Oil            68\n",
       "Peanut Oil               48\n",
       "Olive Oil                40\n",
       "Margarine                27\n",
       "Mix of vegetable oils    23\n",
       "Butter                   15\n",
       "Duck or goose fat         4\n",
       "colza oil                 1\n",
       "Name: fat, dtype: int64"
      ]
     },
     "execution_count": 69,
     "metadata": {},
     "output_type": "execute_result"
    }
   ],
   "source": [
    "nutri['fat'].value_counts()\n",
    "\n",
    "# Shows the different entries in the column fat. It should be noted that the type of data here is qualitative."
   ]
  },
  {
   "cell_type": "code",
   "execution_count": 70,
   "id": "c7c23a08",
   "metadata": {},
   "outputs": [
    {
     "data": {
      "text/html": [
       "<div>\n",
       "<style scoped>\n",
       "    .dataframe tbody tr th:only-of-type {\n",
       "        vertical-align: middle;\n",
       "    }\n",
       "\n",
       "    .dataframe tbody tr th {\n",
       "        vertical-align: top;\n",
       "    }\n",
       "\n",
       "    .dataframe thead th {\n",
       "        text-align: right;\n",
       "    }\n",
       "</style>\n",
       "<table border=\"1\" class=\"dataframe\">\n",
       "  <thead>\n",
       "    <tr style=\"text-align: right;\">\n",
       "      <th>situation</th>\n",
       "      <th>Living with Family</th>\n",
       "      <th>Living with spouse</th>\n",
       "      <th>Single</th>\n",
       "    </tr>\n",
       "    <tr>\n",
       "      <th>gender</th>\n",
       "      <th></th>\n",
       "      <th></th>\n",
       "      <th></th>\n",
       "    </tr>\n",
       "  </thead>\n",
       "  <tbody>\n",
       "    <tr>\n",
       "      <th>Female</th>\n",
       "      <td>7</td>\n",
       "      <td>56</td>\n",
       "      <td>78</td>\n",
       "    </tr>\n",
       "    <tr>\n",
       "      <th>Male</th>\n",
       "      <td>2</td>\n",
       "      <td>63</td>\n",
       "      <td>20</td>\n",
       "    </tr>\n",
       "  </tbody>\n",
       "</table>\n",
       "</div>"
      ],
      "text/plain": [
       "situation  Living with Family  Living with spouse  Single\n",
       "gender                                                   \n",
       "Female                      7                  56      78\n",
       "Male                        2                  63      20"
      ]
     },
     "execution_count": 70,
     "metadata": {},
     "output_type": "execute_result"
    }
   ],
   "source": [
    "pd.crosstab(nutri.gender, nutri.situation)\n",
    "\n",
    "# This creates a contingency table that cross tabulates between two or more variables. In this case it is gender and living situation"
   ]
  },
  {
   "cell_type": "code",
   "execution_count": 71,
   "id": "1bbb3084",
   "metadata": {},
   "outputs": [
    {
     "data": {
      "text/html": [
       "<div>\n",
       "<style scoped>\n",
       "    .dataframe tbody tr th:only-of-type {\n",
       "        vertical-align: middle;\n",
       "    }\n",
       "\n",
       "    .dataframe tbody tr th {\n",
       "        vertical-align: top;\n",
       "    }\n",
       "\n",
       "    .dataframe thead th {\n",
       "        text-align: right;\n",
       "    }\n",
       "</style>\n",
       "<table border=\"1\" class=\"dataframe\">\n",
       "  <thead>\n",
       "    <tr style=\"text-align: right;\">\n",
       "      <th>situation</th>\n",
       "      <th>Living with Family</th>\n",
       "      <th>Living with spouse</th>\n",
       "      <th>Single</th>\n",
       "      <th>All</th>\n",
       "    </tr>\n",
       "    <tr>\n",
       "      <th>gender</th>\n",
       "      <th></th>\n",
       "      <th></th>\n",
       "      <th></th>\n",
       "      <th></th>\n",
       "    </tr>\n",
       "  </thead>\n",
       "  <tbody>\n",
       "    <tr>\n",
       "      <th>Female</th>\n",
       "      <td>7</td>\n",
       "      <td>56</td>\n",
       "      <td>78</td>\n",
       "      <td>141</td>\n",
       "    </tr>\n",
       "    <tr>\n",
       "      <th>Male</th>\n",
       "      <td>2</td>\n",
       "      <td>63</td>\n",
       "      <td>20</td>\n",
       "      <td>85</td>\n",
       "    </tr>\n",
       "    <tr>\n",
       "      <th>All</th>\n",
       "      <td>9</td>\n",
       "      <td>119</td>\n",
       "      <td>98</td>\n",
       "      <td>226</td>\n",
       "    </tr>\n",
       "  </tbody>\n",
       "</table>\n",
       "</div>"
      ],
      "text/plain": [
       "situation  Living with Family  Living with spouse  Single  All\n",
       "gender                                                        \n",
       "Female                      7                  56      78  141\n",
       "Male                        2                  63      20   85\n",
       "All                         9                 119      98  226"
      ]
     },
     "execution_count": 71,
     "metadata": {},
     "output_type": "execute_result"
    }
   ],
   "source": [
    "pd.crosstab(nutri.gender, nutri.situation, margins=True)\n",
    "\n",
    "# This adds totals to the table"
   ]
  },
  {
   "cell_type": "markdown",
   "id": "da392f46",
   "metadata": {},
   "source": [
    "# 1.4 Summary Statistics"
   ]
  },
  {
   "cell_type": "markdown",
   "id": "91c9b34f",
   "metadata": {},
   "source": [
    "The mean or average $\\bar{x}$ of some data values $x_i$ is given by \n",
    "\n",
    "$\\bar{x} = \\frac{1}{n} \\sum_{i=1}^{n}x_i$ \n",
    "\n",
    "where n is the total number of data points."
   ]
  },
  {
   "cell_type": "code",
   "execution_count": 72,
   "id": "1c0f0eba",
   "metadata": {},
   "outputs": [
    {
     "data": {
      "text/plain": [
       "163.96017699115043"
      ]
     },
     "execution_count": 72,
     "metadata": {},
     "output_type": "execute_result"
    }
   ],
   "source": [
    "nutri.height.mean()\n",
    "\n",
    "# This simply returns the average height"
   ]
  },
  {
   "cell_type": "code",
   "execution_count": 73,
   "id": "4e68f58d",
   "metadata": {},
   "outputs": [
    {
     "data": {
      "text/plain": [
       "0.25    157.0\n",
       "0.50    163.0\n",
       "0.75    170.0\n",
       "Name: height, dtype: float64"
      ]
     },
     "execution_count": 73,
     "metadata": {},
     "output_type": "execute_result"
    }
   ],
   "source": [
    "nutri['height'].quantile(q=[0.25, 0.5, 0.75])\n",
    "\n",
    "# This gives us the first, second and third quartiles of the data.\n",
    "# What this tells us is that 25% of the people have a height that is less than or equal to 157cm.\n",
    "# Similarly, half the people have a height less than 163 cm and three-quarters have a height less than 170 cm."
   ]
  },
  {
   "cell_type": "markdown",
   "id": "2f7a8872",
   "metadata": {},
   "source": [
    "The mean and median give us information about the location of the data where as the variance, the standard deviation, range and the distance between quantiles all give us information about the dispersion of the data. We can find these for the nutri data as follows"
   ]
  },
  {
   "cell_type": "code",
   "execution_count": 74,
   "id": "e315a03a",
   "metadata": {},
   "outputs": [
    {
     "data": {
      "text/plain": [
       "48.0"
      ]
     },
     "execution_count": 74,
     "metadata": {},
     "output_type": "execute_result"
    }
   ],
   "source": [
    "nutri['height'].max() - nutri['height'].min()\n",
    "\n",
    "# Gives the range in cm"
   ]
  },
  {
   "cell_type": "code",
   "execution_count": 75,
   "id": "c0f63de9",
   "metadata": {},
   "outputs": [
    {
     "data": {
      "text/plain": [
       "81.06"
      ]
     },
     "execution_count": 75,
     "metadata": {},
     "output_type": "execute_result"
    }
   ],
   "source": [
    "round(nutri['height'].var(), 2)\n",
    "\n",
    "# Gives the variance to 2 decimal places"
   ]
  },
  {
   "cell_type": "code",
   "execution_count": 76,
   "id": "8c439b88",
   "metadata": {},
   "outputs": [
    {
     "data": {
      "text/plain": [
       "9.0"
      ]
     },
     "execution_count": 76,
     "metadata": {},
     "output_type": "execute_result"
    }
   ],
   "source": [
    "round(nutri['height'].std(), 2)\n",
    "\n",
    "# Gives the standard deviation to 2 decimal places"
   ]
  },
  {
   "cell_type": "code",
   "execution_count": 77,
   "id": "6b23f3b9",
   "metadata": {},
   "outputs": [
    {
     "data": {
      "text/plain": [
       "count    226.000000\n",
       "mean     163.960177\n",
       "std        9.003368\n",
       "min      140.000000\n",
       "25%      157.000000\n",
       "50%      163.000000\n",
       "75%      170.000000\n",
       "max      188.000000\n",
       "Name: height, dtype: float64"
      ]
     },
     "execution_count": 77,
     "metadata": {},
     "output_type": "execute_result"
    }
   ],
   "source": [
    "nutri['height'].describe()\n",
    "\n",
    "# Gives us a summary about the height column"
   ]
  },
  {
   "cell_type": "markdown",
   "id": "f67d0ca7",
   "metadata": {},
   "source": [
    "# 1.5 Visualising Data"
   ]
  },
  {
   "cell_type": "markdown",
   "id": "619a119f",
   "metadata": {},
   "source": [
    "## Plotting Qualitative Variables"
   ]
  },
  {
   "cell_type": "code",
   "execution_count": 78,
   "id": "044a38f3",
   "metadata": {},
   "outputs": [
    {
     "data": {
      "image/png": "[encoded data removed]",
      "text/plain": [
       "<Figure size 432x288 with 1 Axes>"
      ]
     },
     "metadata": {
      "needs_background": "light"
     },
     "output_type": "display_data"
    }
   ],
   "source": [
    "width = 0.35\n",
    "x = [0, 0.8, 1.6]\n",
    "situation_counts=nutri['situation'].value_counts()\n",
    "plt.bar(x, situation_counts, width, edgecolor = 'black')\n",
    "plt.xticks(x, situation_counts.index)\n",
    "plt.show()"
   ]
  },
  {
   "cell_type": "markdown",
   "id": "aa345b59",
   "metadata": {},
   "source": [
    "# Plotting Quantitative Variables"
   ]
  },
  {
   "cell_type": "code",
   "execution_count": 79,
   "id": "03866e43",
   "metadata": {},
   "outputs": [
    {
     "data": {
      "image/png": "[encoded data removed]",
      "text/plain": [
       "<Figure size 432x288 with 1 Axes>"
      ]
     },
     "metadata": {
      "needs_background": "light"
     },
     "output_type": "display_data"
    }
   ],
   "source": [
    "plt.boxplot(nutri['age'], widths=width, vert=False)\n",
    "plt.xlabel('age')\n",
    "plt.show()\n",
    "\n",
    "# Here vert=False plots the boxplot horizontally. \n",
    "# This boxplot summarises the data using 5 quantitaties, min, max, first, second, and third quantiles. \n",
    "# We can also see the location of the median from the red vertical line."
   ]
  },
  {
   "cell_type": "code",
   "execution_count": 80,
   "id": "c955be0d",
   "metadata": {},
   "outputs": [
    {
     "data": {
      "image/png": "[encoded data removed]",
      "text/plain": [
       "<Figure size 432x288 with 1 Axes>"
      ]
     },
     "metadata": {
      "needs_background": "light"
     },
     "output_type": "display_data"
    }
   ],
   "source": [
    "weights = np.ones_like(nutri.age)/nutri['age'].count()\n",
    "plt.hist(nutri.age, bins=9, weights=weights, facecolor = 'blue', edgecolor='black', linewidth=1)\n",
    "plt.xlabel('age')\n",
    "plt.ylabel('Proportion of Total')\n",
    "plt.show()\n",
    "\n",
    "# The first line creates an array of the proportion of the ages of the total."
   ]
  },
  {
   "cell_type": "markdown",
   "id": "36e1ba7c",
   "metadata": {},
   "source": [
    "# Bivariate Data Visualisation"
   ]
  },
  {
   "cell_type": "code",
   "execution_count": 81,
   "id": "3a21ed40",
   "metadata": {},
   "outputs": [
    {
     "data": {
      "image/png": "[encoded data removed]",
      "text/plain": [
       "<Figure size 432x288 with 1 Axes>"
      ]
     },
     "metadata": {
      "needs_background": "light"
     },
     "output_type": "display_data"
    }
   ],
   "source": [
    "sns.countplot(x='situation', hue = 'gender', data=nutri, palette = ['skyblue', 'pink'])\n",
    "plt.legend(loc='upper right')\n",
    "plt.xlabel('')\n",
    "plt.ylabel('Counts')\n",
    "plt.ylim(0,80)\n",
    "plt.show()"
   ]
  },
  {
   "cell_type": "code",
   "execution_count": 82,
   "id": "9bdefbfa",
   "metadata": {},
   "outputs": [
    {
     "data": {
      "image/png": "[encoded data removed]",
      "text/plain": [
       "<Figure size 432x288 with 1 Axes>"
      ]
     },
     "metadata": {
      "needs_background": "light"
     },
     "output_type": "display_data"
    }
   ],
   "source": [
    "plt.scatter(nutri.height, nutri.weight, s=14, marker='o')\n",
    "plt.xlabel('height', fontsize=14)\n",
    "plt.ylabel('weight', fontsize = 14)\n",
    "plt.show()"
   ]
  },
  {
   "cell_type": "code",
   "execution_count": 83,
   "id": "803551de",
   "metadata": {},
   "outputs": [
    {
     "data": {
      "image/png": "[encoded data removed]",
      "text/plain": [
       "<Figure size 432x288 with 1 Axes>"
      ]
     },
     "metadata": {
      "needs_background": "light"
     },
     "output_type": "display_data"
    }
   ],
   "source": [
    "males = nutri[nutri.gender == 'Male']\n",
    "females = nutri[nutri.gender == 'Female']\n",
    "plt.boxplot ([ males.coffee ,females.coffee],notch=True ,widths\n",
    "=(0.5 ,0.5))\n",
    "plt.xlabel('gender')\n",
    "plt.ylabel('coffee')\n",
    "plt.xticks ([1 ,2] ,['Male','Female'])\n",
    "plt.show ()"
   ]
  }
 ],
 "metadata": {
  "kernelspec": {
   "display_name": "Python 3 (ipykernel)",
   "language": "python",
   "name": "python3"
  },
  "language_info": {
   "codemirror_mode": {
    "name": "ipython",
    "version": 3
   },
   "file_extension": ".py",
   "mimetype": "text/x-python",
   "name": "python",
   "nbconvert_exporter": "python",
   "pygments_lexer": "ipython3",
   "version": "3.9.6"
  }
 },
 "nbformat": 4,
 "nbformat_minor": 5
}
