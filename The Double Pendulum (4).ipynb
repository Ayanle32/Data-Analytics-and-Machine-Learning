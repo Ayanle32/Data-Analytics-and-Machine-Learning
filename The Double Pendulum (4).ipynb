{
 "cells": [
  {
   "cell_type": "code",
   "execution_count": 1,
   "id": "30b2ffc2",
   "metadata": {},
   "outputs": [],
   "source": [
    "import sympy as sp\n",
    "import numpy as np\n",
    "from matplotlib import pyplot as plt"
   ]
  },
  {
   "cell_type": "markdown",
   "id": "6c9c9eaf",
   "metadata": {},
   "source": [
    "### Defining Symbols"
   ]
  },
  {
   "cell_type": "code",
   "execution_count": 2,
   "id": "be3f325a",
   "metadata": {},
   "outputs": [],
   "source": [
    "l1,l2,m1,m2,g,t = sp.symbols('l1,l2,m1,m2,g,t')"
   ]
  },
  {
   "cell_type": "markdown",
   "id": "4fa66269",
   "metadata": {},
   "source": [
    "### Defining the Functions"
   ]
  },
  {
   "cell_type": "code",
   "execution_count": 3,
   "id": "1434f2c0",
   "metadata": {},
   "outputs": [],
   "source": [
    "phi1 = sp.Function(r'\\phi_1')\n",
    "phi2 = sp.Function(r'\\phi_2')\n",
    "phi1_d = sp.diff(phi1(t), t)\n",
    "phi2_d = sp.diff(phi2(t), t)\n",
    "phi1_dd = sp.diff(phi1_d, t)\n",
    "phi2_dd = sp.diff(phi2_d, t)"
   ]
  },
  {
   "cell_type": "markdown",
   "id": "8b8dbdb5",
   "metadata": {},
   "source": [
    "### Generalised coordinates"
   ]
  },
  {
   "cell_type": "code",
   "execution_count": 4,
   "id": "37ed0d3e",
   "metadata": {},
   "outputs": [],
   "source": [
    "x1 = l1*sp.cos(phi1(t))\n",
    "x2 = x1 + l2*sp.cos(phi2(t))\n",
    "y1 = l1*sp.sin(phi1(t))\n",
    "y2 = y1 + l2*sp.sin(phi2(t))\n",
    "x1d = sp.diff(x1, t)\n",
    "x2d = sp.diff(x2, t)\n",
    "y1d = sp.diff(y1, t)\n",
    "y2d = sp.diff(y2, t)"
   ]
  },
  {
   "cell_type": "markdown",
   "id": "7767ea5d",
   "metadata": {},
   "source": [
    "### Defining the Lagrangian"
   ]
  },
  {
   "cell_type": "code",
   "execution_count": 5,
   "id": "64197017",
   "metadata": {},
   "outputs": [
    {
     "data": {
      "text/latex": [
       "$\\displaystyle g l_{1} m_{1} \\sin{\\left(\\phi_{1}{\\left(t \\right)} \\right)} + g m_{2} \\left(l_{1} \\sin{\\left(\\phi_{1}{\\left(t \\right)} \\right)} + l_{2} \\sin{\\left(\\phi_{2}{\\left(t \\right)} \\right)}\\right) + 0.5 m_{1} \\left(l_{1}^{2} \\sin^{2}{\\left(\\phi_{1}{\\left(t \\right)} \\right)} \\left(\\frac{d}{d t} \\phi_{1}{\\left(t \\right)}\\right)^{2} + l_{1}^{2} \\cos^{2}{\\left(\\phi_{1}{\\left(t \\right)} \\right)} \\left(\\frac{d}{d t} \\phi_{1}{\\left(t \\right)}\\right)^{2}\\right) + 0.5 m_{2} \\left(\\left(- l_{1} \\sin{\\left(\\phi_{1}{\\left(t \\right)} \\right)} \\frac{d}{d t} \\phi_{1}{\\left(t \\right)} - l_{2} \\sin{\\left(\\phi_{2}{\\left(t \\right)} \\right)} \\frac{d}{d t} \\phi_{2}{\\left(t \\right)}\\right)^{2} + \\left(l_{1} \\cos{\\left(\\phi_{1}{\\left(t \\right)} \\right)} \\frac{d}{d t} \\phi_{1}{\\left(t \\right)} + l_{2} \\cos{\\left(\\phi_{2}{\\left(t \\right)} \\right)} \\frac{d}{d t} \\phi_{2}{\\left(t \\right)}\\right)^{2}\\right)$"
      ],
      "text/plain": [
       "g*l1*m1*sin(\\phi_1(t)) + g*m2*(l1*sin(\\phi_1(t)) + l2*sin(\\phi_2(t))) + 0.5*m1*(l1**2*sin(\\phi_1(t))**2*Derivative(\\phi_1(t), t)**2 + l1**2*cos(\\phi_1(t))**2*Derivative(\\phi_1(t), t)**2) + 0.5*m2*((-l1*sin(\\phi_1(t))*Derivative(\\phi_1(t), t) - l2*sin(\\phi_2(t))*Derivative(\\phi_2(t), t))**2 + (l1*cos(\\phi_1(t))*Derivative(\\phi_1(t), t) + l2*cos(\\phi_2(t))*Derivative(\\phi_2(t), t))**2)"
      ]
     },
     "execution_count": 5,
     "metadata": {},
     "output_type": "execute_result"
    }
   ],
   "source": [
    "T = 1/2*m1*(x1d**2 + y1d**2) + 1/2*m2*(x2d**2 + y2d**2)\n",
    "V = -m1*g*y1 - m2*g*y2\n",
    "L = T - V\n",
    "L"
   ]
  },
  {
   "cell_type": "markdown",
   "id": "4049737e",
   "metadata": {},
   "source": [
    "### Defining the Euler-Lagrange Equations"
   ]
  },
  {
   "cell_type": "code",
   "execution_count": 6,
   "id": "a052c97c",
   "metadata": {},
   "outputs": [
    {
     "data": {
      "text/latex": [
       "$\\displaystyle g l_{2} m_{2} \\cos{\\left(\\phi_{2}{\\left(t \\right)} \\right)} - 1.0 l_{2} m_{2} \\left(- l_{1} \\sin{\\left(\\phi_{1}{\\left(t \\right)} - \\phi_{2}{\\left(t \\right)} \\right)} \\left(\\frac{d}{d t} \\phi_{1}{\\left(t \\right)}\\right)^{2} + l_{1} \\sin{\\left(\\phi_{1}{\\left(t \\right)} - \\phi_{2}{\\left(t \\right)} \\right)} \\frac{d}{d t} \\phi_{1}{\\left(t \\right)} \\frac{d}{d t} \\phi_{2}{\\left(t \\right)} + l_{1} \\cos{\\left(\\phi_{1}{\\left(t \\right)} - \\phi_{2}{\\left(t \\right)} \\right)} \\frac{d^{2}}{d t^{2}} \\phi_{1}{\\left(t \\right)} + l_{2} \\frac{d^{2}}{d t^{2}} \\phi_{2}{\\left(t \\right)}\\right) + 0.5 m_{2} \\left(- 2 l_{2} \\left(- l_{1} \\sin{\\left(\\phi_{1}{\\left(t \\right)} \\right)} \\frac{d}{d t} \\phi_{1}{\\left(t \\right)} - l_{2} \\sin{\\left(\\phi_{2}{\\left(t \\right)} \\right)} \\frac{d}{d t} \\phi_{2}{\\left(t \\right)}\\right) \\cos{\\left(\\phi_{2}{\\left(t \\right)} \\right)} \\frac{d}{d t} \\phi_{2}{\\left(t \\right)} - 2 l_{2} \\left(l_{1} \\cos{\\left(\\phi_{1}{\\left(t \\right)} \\right)} \\frac{d}{d t} \\phi_{1}{\\left(t \\right)} + l_{2} \\cos{\\left(\\phi_{2}{\\left(t \\right)} \\right)} \\frac{d}{d t} \\phi_{2}{\\left(t \\right)}\\right) \\sin{\\left(\\phi_{2}{\\left(t \\right)} \\right)} \\frac{d}{d t} \\phi_{2}{\\left(t \\right)}\\right)$"
      ],
      "text/plain": [
       "g*l2*m2*cos(\\phi_2(t)) - 1.0*l2*m2*(-l1*sin(\\phi_1(t) - \\phi_2(t))*Derivative(\\phi_1(t), t)**2 + l1*sin(\\phi_1(t) - \\phi_2(t))*Derivative(\\phi_1(t), t)*Derivative(\\phi_2(t), t) + l1*cos(\\phi_1(t) - \\phi_2(t))*Derivative(\\phi_1(t), (t, 2)) + l2*Derivative(\\phi_2(t), (t, 2))) + 0.5*m2*(-2*l2*(-l1*sin(\\phi_1(t))*Derivative(\\phi_1(t), t) - l2*sin(\\phi_2(t))*Derivative(\\phi_2(t), t))*cos(\\phi_2(t))*Derivative(\\phi_2(t), t) - 2*l2*(l1*cos(\\phi_1(t))*Derivative(\\phi_1(t), t) + l2*cos(\\phi_2(t))*Derivative(\\phi_2(t), t))*sin(\\phi_2(t))*Derivative(\\phi_2(t), t))"
      ]
     },
     "execution_count": 6,
     "metadata": {},
     "output_type": "execute_result"
    }
   ],
   "source": [
    "EL1 = sp.diff(L, phi1(t)) - sp.diff(sp.diff(L, phi1_d), t).simplify()\n",
    "EL2 = sp.diff(L, phi2(t)) - sp.diff(sp.diff(L, phi2_d), t).simplify()\n",
    "EL2"
   ]
  },
  {
   "cell_type": "markdown",
   "id": "97e21bd8",
   "metadata": {},
   "source": [
    "### Obtaining the Equations of Motion of Both Arms"
   ]
  },
  {
   "cell_type": "code",
   "execution_count": 7,
   "id": "7dc173e5",
   "metadata": {},
   "outputs": [
    {
     "data": {
      "text/latex": [
       "$\\displaystyle \\frac{1.0 g m_{1} \\cos{\\left(\\phi_{1}{\\left(t \\right)} \\right)}}{1.0 l_{1} m_{1} - 1.0 l_{1} m_{2} \\cos^{2}{\\left(\\phi_{1}{\\left(t \\right)} - \\phi_{2}{\\left(t \\right)} \\right)} + 1.0 l_{1} m_{2}} - \\frac{1.0 g m_{2} \\cos{\\left(\\phi_{1}{\\left(t \\right)} - \\phi_{2}{\\left(t \\right)} \\right)} \\cos{\\left(\\phi_{2}{\\left(t \\right)} \\right)}}{1.0 l_{1} m_{1} - 1.0 l_{1} m_{2} \\cos^{2}{\\left(\\phi_{1}{\\left(t \\right)} - \\phi_{2}{\\left(t \\right)} \\right)} + 1.0 l_{1} m_{2}} + \\frac{1.0 g m_{2} \\cos{\\left(\\phi_{1}{\\left(t \\right)} \\right)}}{1.0 l_{1} m_{1} - 1.0 l_{1} m_{2} \\cos^{2}{\\left(\\phi_{1}{\\left(t \\right)} - \\phi_{2}{\\left(t \\right)} \\right)} + 1.0 l_{1} m_{2}} - \\frac{1.0 l_{1} m_{2} \\sin{\\left(\\phi_{1}{\\left(t \\right)} - \\phi_{2}{\\left(t \\right)} \\right)} \\cos{\\left(\\phi_{1}{\\left(t \\right)} - \\phi_{2}{\\left(t \\right)} \\right)} \\left(\\frac{d}{d t} \\phi_{1}{\\left(t \\right)}\\right)^{2}}{1.0 l_{1} m_{1} - 1.0 l_{1} m_{2} \\cos^{2}{\\left(\\phi_{1}{\\left(t \\right)} - \\phi_{2}{\\left(t \\right)} \\right)} + 1.0 l_{1} m_{2}} + \\frac{1.0 l_{1} m_{2} \\sin{\\left(\\phi_{1}{\\left(t \\right)} - \\phi_{2}{\\left(t \\right)} \\right)} \\cos{\\left(\\phi_{1}{\\left(t \\right)} - \\phi_{2}{\\left(t \\right)} \\right)} \\frac{d}{d t} \\phi_{1}{\\left(t \\right)} \\frac{d}{d t} \\phi_{2}{\\left(t \\right)}}{1.0 l_{1} m_{1} - 1.0 l_{1} m_{2} \\cos^{2}{\\left(\\phi_{1}{\\left(t \\right)} - \\phi_{2}{\\left(t \\right)} \\right)} + 1.0 l_{1} m_{2}} - \\frac{1.0 l_{1} m_{2} \\sin{\\left(\\phi_{1}{\\left(t \\right)} \\right)} \\cos{\\left(\\phi_{1}{\\left(t \\right)} - \\phi_{2}{\\left(t \\right)} \\right)} \\cos{\\left(\\phi_{2}{\\left(t \\right)} \\right)} \\frac{d}{d t} \\phi_{1}{\\left(t \\right)} \\frac{d}{d t} \\phi_{2}{\\left(t \\right)}}{1.0 l_{1} m_{1} - 1.0 l_{1} m_{2} \\cos^{2}{\\left(\\phi_{1}{\\left(t \\right)} - \\phi_{2}{\\left(t \\right)} \\right)} + 1.0 l_{1} m_{2}} + \\frac{1.0 l_{1} m_{2} \\sin{\\left(\\phi_{2}{\\left(t \\right)} \\right)} \\cos{\\left(\\phi_{1}{\\left(t \\right)} - \\phi_{2}{\\left(t \\right)} \\right)} \\cos{\\left(\\phi_{1}{\\left(t \\right)} \\right)} \\frac{d}{d t} \\phi_{1}{\\left(t \\right)} \\frac{d}{d t} \\phi_{2}{\\left(t \\right)}}{1.0 l_{1} m_{1} - 1.0 l_{1} m_{2} \\cos^{2}{\\left(\\phi_{1}{\\left(t \\right)} - \\phi_{2}{\\left(t \\right)} \\right)} + 1.0 l_{1} m_{2}} + \\frac{1.0 l_{2} m_{2} \\sin{\\left(\\phi_{1}{\\left(t \\right)} - \\phi_{2}{\\left(t \\right)} \\right)} \\frac{d}{d t} \\phi_{1}{\\left(t \\right)} \\frac{d}{d t} \\phi_{2}{\\left(t \\right)}}{1.0 l_{1} m_{1} - 1.0 l_{1} m_{2} \\cos^{2}{\\left(\\phi_{1}{\\left(t \\right)} - \\phi_{2}{\\left(t \\right)} \\right)} + 1.0 l_{1} m_{2}} - \\frac{1.0 l_{2} m_{2} \\sin{\\left(\\phi_{1}{\\left(t \\right)} - \\phi_{2}{\\left(t \\right)} \\right)} \\left(\\frac{d}{d t} \\phi_{2}{\\left(t \\right)}\\right)^{2}}{1.0 l_{1} m_{1} - 1.0 l_{1} m_{2} \\cos^{2}{\\left(\\phi_{1}{\\left(t \\right)} - \\phi_{2}{\\left(t \\right)} \\right)} + 1.0 l_{1} m_{2}} - \\frac{1.0 l_{2} m_{2} \\sin{\\left(\\phi_{1}{\\left(t \\right)} \\right)} \\cos{\\left(\\phi_{2}{\\left(t \\right)} \\right)} \\frac{d}{d t} \\phi_{1}{\\left(t \\right)} \\frac{d}{d t} \\phi_{2}{\\left(t \\right)}}{1.0 l_{1} m_{1} - 1.0 l_{1} m_{2} \\cos^{2}{\\left(\\phi_{1}{\\left(t \\right)} - \\phi_{2}{\\left(t \\right)} \\right)} + 1.0 l_{1} m_{2}} + \\frac{1.0 l_{2} m_{2} \\sin{\\left(\\phi_{2}{\\left(t \\right)} \\right)} \\cos{\\left(\\phi_{1}{\\left(t \\right)} \\right)} \\frac{d}{d t} \\phi_{1}{\\left(t \\right)} \\frac{d}{d t} \\phi_{2}{\\left(t \\right)}}{1.0 l_{1} m_{1} - 1.0 l_{1} m_{2} \\cos^{2}{\\left(\\phi_{1}{\\left(t \\right)} - \\phi_{2}{\\left(t \\right)} \\right)} + 1.0 l_{1} m_{2}}$"
      ],
      "text/plain": [
       "1.0*g*m1*cos(\\phi_1(t))/(1.0*l1*m1 - 1.0*l1*m2*cos(\\phi_1(t) - \\phi_2(t))**2 + 1.0*l1*m2) - 1.0*g*m2*cos(\\phi_1(t) - \\phi_2(t))*cos(\\phi_2(t))/(1.0*l1*m1 - 1.0*l1*m2*cos(\\phi_1(t) - \\phi_2(t))**2 + 1.0*l1*m2) + 1.0*g*m2*cos(\\phi_1(t))/(1.0*l1*m1 - 1.0*l1*m2*cos(\\phi_1(t) - \\phi_2(t))**2 + 1.0*l1*m2) - 1.0*l1*m2*sin(\\phi_1(t) - \\phi_2(t))*cos(\\phi_1(t) - \\phi_2(t))*Derivative(\\phi_1(t), t)**2/(1.0*l1*m1 - 1.0*l1*m2*cos(\\phi_1(t) - \\phi_2(t))**2 + 1.0*l1*m2) + 1.0*l1*m2*sin(\\phi_1(t) - \\phi_2(t))*cos(\\phi_1(t) - \\phi_2(t))*Derivative(\\phi_1(t), t)*Derivative(\\phi_2(t), t)/(1.0*l1*m1 - 1.0*l1*m2*cos(\\phi_1(t) - \\phi_2(t))**2 + 1.0*l1*m2) - 1.0*l1*m2*sin(\\phi_1(t))*cos(\\phi_1(t) - \\phi_2(t))*cos(\\phi_2(t))*Derivative(\\phi_1(t), t)*Derivative(\\phi_2(t), t)/(1.0*l1*m1 - 1.0*l1*m2*cos(\\phi_1(t) - \\phi_2(t))**2 + 1.0*l1*m2) + 1.0*l1*m2*sin(\\phi_2(t))*cos(\\phi_1(t) - \\phi_2(t))*cos(\\phi_1(t))*Derivative(\\phi_1(t), t)*Derivative(\\phi_2(t), t)/(1.0*l1*m1 - 1.0*l1*m2*cos(\\phi_1(t) - \\phi_2(t))**2 + 1.0*l1*m2) + 1.0*l2*m2*sin(\\phi_1(t) - \\phi_2(t))*Derivative(\\phi_1(t), t)*Derivative(\\phi_2(t), t)/(1.0*l1*m1 - 1.0*l1*m2*cos(\\phi_1(t) - \\phi_2(t))**2 + 1.0*l1*m2) - 1.0*l2*m2*sin(\\phi_1(t) - \\phi_2(t))*Derivative(\\phi_2(t), t)**2/(1.0*l1*m1 - 1.0*l1*m2*cos(\\phi_1(t) - \\phi_2(t))**2 + 1.0*l1*m2) - 1.0*l2*m2*sin(\\phi_1(t))*cos(\\phi_2(t))*Derivative(\\phi_1(t), t)*Derivative(\\phi_2(t), t)/(1.0*l1*m1 - 1.0*l1*m2*cos(\\phi_1(t) - \\phi_2(t))**2 + 1.0*l1*m2) + 1.0*l2*m2*sin(\\phi_2(t))*cos(\\phi_1(t))*Derivative(\\phi_1(t), t)*Derivative(\\phi_2(t), t)/(1.0*l1*m1 - 1.0*l1*m2*cos(\\phi_1(t) - \\phi_2(t))**2 + 1.0*l1*m2)"
      ]
     },
     "execution_count": 7,
     "metadata": {},
     "output_type": "execute_result"
    }
   ],
   "source": [
    "sols = sp.solve([EL1, EL2], (phi1_dd, phi2_dd), \n",
    "                simplify = False, rational = False)\n",
    "sols[phi1_dd]"
   ]
  },
  {
   "cell_type": "code",
   "execution_count": 8,
   "id": "806b8508",
   "metadata": {},
   "outputs": [
    {
     "data": {
      "text/latex": [
       "$\\displaystyle - \\frac{1.0 g m_{1} \\cos{\\left(\\phi_{1}{\\left(t \\right)} - \\phi_{2}{\\left(t \\right)} \\right)} \\cos{\\left(\\phi_{1}{\\left(t \\right)} \\right)}}{1.0 l_{2} m_{1} - 1.0 l_{2} m_{2} \\cos^{2}{\\left(\\phi_{1}{\\left(t \\right)} - \\phi_{2}{\\left(t \\right)} \\right)} + 1.0 l_{2} m_{2}} + \\frac{1.0 g m_{1} \\cos{\\left(\\phi_{2}{\\left(t \\right)} \\right)}}{1.0 l_{2} m_{1} - 1.0 l_{2} m_{2} \\cos^{2}{\\left(\\phi_{1}{\\left(t \\right)} - \\phi_{2}{\\left(t \\right)} \\right)} + 1.0 l_{2} m_{2}} - \\frac{1.0 g m_{2} \\cos{\\left(\\phi_{1}{\\left(t \\right)} - \\phi_{2}{\\left(t \\right)} \\right)} \\cos{\\left(\\phi_{1}{\\left(t \\right)} \\right)}}{1.0 l_{2} m_{1} - 1.0 l_{2} m_{2} \\cos^{2}{\\left(\\phi_{1}{\\left(t \\right)} - \\phi_{2}{\\left(t \\right)} \\right)} + 1.0 l_{2} m_{2}} + \\frac{1.0 g m_{2} \\cos{\\left(\\phi_{2}{\\left(t \\right)} \\right)}}{1.0 l_{2} m_{1} - 1.0 l_{2} m_{2} \\cos^{2}{\\left(\\phi_{1}{\\left(t \\right)} - \\phi_{2}{\\left(t \\right)} \\right)} + 1.0 l_{2} m_{2}} + \\frac{1.0 l_{1} m_{1} \\sin{\\left(\\phi_{1}{\\left(t \\right)} - \\phi_{2}{\\left(t \\right)} \\right)} \\left(\\frac{d}{d t} \\phi_{1}{\\left(t \\right)}\\right)^{2}}{1.0 l_{2} m_{1} - 1.0 l_{2} m_{2} \\cos^{2}{\\left(\\phi_{1}{\\left(t \\right)} - \\phi_{2}{\\left(t \\right)} \\right)} + 1.0 l_{2} m_{2}} - \\frac{1.0 l_{1} m_{1} \\sin{\\left(\\phi_{1}{\\left(t \\right)} - \\phi_{2}{\\left(t \\right)} \\right)} \\frac{d}{d t} \\phi_{1}{\\left(t \\right)} \\frac{d}{d t} \\phi_{2}{\\left(t \\right)}}{1.0 l_{2} m_{1} - 1.0 l_{2} m_{2} \\cos^{2}{\\left(\\phi_{1}{\\left(t \\right)} - \\phi_{2}{\\left(t \\right)} \\right)} + 1.0 l_{2} m_{2}} + \\frac{1.0 l_{1} m_{1} \\sin{\\left(\\phi_{1}{\\left(t \\right)} \\right)} \\cos{\\left(\\phi_{2}{\\left(t \\right)} \\right)} \\frac{d}{d t} \\phi_{1}{\\left(t \\right)} \\frac{d}{d t} \\phi_{2}{\\left(t \\right)}}{1.0 l_{2} m_{1} - 1.0 l_{2} m_{2} \\cos^{2}{\\left(\\phi_{1}{\\left(t \\right)} - \\phi_{2}{\\left(t \\right)} \\right)} + 1.0 l_{2} m_{2}} - \\frac{1.0 l_{1} m_{1} \\sin{\\left(\\phi_{2}{\\left(t \\right)} \\right)} \\cos{\\left(\\phi_{1}{\\left(t \\right)} \\right)} \\frac{d}{d t} \\phi_{1}{\\left(t \\right)} \\frac{d}{d t} \\phi_{2}{\\left(t \\right)}}{1.0 l_{2} m_{1} - 1.0 l_{2} m_{2} \\cos^{2}{\\left(\\phi_{1}{\\left(t \\right)} - \\phi_{2}{\\left(t \\right)} \\right)} + 1.0 l_{2} m_{2}} + \\frac{1.0 l_{1} m_{2} \\sin{\\left(\\phi_{1}{\\left(t \\right)} - \\phi_{2}{\\left(t \\right)} \\right)} \\left(\\frac{d}{d t} \\phi_{1}{\\left(t \\right)}\\right)^{2}}{1.0 l_{2} m_{1} - 1.0 l_{2} m_{2} \\cos^{2}{\\left(\\phi_{1}{\\left(t \\right)} - \\phi_{2}{\\left(t \\right)} \\right)} + 1.0 l_{2} m_{2}} - \\frac{1.0 l_{1} m_{2} \\sin{\\left(\\phi_{1}{\\left(t \\right)} - \\phi_{2}{\\left(t \\right)} \\right)} \\frac{d}{d t} \\phi_{1}{\\left(t \\right)} \\frac{d}{d t} \\phi_{2}{\\left(t \\right)}}{1.0 l_{2} m_{1} - 1.0 l_{2} m_{2} \\cos^{2}{\\left(\\phi_{1}{\\left(t \\right)} - \\phi_{2}{\\left(t \\right)} \\right)} + 1.0 l_{2} m_{2}} + \\frac{1.0 l_{1} m_{2} \\sin{\\left(\\phi_{1}{\\left(t \\right)} \\right)} \\cos{\\left(\\phi_{2}{\\left(t \\right)} \\right)} \\frac{d}{d t} \\phi_{1}{\\left(t \\right)} \\frac{d}{d t} \\phi_{2}{\\left(t \\right)}}{1.0 l_{2} m_{1} - 1.0 l_{2} m_{2} \\cos^{2}{\\left(\\phi_{1}{\\left(t \\right)} - \\phi_{2}{\\left(t \\right)} \\right)} + 1.0 l_{2} m_{2}} - \\frac{1.0 l_{1} m_{2} \\sin{\\left(\\phi_{2}{\\left(t \\right)} \\right)} \\cos{\\left(\\phi_{1}{\\left(t \\right)} \\right)} \\frac{d}{d t} \\phi_{1}{\\left(t \\right)} \\frac{d}{d t} \\phi_{2}{\\left(t \\right)}}{1.0 l_{2} m_{1} - 1.0 l_{2} m_{2} \\cos^{2}{\\left(\\phi_{1}{\\left(t \\right)} - \\phi_{2}{\\left(t \\right)} \\right)} + 1.0 l_{2} m_{2}} - \\frac{1.0 l_{2} m_{2} \\sin{\\left(\\phi_{1}{\\left(t \\right)} - \\phi_{2}{\\left(t \\right)} \\right)} \\cos{\\left(\\phi_{1}{\\left(t \\right)} - \\phi_{2}{\\left(t \\right)} \\right)} \\frac{d}{d t} \\phi_{1}{\\left(t \\right)} \\frac{d}{d t} \\phi_{2}{\\left(t \\right)}}{1.0 l_{2} m_{1} - 1.0 l_{2} m_{2} \\cos^{2}{\\left(\\phi_{1}{\\left(t \\right)} - \\phi_{2}{\\left(t \\right)} \\right)} + 1.0 l_{2} m_{2}} + \\frac{1.0 l_{2} m_{2} \\sin{\\left(\\phi_{1}{\\left(t \\right)} - \\phi_{2}{\\left(t \\right)} \\right)} \\cos{\\left(\\phi_{1}{\\left(t \\right)} - \\phi_{2}{\\left(t \\right)} \\right)} \\left(\\frac{d}{d t} \\phi_{2}{\\left(t \\right)}\\right)^{2}}{1.0 l_{2} m_{1} - 1.0 l_{2} m_{2} \\cos^{2}{\\left(\\phi_{1}{\\left(t \\right)} - \\phi_{2}{\\left(t \\right)} \\right)} + 1.0 l_{2} m_{2}} + \\frac{1.0 l_{2} m_{2} \\sin{\\left(\\phi_{1}{\\left(t \\right)} \\right)} \\cos{\\left(\\phi_{1}{\\left(t \\right)} - \\phi_{2}{\\left(t \\right)} \\right)} \\cos{\\left(\\phi_{2}{\\left(t \\right)} \\right)} \\frac{d}{d t} \\phi_{1}{\\left(t \\right)} \\frac{d}{d t} \\phi_{2}{\\left(t \\right)}}{1.0 l_{2} m_{1} - 1.0 l_{2} m_{2} \\cos^{2}{\\left(\\phi_{1}{\\left(t \\right)} - \\phi_{2}{\\left(t \\right)} \\right)} + 1.0 l_{2} m_{2}} - \\frac{1.0 l_{2} m_{2} \\sin{\\left(\\phi_{2}{\\left(t \\right)} \\right)} \\cos{\\left(\\phi_{1}{\\left(t \\right)} - \\phi_{2}{\\left(t \\right)} \\right)} \\cos{\\left(\\phi_{1}{\\left(t \\right)} \\right)} \\frac{d}{d t} \\phi_{1}{\\left(t \\right)} \\frac{d}{d t} \\phi_{2}{\\left(t \\right)}}{1.0 l_{2} m_{1} - 1.0 l_{2} m_{2} \\cos^{2}{\\left(\\phi_{1}{\\left(t \\right)} - \\phi_{2}{\\left(t \\right)} \\right)} + 1.0 l_{2} m_{2}}$"
      ],
      "text/plain": [
       "-1.0*g*m1*cos(\\phi_1(t) - \\phi_2(t))*cos(\\phi_1(t))/(1.0*l2*m1 - 1.0*l2*m2*cos(\\phi_1(t) - \\phi_2(t))**2 + 1.0*l2*m2) + 1.0*g*m1*cos(\\phi_2(t))/(1.0*l2*m1 - 1.0*l2*m2*cos(\\phi_1(t) - \\phi_2(t))**2 + 1.0*l2*m2) - 1.0*g*m2*cos(\\phi_1(t) - \\phi_2(t))*cos(\\phi_1(t))/(1.0*l2*m1 - 1.0*l2*m2*cos(\\phi_1(t) - \\phi_2(t))**2 + 1.0*l2*m2) + 1.0*g*m2*cos(\\phi_2(t))/(1.0*l2*m1 - 1.0*l2*m2*cos(\\phi_1(t) - \\phi_2(t))**2 + 1.0*l2*m2) + 1.0*l1*m1*sin(\\phi_1(t) - \\phi_2(t))*Derivative(\\phi_1(t), t)**2/(1.0*l2*m1 - 1.0*l2*m2*cos(\\phi_1(t) - \\phi_2(t))**2 + 1.0*l2*m2) - 1.0*l1*m1*sin(\\phi_1(t) - \\phi_2(t))*Derivative(\\phi_1(t), t)*Derivative(\\phi_2(t), t)/(1.0*l2*m1 - 1.0*l2*m2*cos(\\phi_1(t) - \\phi_2(t))**2 + 1.0*l2*m2) + 1.0*l1*m1*sin(\\phi_1(t))*cos(\\phi_2(t))*Derivative(\\phi_1(t), t)*Derivative(\\phi_2(t), t)/(1.0*l2*m1 - 1.0*l2*m2*cos(\\phi_1(t) - \\phi_2(t))**2 + 1.0*l2*m2) - 1.0*l1*m1*sin(\\phi_2(t))*cos(\\phi_1(t))*Derivative(\\phi_1(t), t)*Derivative(\\phi_2(t), t)/(1.0*l2*m1 - 1.0*l2*m2*cos(\\phi_1(t) - \\phi_2(t))**2 + 1.0*l2*m2) + 1.0*l1*m2*sin(\\phi_1(t) - \\phi_2(t))*Derivative(\\phi_1(t), t)**2/(1.0*l2*m1 - 1.0*l2*m2*cos(\\phi_1(t) - \\phi_2(t))**2 + 1.0*l2*m2) - 1.0*l1*m2*sin(\\phi_1(t) - \\phi_2(t))*Derivative(\\phi_1(t), t)*Derivative(\\phi_2(t), t)/(1.0*l2*m1 - 1.0*l2*m2*cos(\\phi_1(t) - \\phi_2(t))**2 + 1.0*l2*m2) + 1.0*l1*m2*sin(\\phi_1(t))*cos(\\phi_2(t))*Derivative(\\phi_1(t), t)*Derivative(\\phi_2(t), t)/(1.0*l2*m1 - 1.0*l2*m2*cos(\\phi_1(t) - \\phi_2(t))**2 + 1.0*l2*m2) - 1.0*l1*m2*sin(\\phi_2(t))*cos(\\phi_1(t))*Derivative(\\phi_1(t), t)*Derivative(\\phi_2(t), t)/(1.0*l2*m1 - 1.0*l2*m2*cos(\\phi_1(t) - \\phi_2(t))**2 + 1.0*l2*m2) - 1.0*l2*m2*sin(\\phi_1(t) - \\phi_2(t))*cos(\\phi_1(t) - \\phi_2(t))*Derivative(\\phi_1(t), t)*Derivative(\\phi_2(t), t)/(1.0*l2*m1 - 1.0*l2*m2*cos(\\phi_1(t) - \\phi_2(t))**2 + 1.0*l2*m2) + 1.0*l2*m2*sin(\\phi_1(t) - \\phi_2(t))*cos(\\phi_1(t) - \\phi_2(t))*Derivative(\\phi_2(t), t)**2/(1.0*l2*m1 - 1.0*l2*m2*cos(\\phi_1(t) - \\phi_2(t))**2 + 1.0*l2*m2) + 1.0*l2*m2*sin(\\phi_1(t))*cos(\\phi_1(t) - \\phi_2(t))*cos(\\phi_2(t))*Derivative(\\phi_1(t), t)*Derivative(\\phi_2(t), t)/(1.0*l2*m1 - 1.0*l2*m2*cos(\\phi_1(t) - \\phi_2(t))**2 + 1.0*l2*m2) - 1.0*l2*m2*sin(\\phi_2(t))*cos(\\phi_1(t) - \\phi_2(t))*cos(\\phi_1(t))*Derivative(\\phi_1(t), t)*Derivative(\\phi_2(t), t)/(1.0*l2*m1 - 1.0*l2*m2*cos(\\phi_1(t) - \\phi_2(t))**2 + 1.0*l2*m2)"
      ]
     },
     "execution_count": 8,
     "metadata": {},
     "output_type": "execute_result"
    }
   ],
   "source": [
    "sols[phi2_dd]"
   ]
  }
 ],
 "metadata": {
  "kernelspec": {
   "display_name": "Python 3 (ipykernel)",
   "language": "python",
   "name": "python3"
  },
  "language_info": {
   "codemirror_mode": {
    "name": "ipython",
    "version": 3
   },
   "file_extension": ".py",
   "mimetype": "text/x-python",
   "name": "python",
   "nbconvert_exporter": "python",
   "pygments_lexer": "ipython3",
   "version": "3.9.6"
  }
 },
 "nbformat": 4,
 "nbformat_minor": 5
}
