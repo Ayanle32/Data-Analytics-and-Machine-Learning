{
 "cells": [
  {
   "cell_type": "code",
   "execution_count": 26,
   "id": "58c45238",
   "metadata": {},
   "outputs": [],
   "source": [
    "import numpy as np\n",
    "import pandas as pd\n",
    "import matplotlib.pyplot as plt\n",
    "from sklearn.linear_model import LinearRegression\n",
    "from sklearn.metrics import mean_squared_error\n",
    "from sklearn.model_selection import train_test_split\n",
    "from sklearn.preprocessing import StandardScaler"
   ]
  },
  {
   "cell_type": "markdown",
   "id": "78782f9f",
   "metadata": {},
   "source": [
    "# Loading the Data"
   ]
  },
  {
   "cell_type": "code",
   "execution_count": 27,
   "id": "79e84616",
   "metadata": {},
   "outputs": [],
   "source": [
    "data = pd.read_csv('student_scores.csv')"
   ]
  },
  {
   "cell_type": "code",
   "execution_count": 28,
   "id": "198faa60",
   "metadata": {},
   "outputs": [
    {
     "data": {
      "text/html": [
       "<div>\n",
       "<style scoped>\n",
       "    .dataframe tbody tr th:only-of-type {\n",
       "        vertical-align: middle;\n",
       "    }\n",
       "\n",
       "    .dataframe tbody tr th {\n",
       "        vertical-align: top;\n",
       "    }\n",
       "\n",
       "    .dataframe thead th {\n",
       "        text-align: right;\n",
       "    }\n",
       "</style>\n",
       "<table border=\"1\" class=\"dataframe\">\n",
       "  <thead>\n",
       "    <tr style=\"text-align: right;\">\n",
       "      <th></th>\n",
       "      <th>Hours</th>\n",
       "      <th>Scores</th>\n",
       "    </tr>\n",
       "  </thead>\n",
       "  <tbody>\n",
       "    <tr>\n",
       "      <th>0</th>\n",
       "      <td>2.5</td>\n",
       "      <td>21</td>\n",
       "    </tr>\n",
       "    <tr>\n",
       "      <th>1</th>\n",
       "      <td>5.1</td>\n",
       "      <td>47</td>\n",
       "    </tr>\n",
       "    <tr>\n",
       "      <th>2</th>\n",
       "      <td>3.2</td>\n",
       "      <td>27</td>\n",
       "    </tr>\n",
       "    <tr>\n",
       "      <th>3</th>\n",
       "      <td>8.5</td>\n",
       "      <td>75</td>\n",
       "    </tr>\n",
       "    <tr>\n",
       "      <th>4</th>\n",
       "      <td>3.5</td>\n",
       "      <td>30</td>\n",
       "    </tr>\n",
       "  </tbody>\n",
       "</table>\n",
       "</div>"
      ],
      "text/plain": [
       "   Hours  Scores\n",
       "0    2.5      21\n",
       "1    5.1      47\n",
       "2    3.2      27\n",
       "3    8.5      75\n",
       "4    3.5      30"
      ]
     },
     "execution_count": 28,
     "metadata": {},
     "output_type": "execute_result"
    }
   ],
   "source": [
    "data.head()"
   ]
  },
  {
   "cell_type": "code",
   "execution_count": 29,
   "id": "74bd0888",
   "metadata": {},
   "outputs": [
    {
     "name": "stdout",
     "output_type": "stream",
     "text": [
      "<class 'pandas.core.frame.DataFrame'>\n",
      "RangeIndex: 25 entries, 0 to 24\n",
      "Data columns (total 2 columns):\n",
      " #   Column  Non-Null Count  Dtype  \n",
      "---  ------  --------------  -----  \n",
      " 0   Hours   25 non-null     float64\n",
      " 1   Scores  25 non-null     int64  \n",
      "dtypes: float64(1), int64(1)\n",
      "memory usage: 528.0 bytes\n"
     ]
    }
   ],
   "source": [
    "data.info()"
   ]
  },
  {
   "cell_type": "markdown",
   "id": "34e63623",
   "metadata": {},
   "source": [
    "# Plotting the Data"
   ]
  },
  {
   "cell_type": "code",
   "execution_count": 30,
   "id": "5c303da7",
   "metadata": {},
   "outputs": [
    {
     "data": {
      "image/png": "[encoded data removed]",
      "text/plain": [
       "<Figure size 720x432 with 1 Axes>"
      ]
     },
     "metadata": {
      "needs_background": "light"
     },
     "output_type": "display_data"
    }
   ],
   "source": [
    "plt.figure(figsize = (10, 6))\n",
    "plt.title('Data')\n",
    "plt.scatter(data.Hours, data.Scores, s=8)\n",
    "plt.xlabel('Hours', fontsize = 12)\n",
    "plt.ylabel('Scores', fontsize = 12)\n",
    "plt.show()"
   ]
  },
  {
   "cell_type": "markdown",
   "id": "38a7ea21",
   "metadata": {},
   "source": [
    "Immediately we can see there is a linear relationship between the two variables"
   ]
  },
  {
   "cell_type": "code",
   "execution_count": 31,
   "id": "e4ffc809",
   "metadata": {},
   "outputs": [],
   "source": [
    "model = LinearRegression()"
   ]
  },
  {
   "cell_type": "code",
   "execution_count": 32,
   "id": "cc60dd95",
   "metadata": {},
   "outputs": [],
   "source": [
    "X = np.array(data.Hours).reshape(-1,1)\n",
    "y = data.Scores"
   ]
  },
  {
   "cell_type": "code",
   "execution_count": 33,
   "id": "6ca55e72",
   "metadata": {},
   "outputs": [
    {
     "data": {
      "text/plain": [
       "LinearRegression()"
      ]
     },
     "execution_count": 33,
     "metadata": {},
     "output_type": "execute_result"
    }
   ],
   "source": [
    "model.fit(X, y)"
   ]
  },
  {
   "cell_type": "code",
   "execution_count": 34,
   "id": "cad5f390",
   "metadata": {},
   "outputs": [],
   "source": [
    "y_pred = model.predict(X)"
   ]
  },
  {
   "cell_type": "code",
   "execution_count": 35,
   "id": "c8b0cc18",
   "metadata": {},
   "outputs": [
    {
     "data": {
      "text/plain": [
       "0.9529481969048356"
      ]
     },
     "execution_count": 35,
     "metadata": {},
     "output_type": "execute_result"
    }
   ],
   "source": [
    "model.score(X, y) # Model accuracy i.e. coefficient of determination R^2."
   ]
  },
  {
   "cell_type": "code",
   "execution_count": 36,
   "id": "f5f90d9f",
   "metadata": {},
   "outputs": [
    {
     "data": {
      "image/png": "[encoded data removed]",
      "text/plain": [
       "<Figure size 720x432 with 1 Axes>"
      ]
     },
     "metadata": {
      "needs_background": "light"
     },
     "output_type": "display_data"
    }
   ],
   "source": [
    "plt.figure(figsize=(10, 6))\n",
    "plt.title('Data Fitted With a Model', fontsize=14)\n",
    "plt.plot(X, y_pred, color = 'red')\n",
    "plt.scatter(X, y, s=8)\n",
    "plt.xlabel('Hours Studied', fontsize=12)\n",
    "plt.ylabel('Exam Scores', fontsize=12)\n",
    "plt.show()"
   ]
  },
  {
   "cell_type": "markdown",
   "id": "7bd6eaca",
   "metadata": {},
   "source": [
    "# Determining the Coefficients of the Model"
   ]
  },
  {
   "cell_type": "code",
   "execution_count": 37,
   "id": "fe600904",
   "metadata": {},
   "outputs": [
    {
     "data": {
      "text/plain": [
       "9.775803390787468"
      ]
     },
     "execution_count": 37,
     "metadata": {},
     "output_type": "execute_result"
    }
   ],
   "source": [
    "model.coef_[0] # Slope"
   ]
  },
  {
   "cell_type": "code",
   "execution_count": 38,
   "id": "cb54b8c7",
   "metadata": {},
   "outputs": [
    {
     "data": {
      "text/plain": [
       "2.48367340537321"
      ]
     },
     "execution_count": 38,
     "metadata": {},
     "output_type": "execute_result"
    }
   ],
   "source": [
    "model.intercept_ # Intercept"
   ]
  },
  {
   "cell_type": "markdown",
   "id": "1e9a11b2",
   "metadata": {},
   "source": [
    "# Modelling the Data"
   ]
  },
  {
   "cell_type": "markdown",
   "id": "66e2bc4d",
   "metadata": {},
   "source": [
    "The line of best fit has the equation\n",
    "\n",
    " $S = 9.78H + 2.48$"
   ]
  },
  {
   "cell_type": "markdown",
   "id": "c17ea4bf",
   "metadata": {},
   "source": [
    "# Fitting a Model to the Data Using the Least Squares Fit Method"
   ]
  },
  {
   "cell_type": "markdown",
   "id": "977f1808",
   "metadata": {},
   "source": [
    "We can do this in another way by using least-squares fit. We assume the linear model takes the form\n",
    "\n",
    "$y_i = \\beta x_i + \\alpha + \\epsilon_i$ \n",
    "\n",
    "where $\\epsilon_i$ is some error and $y_i$ and $x_i$ are the data points."
   ]
  },
  {
   "cell_type": "code",
   "execution_count": 39,
   "id": "d58ab21f",
   "metadata": {},
   "outputs": [],
   "source": [
    "x = np.array(data['Hours'])\n",
    "def least_squares_fit(x, y):\n",
    "    beta = np.corrcoef(x, y) * np.std(y) / np.std(x)\n",
    "    alpha = np.mean(y) - beta * np.mean(x)\n",
    "    return alpha, beta"
   ]
  },
  {
   "cell_type": "code",
   "execution_count": 40,
   "id": "29f9bb47",
   "metadata": {},
   "outputs": [
    {
     "data": {
      "text/plain": [
       "(array([[1.2886503 , 2.48367341],\n",
       "        [2.48367341, 1.2886503 ]]),\n",
       " array([[10.01423578,  9.77580339],\n",
       "        [ 9.77580339, 10.01423578]]))"
      ]
     },
     "execution_count": 40,
     "metadata": {},
     "output_type": "execute_result"
    }
   ],
   "source": [
    "least_squares_fit(x, y)"
   ]
  },
  {
   "cell_type": "markdown",
   "id": "c094ea5b",
   "metadata": {},
   "source": [
    "We can read off here that \n",
    "\n",
    "$\\beta = 9.78 \\\\$\n",
    "$\\alpha = 2.48$\n",
    "\n",
    "which is the same as the answer we got using sci-kit."
   ]
  },
  {
   "cell_type": "markdown",
   "id": "5aacfca3",
   "metadata": {},
   "source": [
    "# Mean Squared Error & RMSE"
   ]
  },
  {
   "cell_type": "code",
   "execution_count": 41,
   "id": "3da8a2a9",
   "metadata": {},
   "outputs": [],
   "source": [
    "y_model = 9.78*x + 2.48\n",
    "y = data.Scores\n",
    "mse = np.mean((y - y_model)**2)\n",
    "rmse = np.sqrt(mse)"
   ]
  },
  {
   "cell_type": "code",
   "execution_count": 42,
   "id": "cee04706",
   "metadata": {},
   "outputs": [
    {
     "data": {
      "text/plain": [
       "5.374303646054994"
      ]
     },
     "execution_count": 42,
     "metadata": {},
     "output_type": "execute_result"
    }
   ],
   "source": [
    "rmse"
   ]
  },
  {
   "cell_type": "markdown",
   "id": "0c9cc307",
   "metadata": {},
   "source": [
    "# Gradient Descend"
   ]
  },
  {
   "cell_type": "markdown",
   "id": "32fafa03",
   "metadata": {},
   "source": [
    "### Cost Function\n",
    "\n",
    "$J(\\theta_0, \\theta_1)$ = $\\frac{1}{2m}\\sum_{i=1}^{m}(h_\\theta(x^{(i)}) - y^{(i)})^2$\n",
    "\n",
    "#### Update Rules\n",
    "\n",
    "$\\theta_0 \\equiv $ $\\theta_0 - \\alpha \\frac{\\partial}{\\partial \\theta_0} J(\\theta_0, \\theta_1)$\n",
    "$ \\\\ \\theta_1 \\equiv \\theta_1 - \\alpha \\frac{\\partial}{\\partial \\theta_1}J(\\theta_0, \\theta_1)$"
   ]
  },
  {
   "cell_type": "code",
   "execution_count": 53,
   "id": "91725622",
   "metadata": {},
   "outputs": [],
   "source": [
    "X = np.array(data['Hours'])\n",
    "m = 0\n",
    "b = 0\n",
    "learning_rate = 0.01"
   ]
  },
  {
   "cell_type": "code",
   "execution_count": 63,
   "id": "050b69b3",
   "metadata": {},
   "outputs": [],
   "source": [
    "for i in range(10000):\n",
    "    y_pred = m*X + b\n",
    "    gd_b = (1/25)*np.sum(y_pred - y)\n",
    "    gd_m = (1/25)*np.sum((y_pred - y) * X)\n",
    "    b = b - learning_rate*gd_b\n",
    "    m = m - learning_rate*gd_m"
   ]
  },
  {
   "cell_type": "code",
   "execution_count": 64,
   "id": "e714c45b",
   "metadata": {},
   "outputs": [
    {
     "data": {
      "text/plain": [
       "2.4836734048608164"
      ]
     },
     "execution_count": 64,
     "metadata": {},
     "output_type": "execute_result"
    }
   ],
   "source": [
    "b"
   ]
  },
  {
   "cell_type": "code",
   "execution_count": 65,
   "id": "7dadccb3",
   "metadata": {},
   "outputs": [
    {
     "data": {
      "text/plain": [
       "9.775803390870179"
      ]
     },
     "execution_count": 65,
     "metadata": {},
     "output_type": "execute_result"
    }
   ],
   "source": [
    "m"
   ]
  },
  {
   "cell_type": "markdown",
   "id": "efc99328",
   "metadata": {},
   "source": [
    "So in conclusion we have fit a linear model to the data using three methods. The first method uses the sci-kit learn library which itself uses the linear least squares fit. In the second method we used least squares fit explicitly to determine the parameters of the model. Finally we used the gradient descend method to calculate the parameters of the model."
   ]
  }
 ],
 "metadata": {
  "kernelspec": {
   "display_name": "Python 3 (ipykernel)",
   "language": "python",
   "name": "python3"
  },
  "language_info": {
   "codemirror_mode": {
    "name": "ipython",
    "version": 3
   },
   "file_extension": ".py",
   "mimetype": "text/x-python",
   "name": "python",
   "nbconvert_exporter": "python",
   "pygments_lexer": "ipython3",
   "version": "3.9.6"
  }
 },
 "nbformat": 4,
 "nbformat_minor": 5
}
