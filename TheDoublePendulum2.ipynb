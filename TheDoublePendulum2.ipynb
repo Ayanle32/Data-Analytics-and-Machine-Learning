{
 "cells": [
  {
   "cell_type": "code",
   "execution_count": 1,
   "id": "615cb946",
   "metadata": {},
   "outputs": [],
   "source": [
    "import sympy as sp"
   ]
  },
  {
   "cell_type": "markdown",
   "id": "5073905c",
   "metadata": {},
   "source": [
    "### Defining Symbols"
   ]
  },
  {
   "cell_type": "code",
   "execution_count": 2,
   "id": "43ac250a",
   "metadata": {},
   "outputs": [],
   "source": [
    "l1,l2,m1,m2,g,t = sp.symbols('l1,l2,m1,m2,g,t')"
   ]
  },
  {
   "cell_type": "markdown",
   "id": "2be4132a",
   "metadata": {},
   "source": [
    "### Defining the Functions"
   ]
  },
  {
   "cell_type": "code",
   "execution_count": 3,
   "id": "2b0d5632",
   "metadata": {},
   "outputs": [],
   "source": [
    "phi1 = sp.Function(r'\\phi_1')\n",
    "phi2 = sp.Function(r'\\phi_2')\n",
    "phi1_d = sp.diff(phi1(t), t)\n",
    "phi2_d = sp.diff(phi2(t), t)\n",
    "phi1_dd = sp.diff(phi1_d, t)\n",
    "phi2_dd = sp.diff(phi2_d, t)"
   ]
  },
  {
   "cell_type": "markdown",
   "id": "ac987008",
   "metadata": {},
   "source": [
    "### Generalised coordinates"
   ]
  },
  {
   "cell_type": "code",
   "execution_count": null,
   "id": "01d366b4",
   "metadata": {},
   "outputs": [],
   "source": [
    "x1 = l1*sp.cos(phi1(t))\n",
    "x2 = x1 + l2*sp.cos(phi2(t))\n",
    "y1 = l1*sp.sin(phi1(t))\n",
    "y2 = y1 + l2*sp.sin(phi2(t))\n",
    "x1d = sp.diff(x1, t)\n",
    "x2d = sp.diff(x2, t)\n",
    "y1d = sp.diff(y1, t)\n",
    "y2d = sp.diff(y2, t)"
   ]
  },
  {
   "cell_type": "markdown",
   "id": "bad2654f",
   "metadata": {},
   "source": [
    "### Defining the Lagrangian"
   ]
  },
  {
   "cell_type": "code",
   "execution_count": 4,
   "id": "01c987e9",
   "metadata": {},
   "outputs": [
    {
     "ename": "NameError",
     "evalue": "name 'x1d' is not defined",
     "output_type": "error",
     "traceback": [
      "\u001b[1;31m---------------------------------------------------------------------------\u001b[0m",
      "\u001b[1;31mNameError\u001b[0m                                 Traceback (most recent call last)",
      "\u001b[1;32m~\\AppData\\Local\\Temp/ipykernel_1664/1089632990.py\u001b[0m in \u001b[0;36m<module>\u001b[1;34m\u001b[0m\n\u001b[1;32m----> 1\u001b[1;33m \u001b[0mT\u001b[0m \u001b[1;33m=\u001b[0m \u001b[1;36m1\u001b[0m\u001b[1;33m/\u001b[0m\u001b[1;36m2\u001b[0m\u001b[1;33m*\u001b[0m\u001b[0mm1\u001b[0m\u001b[1;33m*\u001b[0m\u001b[1;33m(\u001b[0m\u001b[0mx1d\u001b[0m\u001b[1;33m**\u001b[0m\u001b[1;36m2\u001b[0m \u001b[1;33m+\u001b[0m \u001b[0my1d\u001b[0m\u001b[1;33m**\u001b[0m\u001b[1;36m2\u001b[0m\u001b[1;33m)\u001b[0m \u001b[1;33m+\u001b[0m \u001b[1;36m1\u001b[0m\u001b[1;33m/\u001b[0m\u001b[1;36m2\u001b[0m\u001b[1;33m*\u001b[0m\u001b[0mm2\u001b[0m\u001b[1;33m*\u001b[0m\u001b[1;33m(\u001b[0m\u001b[0mx2d\u001b[0m\u001b[1;33m**\u001b[0m\u001b[1;36m2\u001b[0m \u001b[1;33m+\u001b[0m \u001b[0my2d\u001b[0m\u001b[1;33m**\u001b[0m\u001b[1;36m2\u001b[0m\u001b[1;33m)\u001b[0m\u001b[1;33m\u001b[0m\u001b[1;33m\u001b[0m\u001b[0m\n\u001b[0m\u001b[0;32m      2\u001b[0m \u001b[0mV\u001b[0m \u001b[1;33m=\u001b[0m \u001b[1;33m-\u001b[0m\u001b[0mm1\u001b[0m\u001b[1;33m*\u001b[0m\u001b[0mg\u001b[0m\u001b[1;33m*\u001b[0m\u001b[0my1\u001b[0m \u001b[1;33m-\u001b[0m \u001b[0mm2\u001b[0m\u001b[1;33m*\u001b[0m\u001b[0mg\u001b[0m\u001b[1;33m*\u001b[0m\u001b[0my2\u001b[0m\u001b[1;33m\u001b[0m\u001b[1;33m\u001b[0m\u001b[0m\n\u001b[0;32m      3\u001b[0m \u001b[0mL\u001b[0m \u001b[1;33m=\u001b[0m \u001b[0mT\u001b[0m \u001b[1;33m-\u001b[0m \u001b[0mV\u001b[0m\u001b[1;33m\u001b[0m\u001b[1;33m\u001b[0m\u001b[0m\n\u001b[0;32m      4\u001b[0m \u001b[0mL\u001b[0m\u001b[1;33m\u001b[0m\u001b[1;33m\u001b[0m\u001b[0m\n",
      "\u001b[1;31mNameError\u001b[0m: name 'x1d' is not defined"
     ]
    }
   ],
   "source": [
    "T = 1/2*m1*(x1d**2 + y1d**2) + 1/2*m2*(x2d**2 + y2d**2)\n",
    "V = -m1*g*y1 - m2*g*y2\n",
    "L = T - V\n",
    "L"
   ]
  },
  {
   "cell_type": "markdown",
   "id": "fa98c4a7",
   "metadata": {},
   "source": [
    "### Defining the Euler-Lagrange Equations"
   ]
  },
  {
   "cell_type": "code",
   "execution_count": null,
   "id": "4843fb86",
   "metadata": {},
   "outputs": [],
   "source": [
    "EL1 = sp.diff(L, phi1(t)) - sp.diff(sp.diff(L, phi1_d), t).simplify()\n",
    "EL2 = sp.diff(L, phi2(t)) - sp.diff(sp.diff(L, phi2_d), t).simplify()\n",
    "EL2"
   ]
  },
  {
   "cell_type": "markdown",
   "id": "bce8ac38",
   "metadata": {},
   "source": [
    "### Obtaining the Equations of Motion of Both Arms"
   ]
  },
  {
   "cell_type": "code",
   "execution_count": null,
   "id": "3e3ec9c7",
   "metadata": {},
   "outputs": [],
   "source": [
    "sols = sp.solve([EL1, EL2], (phi1_dd, phi2_dd), \n",
    "                simplify = False, rational = False)\n",
    "sols[phi1_dd]"
   ]
  },
  {
   "cell_type": "code",
   "execution_count": null,
   "id": "d7b1682b",
   "metadata": {},
   "outputs": [],
   "source": []
  }
 ],
 "metadata": {
  "kernelspec": {
   "display_name": "Python 3 (ipykernel)",
   "language": "python",
   "name": "python3"
  },
  "language_info": {
   "codemirror_mode": {
    "name": "ipython",
    "version": 3
   },
   "file_extension": ".py",
   "mimetype": "text/x-python",
   "name": "python",
   "nbconvert_exporter": "python",
   "pygments_lexer": "ipython3",
   "version": "3.9.6"
  }
 },
 "nbformat": 4,
 "nbformat_minor": 5
}
