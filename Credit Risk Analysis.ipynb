{
 "cells": [
  {
   "cell_type": "code",
   "execution_count": 1,
   "id": "d240f120",
   "metadata": {},
   "outputs": [],
   "source": [
    "import numpy as np\n",
    "import pandas as pd\n",
    "import matplotlib.pyplot as plt\n",
    "import seaborn as sns"
   ]
  },
  {
   "cell_type": "markdown",
   "id": "ee7ddea6",
   "metadata": {},
   "source": [
    "# Loading the Dataset"
   ]
  },
  {
   "cell_type": "code",
   "execution_count": 2,
   "id": "d5e29007",
   "metadata": {},
   "outputs": [],
   "source": [
    "df = pd.read_csv('loan.csv')"
   ]
  },
  {
   "cell_type": "code",
   "execution_count": 3,
   "id": "9c56b43a",
   "metadata": {},
   "outputs": [
    {
     "data": {
      "text/html": [
       "<div>\n",
       "<style scoped>\n",
       "    .dataframe tbody tr th:only-of-type {\n",
       "        vertical-align: middle;\n",
       "    }\n",
       "\n",
       "    .dataframe tbody tr th {\n",
       "        vertical-align: top;\n",
       "    }\n",
       "\n",
       "    .dataframe thead th {\n",
       "        text-align: right;\n",
       "    }\n",
       "</style>\n",
       "<table border=\"1\" class=\"dataframe\">\n",
       "  <thead>\n",
       "    <tr style=\"text-align: right;\">\n",
       "      <th></th>\n",
       "      <th>Loan_ID</th>\n",
       "      <th>Gender</th>\n",
       "      <th>Married</th>\n",
       "      <th>Dependents</th>\n",
       "      <th>Education</th>\n",
       "      <th>SelfEmployed</th>\n",
       "      <th>ApplicantIncome</th>\n",
       "      <th>CoapplicantIncome</th>\n",
       "      <th>LoanAmount</th>\n",
       "      <th>Loan_Amount_Term</th>\n",
       "      <th>Credit_History</th>\n",
       "      <th>Property_Area</th>\n",
       "      <th>Loan_Status</th>\n",
       "    </tr>\n",
       "  </thead>\n",
       "  <tbody>\n",
       "    <tr>\n",
       "      <th>0</th>\n",
       "      <td>LP001002</td>\n",
       "      <td>Male</td>\n",
       "      <td>No</td>\n",
       "      <td>0</td>\n",
       "      <td>Graduate</td>\n",
       "      <td>No</td>\n",
       "      <td>5849</td>\n",
       "      <td>0.0</td>\n",
       "      <td>NaN</td>\n",
       "      <td>360.0</td>\n",
       "      <td>1.0</td>\n",
       "      <td>Urban</td>\n",
       "      <td>Y</td>\n",
       "    </tr>\n",
       "    <tr>\n",
       "      <th>1</th>\n",
       "      <td>LP001003</td>\n",
       "      <td>Male</td>\n",
       "      <td>Yes</td>\n",
       "      <td>1</td>\n",
       "      <td>Graduate</td>\n",
       "      <td>No</td>\n",
       "      <td>4583</td>\n",
       "      <td>1508.0</td>\n",
       "      <td>128.0</td>\n",
       "      <td>360.0</td>\n",
       "      <td>1.0</td>\n",
       "      <td>Rural</td>\n",
       "      <td>N</td>\n",
       "    </tr>\n",
       "    <tr>\n",
       "      <th>2</th>\n",
       "      <td>LP001005</td>\n",
       "      <td>Male</td>\n",
       "      <td>Yes</td>\n",
       "      <td>0</td>\n",
       "      <td>Graduate</td>\n",
       "      <td>Yes</td>\n",
       "      <td>3000</td>\n",
       "      <td>0.0</td>\n",
       "      <td>66.0</td>\n",
       "      <td>360.0</td>\n",
       "      <td>1.0</td>\n",
       "      <td>Urban</td>\n",
       "      <td>Y</td>\n",
       "    </tr>\n",
       "    <tr>\n",
       "      <th>3</th>\n",
       "      <td>LP001006</td>\n",
       "      <td>Male</td>\n",
       "      <td>Yes</td>\n",
       "      <td>0</td>\n",
       "      <td>Not Graduate</td>\n",
       "      <td>No</td>\n",
       "      <td>2583</td>\n",
       "      <td>2358.0</td>\n",
       "      <td>120.0</td>\n",
       "      <td>360.0</td>\n",
       "      <td>1.0</td>\n",
       "      <td>Urban</td>\n",
       "      <td>Y</td>\n",
       "    </tr>\n",
       "    <tr>\n",
       "      <th>4</th>\n",
       "      <td>LP001008</td>\n",
       "      <td>Male</td>\n",
       "      <td>No</td>\n",
       "      <td>0</td>\n",
       "      <td>Graduate</td>\n",
       "      <td>No</td>\n",
       "      <td>6000</td>\n",
       "      <td>0.0</td>\n",
       "      <td>141.0</td>\n",
       "      <td>360.0</td>\n",
       "      <td>1.0</td>\n",
       "      <td>Urban</td>\n",
       "      <td>Y</td>\n",
       "    </tr>\n",
       "  </tbody>\n",
       "</table>\n",
       "</div>"
      ],
      "text/plain": [
       "    Loan_ID Gender Married Dependents     Education SelfEmployed  \\\n",
       "0  LP001002   Male      No          0      Graduate           No   \n",
       "1  LP001003   Male     Yes          1      Graduate           No   \n",
       "2  LP001005   Male     Yes          0      Graduate          Yes   \n",
       "3  LP001006   Male     Yes          0  Not Graduate           No   \n",
       "4  LP001008   Male      No          0      Graduate           No   \n",
       "\n",
       "   ApplicantIncome  CoapplicantIncome  LoanAmount  Loan_Amount_Term  \\\n",
       "0             5849                0.0         NaN             360.0   \n",
       "1             4583             1508.0       128.0             360.0   \n",
       "2             3000                0.0        66.0             360.0   \n",
       "3             2583             2358.0       120.0             360.0   \n",
       "4             6000                0.0       141.0             360.0   \n",
       "\n",
       "   Credit_History Property_Area Loan_Status  \n",
       "0             1.0         Urban           Y  \n",
       "1             1.0         Rural           N  \n",
       "2             1.0         Urban           Y  \n",
       "3             1.0         Urban           Y  \n",
       "4             1.0         Urban           Y  "
      ]
     },
     "execution_count": 3,
     "metadata": {},
     "output_type": "execute_result"
    }
   ],
   "source": [
    "df.head()"
   ]
  },
  {
   "cell_type": "code",
   "execution_count": 4,
   "id": "3b205557",
   "metadata": {},
   "outputs": [
    {
     "name": "stdout",
     "output_type": "stream",
     "text": [
      "<class 'pandas.core.frame.DataFrame'>\n",
      "RangeIndex: 614 entries, 0 to 613\n",
      "Data columns (total 13 columns):\n",
      " #   Column             Non-Null Count  Dtype  \n",
      "---  ------             --------------  -----  \n",
      " 0   Loan_ID            614 non-null    object \n",
      " 1   Gender             601 non-null    object \n",
      " 2   Married            611 non-null    object \n",
      " 3   Dependents         599 non-null    object \n",
      " 4   Education          614 non-null    object \n",
      " 5   SelfEmployed       582 non-null    object \n",
      " 6   ApplicantIncome    614 non-null    int64  \n",
      " 7   CoapplicantIncome  614 non-null    float64\n",
      " 8   LoanAmount         592 non-null    float64\n",
      " 9   Loan_Amount_Term   600 non-null    float64\n",
      " 10  Credit_History     564 non-null    float64\n",
      " 11  Property_Area      614 non-null    object \n",
      " 12  Loan_Status        614 non-null    object \n",
      "dtypes: float64(4), int64(1), object(8)\n",
      "memory usage: 62.5+ KB\n"
     ]
    }
   ],
   "source": [
    "df.info()"
   ]
  },
  {
   "cell_type": "markdown",
   "id": "263901c2",
   "metadata": {},
   "source": [
    "# Data Preprocessing"
   ]
  },
  {
   "cell_type": "code",
   "execution_count": 5,
   "id": "dc952e96",
   "metadata": {},
   "outputs": [],
   "source": [
    "df = df.dropna()\n",
    "df.columns = [col.strip() for col in df.columns]"
   ]
  },
  {
   "cell_type": "code",
   "execution_count": 6,
   "id": "0a1b4d2d",
   "metadata": {},
   "outputs": [],
   "source": [
    "DICT = {1.0 : 'Has Credit History', 0.0: 'Has No Credit History'}\n",
    "df['Credit_History'] = df['Credit_History'].replace(DICT)\n",
    "df['Dependents'] = df['Dependents'].replace('3+', 4)\n",
    "df['Dependents'] = df['Dependents'].astype(int)"
   ]
  },
  {
   "cell_type": "code",
   "execution_count": 7,
   "id": "13160e04",
   "metadata": {},
   "outputs": [
    {
     "name": "stdout",
     "output_type": "stream",
     "text": [
      "<class 'pandas.core.frame.DataFrame'>\n",
      "Int64Index: 480 entries, 1 to 613\n",
      "Data columns (total 13 columns):\n",
      " #   Column             Non-Null Count  Dtype  \n",
      "---  ------             --------------  -----  \n",
      " 0   Loan_ID            480 non-null    object \n",
      " 1   Gender             480 non-null    object \n",
      " 2   Married            480 non-null    object \n",
      " 3   Dependents         480 non-null    int32  \n",
      " 4   Education          480 non-null    object \n",
      " 5   SelfEmployed       480 non-null    object \n",
      " 6   ApplicantIncome    480 non-null    int64  \n",
      " 7   CoapplicantIncome  480 non-null    float64\n",
      " 8   LoanAmount         480 non-null    float64\n",
      " 9   Loan_Amount_Term   480 non-null    float64\n",
      " 10  Credit_History     480 non-null    object \n",
      " 11  Property_Area      480 non-null    object \n",
      " 12  Loan_Status        480 non-null    object \n",
      "dtypes: float64(3), int32(1), int64(1), object(8)\n",
      "memory usage: 50.6+ KB\n"
     ]
    }
   ],
   "source": [
    "df.info()"
   ]
  },
  {
   "cell_type": "code",
   "execution_count": 8,
   "id": "612a82c5",
   "metadata": {},
   "outputs": [
    {
     "data": {
      "text/html": [
       "<div>\n",
       "<style scoped>\n",
       "    .dataframe tbody tr th:only-of-type {\n",
       "        vertical-align: middle;\n",
       "    }\n",
       "\n",
       "    .dataframe tbody tr th {\n",
       "        vertical-align: top;\n",
       "    }\n",
       "\n",
       "    .dataframe thead th {\n",
       "        text-align: right;\n",
       "    }\n",
       "</style>\n",
       "<table border=\"1\" class=\"dataframe\">\n",
       "  <thead>\n",
       "    <tr style=\"text-align: right;\">\n",
       "      <th></th>\n",
       "      <th>Loan_ID</th>\n",
       "      <th>Gender</th>\n",
       "      <th>Married</th>\n",
       "      <th>Dependents</th>\n",
       "      <th>Education</th>\n",
       "      <th>SelfEmployed</th>\n",
       "      <th>ApplicantIncome</th>\n",
       "      <th>CoapplicantIncome</th>\n",
       "      <th>LoanAmount</th>\n",
       "      <th>Loan_Amount_Term</th>\n",
       "      <th>Credit_History</th>\n",
       "      <th>Property_Area</th>\n",
       "      <th>Loan_Status</th>\n",
       "    </tr>\n",
       "  </thead>\n",
       "  <tbody>\n",
       "    <tr>\n",
       "      <th>1</th>\n",
       "      <td>LP001003</td>\n",
       "      <td>Male</td>\n",
       "      <td>Yes</td>\n",
       "      <td>1</td>\n",
       "      <td>Graduate</td>\n",
       "      <td>No</td>\n",
       "      <td>4583</td>\n",
       "      <td>1508.0</td>\n",
       "      <td>128.0</td>\n",
       "      <td>360.0</td>\n",
       "      <td>Has Credit History</td>\n",
       "      <td>Rural</td>\n",
       "      <td>N</td>\n",
       "    </tr>\n",
       "    <tr>\n",
       "      <th>2</th>\n",
       "      <td>LP001005</td>\n",
       "      <td>Male</td>\n",
       "      <td>Yes</td>\n",
       "      <td>0</td>\n",
       "      <td>Graduate</td>\n",
       "      <td>Yes</td>\n",
       "      <td>3000</td>\n",
       "      <td>0.0</td>\n",
       "      <td>66.0</td>\n",
       "      <td>360.0</td>\n",
       "      <td>Has Credit History</td>\n",
       "      <td>Urban</td>\n",
       "      <td>Y</td>\n",
       "    </tr>\n",
       "    <tr>\n",
       "      <th>3</th>\n",
       "      <td>LP001006</td>\n",
       "      <td>Male</td>\n",
       "      <td>Yes</td>\n",
       "      <td>0</td>\n",
       "      <td>Not Graduate</td>\n",
       "      <td>No</td>\n",
       "      <td>2583</td>\n",
       "      <td>2358.0</td>\n",
       "      <td>120.0</td>\n",
       "      <td>360.0</td>\n",
       "      <td>Has Credit History</td>\n",
       "      <td>Urban</td>\n",
       "      <td>Y</td>\n",
       "    </tr>\n",
       "    <tr>\n",
       "      <th>4</th>\n",
       "      <td>LP001008</td>\n",
       "      <td>Male</td>\n",
       "      <td>No</td>\n",
       "      <td>0</td>\n",
       "      <td>Graduate</td>\n",
       "      <td>No</td>\n",
       "      <td>6000</td>\n",
       "      <td>0.0</td>\n",
       "      <td>141.0</td>\n",
       "      <td>360.0</td>\n",
       "      <td>Has Credit History</td>\n",
       "      <td>Urban</td>\n",
       "      <td>Y</td>\n",
       "    </tr>\n",
       "    <tr>\n",
       "      <th>5</th>\n",
       "      <td>LP001011</td>\n",
       "      <td>Male</td>\n",
       "      <td>Yes</td>\n",
       "      <td>2</td>\n",
       "      <td>Graduate</td>\n",
       "      <td>Yes</td>\n",
       "      <td>5417</td>\n",
       "      <td>4196.0</td>\n",
       "      <td>267.0</td>\n",
       "      <td>360.0</td>\n",
       "      <td>Has Credit History</td>\n",
       "      <td>Urban</td>\n",
       "      <td>Y</td>\n",
       "    </tr>\n",
       "  </tbody>\n",
       "</table>\n",
       "</div>"
      ],
      "text/plain": [
       "    Loan_ID Gender Married  Dependents     Education SelfEmployed  \\\n",
       "1  LP001003   Male     Yes           1      Graduate           No   \n",
       "2  LP001005   Male     Yes           0      Graduate          Yes   \n",
       "3  LP001006   Male     Yes           0  Not Graduate           No   \n",
       "4  LP001008   Male      No           0      Graduate           No   \n",
       "5  LP001011   Male     Yes           2      Graduate          Yes   \n",
       "\n",
       "   ApplicantIncome  CoapplicantIncome  LoanAmount  Loan_Amount_Term  \\\n",
       "1             4583             1508.0       128.0             360.0   \n",
       "2             3000                0.0        66.0             360.0   \n",
       "3             2583             2358.0       120.0             360.0   \n",
       "4             6000                0.0       141.0             360.0   \n",
       "5             5417             4196.0       267.0             360.0   \n",
       "\n",
       "       Credit_History Property_Area Loan_Status  \n",
       "1  Has Credit History         Rural           N  \n",
       "2  Has Credit History         Urban           Y  \n",
       "3  Has Credit History         Urban           Y  \n",
       "4  Has Credit History         Urban           Y  \n",
       "5  Has Credit History         Urban           Y  "
      ]
     },
     "execution_count": 8,
     "metadata": {},
     "output_type": "execute_result"
    }
   ],
   "source": [
    "df.head()"
   ]
  },
  {
   "cell_type": "code",
   "execution_count": 9,
   "id": "a8c30f35",
   "metadata": {},
   "outputs": [],
   "source": [
    "from sklearn.preprocessing import LabelEncoder\n",
    "encoder = LabelEncoder()\n",
    "df['Loan_Status'] = encoder.fit_transform(df['Loan_Status'])"
   ]
  },
  {
   "cell_type": "code",
   "execution_count": 10,
   "id": "0530be87",
   "metadata": {},
   "outputs": [
    {
     "data": {
      "text/html": [
       "<div>\n",
       "<style scoped>\n",
       "    .dataframe tbody tr th:only-of-type {\n",
       "        vertical-align: middle;\n",
       "    }\n",
       "\n",
       "    .dataframe tbody tr th {\n",
       "        vertical-align: top;\n",
       "    }\n",
       "\n",
       "    .dataframe thead th {\n",
       "        text-align: right;\n",
       "    }\n",
       "</style>\n",
       "<table border=\"1\" class=\"dataframe\">\n",
       "  <thead>\n",
       "    <tr style=\"text-align: right;\">\n",
       "      <th></th>\n",
       "      <th>Loan_ID</th>\n",
       "      <th>Gender</th>\n",
       "      <th>Married</th>\n",
       "      <th>Dependents</th>\n",
       "      <th>Education</th>\n",
       "      <th>SelfEmployed</th>\n",
       "      <th>ApplicantIncome</th>\n",
       "      <th>CoapplicantIncome</th>\n",
       "      <th>LoanAmount</th>\n",
       "      <th>Loan_Amount_Term</th>\n",
       "      <th>Credit_History</th>\n",
       "      <th>Property_Area</th>\n",
       "      <th>Loan_Status</th>\n",
       "    </tr>\n",
       "  </thead>\n",
       "  <tbody>\n",
       "    <tr>\n",
       "      <th>1</th>\n",
       "      <td>LP001003</td>\n",
       "      <td>Male</td>\n",
       "      <td>Yes</td>\n",
       "      <td>1</td>\n",
       "      <td>Graduate</td>\n",
       "      <td>No</td>\n",
       "      <td>4583</td>\n",
       "      <td>1508.0</td>\n",
       "      <td>128.0</td>\n",
       "      <td>360.0</td>\n",
       "      <td>Has Credit History</td>\n",
       "      <td>Rural</td>\n",
       "      <td>0</td>\n",
       "    </tr>\n",
       "    <tr>\n",
       "      <th>2</th>\n",
       "      <td>LP001005</td>\n",
       "      <td>Male</td>\n",
       "      <td>Yes</td>\n",
       "      <td>0</td>\n",
       "      <td>Graduate</td>\n",
       "      <td>Yes</td>\n",
       "      <td>3000</td>\n",
       "      <td>0.0</td>\n",
       "      <td>66.0</td>\n",
       "      <td>360.0</td>\n",
       "      <td>Has Credit History</td>\n",
       "      <td>Urban</td>\n",
       "      <td>1</td>\n",
       "    </tr>\n",
       "    <tr>\n",
       "      <th>3</th>\n",
       "      <td>LP001006</td>\n",
       "      <td>Male</td>\n",
       "      <td>Yes</td>\n",
       "      <td>0</td>\n",
       "      <td>Not Graduate</td>\n",
       "      <td>No</td>\n",
       "      <td>2583</td>\n",
       "      <td>2358.0</td>\n",
       "      <td>120.0</td>\n",
       "      <td>360.0</td>\n",
       "      <td>Has Credit History</td>\n",
       "      <td>Urban</td>\n",
       "      <td>1</td>\n",
       "    </tr>\n",
       "    <tr>\n",
       "      <th>4</th>\n",
       "      <td>LP001008</td>\n",
       "      <td>Male</td>\n",
       "      <td>No</td>\n",
       "      <td>0</td>\n",
       "      <td>Graduate</td>\n",
       "      <td>No</td>\n",
       "      <td>6000</td>\n",
       "      <td>0.0</td>\n",
       "      <td>141.0</td>\n",
       "      <td>360.0</td>\n",
       "      <td>Has Credit History</td>\n",
       "      <td>Urban</td>\n",
       "      <td>1</td>\n",
       "    </tr>\n",
       "    <tr>\n",
       "      <th>5</th>\n",
       "      <td>LP001011</td>\n",
       "      <td>Male</td>\n",
       "      <td>Yes</td>\n",
       "      <td>2</td>\n",
       "      <td>Graduate</td>\n",
       "      <td>Yes</td>\n",
       "      <td>5417</td>\n",
       "      <td>4196.0</td>\n",
       "      <td>267.0</td>\n",
       "      <td>360.0</td>\n",
       "      <td>Has Credit History</td>\n",
       "      <td>Urban</td>\n",
       "      <td>1</td>\n",
       "    </tr>\n",
       "  </tbody>\n",
       "</table>\n",
       "</div>"
      ],
      "text/plain": [
       "    Loan_ID Gender Married  Dependents     Education SelfEmployed  \\\n",
       "1  LP001003   Male     Yes           1      Graduate           No   \n",
       "2  LP001005   Male     Yes           0      Graduate          Yes   \n",
       "3  LP001006   Male     Yes           0  Not Graduate           No   \n",
       "4  LP001008   Male      No           0      Graduate           No   \n",
       "5  LP001011   Male     Yes           2      Graduate          Yes   \n",
       "\n",
       "   ApplicantIncome  CoapplicantIncome  LoanAmount  Loan_Amount_Term  \\\n",
       "1             4583             1508.0       128.0             360.0   \n",
       "2             3000                0.0        66.0             360.0   \n",
       "3             2583             2358.0       120.0             360.0   \n",
       "4             6000                0.0       141.0             360.0   \n",
       "5             5417             4196.0       267.0             360.0   \n",
       "\n",
       "       Credit_History Property_Area  Loan_Status  \n",
       "1  Has Credit History         Rural            0  \n",
       "2  Has Credit History         Urban            1  \n",
       "3  Has Credit History         Urban            1  \n",
       "4  Has Credit History         Urban            1  \n",
       "5  Has Credit History         Urban            1  "
      ]
     },
     "execution_count": 10,
     "metadata": {},
     "output_type": "execute_result"
    }
   ],
   "source": [
    "df.head()"
   ]
  },
  {
   "cell_type": "code",
   "execution_count": 11,
   "id": "7ea81b10",
   "metadata": {},
   "outputs": [
    {
     "name": "stdout",
     "output_type": "stream",
     "text": [
      "The fraction of men who got loans: 0.7055837563451777\n"
     ]
    }
   ],
   "source": [
    "males = df[df['Gender'] == 'Male']['Loan_Status']\n",
    "male_loans = males.sum()/len(males)\n",
    "print('''The fraction of men who got loans:''', male_loans)"
   ]
  },
  {
   "cell_type": "code",
   "execution_count": 12,
   "id": "b267d11e",
   "metadata": {},
   "outputs": [
    {
     "name": "stdout",
     "output_type": "stream",
     "text": [
      "The fraction of women who got loans: 0.627906976744186\n"
     ]
    }
   ],
   "source": [
    "females = df[df['Gender'] == 'Female']['Loan_Status']\n",
    "female_loans = females.sum()/len(females)\n",
    "print('''The fraction of women who got loans:''', female_loans)"
   ]
  },
  {
   "cell_type": "code",
   "execution_count": 13,
   "id": "c1a71e80",
   "metadata": {},
   "outputs": [
    {
     "name": "stdout",
     "output_type": "stream",
     "text": [
      "The fraction of graduates who got loans: 0.7075718015665796\n"
     ]
    }
   ],
   "source": [
    "grads = df[df['Education'] == 'Graduate']['Loan_Status']\n",
    "grad_loans = grads.sum()/len(grads)\n",
    "print('''The fraction of graduates who got loans:''', grad_loans)"
   ]
  },
  {
   "cell_type": "code",
   "execution_count": 14,
   "id": "2d3580b0",
   "metadata": {},
   "outputs": [
    {
     "name": "stdout",
     "output_type": "stream",
     "text": [
      "The fraction of non-graduates who got loans: 0.6288659793814433\n"
     ]
    }
   ],
   "source": [
    "nongrads = df[df['Education'] == 'Not Graduate']['Loan_Status']\n",
    "nongrad_loans = nongrads.sum()/len(nongrads)\n",
    "print('''The fraction of non-graduates who got loans:''', nongrad_loans)"
   ]
  },
  {
   "cell_type": "code",
   "execution_count": 15,
   "id": "309461f0",
   "metadata": {},
   "outputs": [
    {
     "name": "stdout",
     "output_type": "stream",
     "text": [
      "The fraction of applicants with credit history who got loans: 0.7926829268292683\n"
     ]
    }
   ],
   "source": [
    "cred_hist = df[df['Credit_History'] == 'Has Credit History']['Loan_Status']\n",
    "cred_hist_loans = cred_hist.sum()/len(cred_hist)\n",
    "print('''The fraction of applicants with credit history who got loans:''', cred_hist_loans)"
   ]
  },
  {
   "cell_type": "code",
   "execution_count": 16,
   "id": "b73e4e38",
   "metadata": {},
   "outputs": [
    {
     "name": "stdout",
     "output_type": "stream",
     "text": [
      "The fraction of applicants with no credit history who got loans: 0.1\n"
     ]
    }
   ],
   "source": [
    "nocred_hist = df[df['Credit_History'] == 'Has No Credit History']['Loan_Status']\n",
    "nocred_hist_loans = nocred_hist.sum()/len(nocred_hist)\n",
    "print('''The fraction of applicants with no credit history who got loans:''', nocred_hist_loans)"
   ]
  },
  {
   "cell_type": "markdown",
   "id": "42bf0b16",
   "metadata": {},
   "source": [
    "# Data Visualisation"
   ]
  },
  {
   "cell_type": "code",
   "execution_count": 17,
   "id": "6df954c4",
   "metadata": {},
   "outputs": [
    {
     "data": {
      "image/png": "[encoded data removed]",
      "text/plain": [
       "<Figure size 1800x1008 with 6 Axes>"
      ]
     },
     "metadata": {
      "needs_background": "light"
     },
     "output_type": "display_data"
    }
   ],
   "source": [
    "plt.figure(figsize=(25, 14))\n",
    "plt.subplot(3,3,1)\n",
    "plt.xlabel('', fontsize=16)\n",
    "plt.ylabel('', fontsize=16)\n",
    "plt.xticks(fontsize=16)\n",
    "plt.yticks(fontsize=14)\n",
    "plt.grid(linewidth=2, zorder=0)\n",
    "ax = sns.countplot(data = df, x=df['Gender'], hue = df['Loan_Status'])\n",
    "ax.set_axisbelow(True)\n",
    "legend = ax.legend(fontsize = 20)\n",
    "legend.set_title('Loan Status', prop={'size': 15})\n",
    "plt.subplot(3,3,2)\n",
    "plt.xlabel('', fontsize=16)\n",
    "plt.ylabel('', fontsize=16)\n",
    "plt.xticks(fontsize=16)\n",
    "plt.yticks(fontsize=14)\n",
    "plt.grid(linestyle = '-', linewidth=2, zorder=0)\n",
    "ax = sns.countplot(data = df, x=df['Education'], hue = df['Loan_Status'])\n",
    "ax.set_axisbelow(True)\n",
    "legend = ax.legend(fontsize = 20)\n",
    "legend.set_title('Loan Status', prop={'size': 15})\n",
    "plt.subplot(3,3,3)\n",
    "plt.xlabel('', fontsize=16)\n",
    "plt.ylabel('', fontsize=16)\n",
    "plt.xticks(fontsize=16)\n",
    "plt.yticks(fontsize=14)\n",
    "plt.grid(linestyle = '-', linewidth=2, zorder=0)\n",
    "ax = sns.countplot(data = df, x=df['Credit_History'], hue = df['Loan_Status'])\n",
    "ax.set_axisbelow(True)\n",
    "legend = ax.legend(fontsize = 20)\n",
    "legend.set_title('Loan Status', prop={'size': 15})\n",
    "plt.subplot(3,3,4)\n",
    "plt.xlabel('', fontsize=16)\n",
    "plt.ylabel('', fontsize=16)\n",
    "plt.xticks(fontsize=16)\n",
    "plt.yticks(fontsize=14)\n",
    "plt.grid(linestyle = '-', linewidth=2, zorder=0)\n",
    "ax = sns.countplot(data = df, x=df['Married'], hue = df['Loan_Status'])\n",
    "ax.set_axisbelow(True)\n",
    "legend = ax.legend(fontsize = 20)\n",
    "legend.set_title('Loan Status', prop={'size': 15})\n",
    "plt.subplot(3,3,5)\n",
    "plt.xlabel('', fontsize=16)\n",
    "plt.ylabel('', fontsize=16)\n",
    "plt.xticks(fontsize=16)\n",
    "plt.yticks(fontsize=14)\n",
    "plt.grid(linestyle = '-', linewidth=2, zorder=0)\n",
    "ax = sns.countplot(data = df, x=df['SelfEmployed'], hue = df['Loan_Status'])\n",
    "ax.set_axisbelow(True)\n",
    "legend = ax.legend(fontsize = 20)\n",
    "legend.set_title('Loan Status', prop={'size': 15})\n",
    "plt.subplot(3,3,6)\n",
    "plt.xlabel('', fontsize=16)\n",
    "plt.ylabel('', fontsize=16)\n",
    "plt.xticks(fontsize=16)\n",
    "plt.yticks(fontsize=14)\n",
    "plt.grid(linestyle = '-', linewidth=2, zorder=0)\n",
    "ax = sns.countplot(data = df, x=df['Dependents'], hue = df['Loan_Status'])\n",
    "ax.set_axisbelow(True)\n",
    "legend = ax.legend(fontsize = 20)\n",
    "legend.set_title('Loan Status', prop={'size': 15})\n",
    "plt.show()"
   ]
  },
  {
   "cell_type": "markdown",
   "id": "6edfc018",
   "metadata": {},
   "source": [
    "# Random Forest Classifier"
   ]
  },
  {
   "cell_type": "markdown",
   "id": "fac79556",
   "metadata": {},
   "source": [
    "## Splitting the Dataset"
   ]
  },
  {
   "cell_type": "code",
   "execution_count": 18,
   "id": "c8390c1a",
   "metadata": {
    "scrolled": true
   },
   "outputs": [],
   "source": [
    "from sklearn.model_selection import train_test_split, GridSearchCV\n",
    "columns_to_encode = ['Gender', 'Married', 'Education', 'SelfEmployed', 'Property_Area', 'Credit_History']\n",
    "df = pd.get_dummies(df, columns = columns_to_encode)"
   ]
  },
  {
   "cell_type": "code",
   "execution_count": 19,
   "id": "6419fcc0",
   "metadata": {},
   "outputs": [],
   "source": [
    "X = df.drop(columns = ['Loan_ID', 'Loan_Status'])\n",
    "y = df['Loan_Status']"
   ]
  },
  {
   "cell_type": "code",
   "execution_count": 20,
   "id": "bfa7e195",
   "metadata": {},
   "outputs": [],
   "source": [
    "X_train, X_test, y_train, y_test = train_test_split(X, y, test_size = 0.2, random_state = 7)"
   ]
  },
  {
   "cell_type": "markdown",
   "id": "54bb0661",
   "metadata": {},
   "source": [
    "## Training the Model"
   ]
  },
  {
   "cell_type": "code",
   "execution_count": 21,
   "id": "bdbace80",
   "metadata": {},
   "outputs": [],
   "source": [
    "from sklearn.ensemble import RandomForestClassifier"
   ]
  },
  {
   "cell_type": "code",
   "execution_count": 22,
   "id": "283b8fbd",
   "metadata": {},
   "outputs": [
    {
     "data": {
      "text/plain": [
       "RandomForestClassifier(n_estimators=25, random_state=21)"
      ]
     },
     "execution_count": 22,
     "metadata": {},
     "output_type": "execute_result"
    }
   ],
   "source": [
    "model = RandomForestClassifier(n_estimators = 25, random_state = 21)\n",
    "model.fit(X_train, y_train)"
   ]
  },
  {
   "cell_type": "markdown",
   "id": "cc360667",
   "metadata": {},
   "source": [
    "## Making Predictions"
   ]
  },
  {
   "cell_type": "code",
   "execution_count": 23,
   "id": "b50ab6be",
   "metadata": {},
   "outputs": [],
   "source": [
    "y_pred = model.predict(X_test)"
   ]
  },
  {
   "cell_type": "markdown",
   "id": "0a2d3378",
   "metadata": {},
   "source": [
    "## Model Evaluation"
   ]
  },
  {
   "cell_type": "code",
   "execution_count": 24,
   "id": "42e5a201",
   "metadata": {},
   "outputs": [],
   "source": [
    "from sklearn.metrics import accuracy_score, confusion_matrix"
   ]
  },
  {
   "cell_type": "code",
   "execution_count": 25,
   "id": "3554aa78",
   "metadata": {},
   "outputs": [],
   "source": [
    "accuracy = accuracy_score(y_test, y_pred)"
   ]
  },
  {
   "cell_type": "code",
   "execution_count": 26,
   "id": "42306c7c",
   "metadata": {},
   "outputs": [
    {
     "data": {
      "image/png": "[encoded data removed]",
      "text/plain": [
       "<Figure size 720x432 with 2 Axes>"
      ]
     },
     "metadata": {
      "needs_background": "light"
     },
     "output_type": "display_data"
    }
   ],
   "source": [
    "cm = confusion_matrix(y_test, y_pred)\n",
    "labels = ['Loan Approved', 'Loan Not Approved']\n",
    "plt.figure(figsize=(10, 6))\n",
    "sns.heatmap(cm, annot=True, xticklabels = labels, yticklabels = labels)\n",
    "plt.title('Confusion Matrix For Loan Status', fontsize=17)\n",
    "plt.xlabel('Predicted Loan Status', fontsize=15)\n",
    "plt.ylabel('Actual Loan Status', fontsize=15)\n",
    "plt.show()"
   ]
  },
  {
   "cell_type": "code",
   "execution_count": 27,
   "id": "80102b20",
   "metadata": {},
   "outputs": [
    {
     "data": {
      "text/plain": [
       "0.75"
      ]
     },
     "execution_count": 27,
     "metadata": {},
     "output_type": "execute_result"
    }
   ],
   "source": [
    "accuracy"
   ]
  },
  {
   "cell_type": "markdown",
   "id": "cbf27f1b",
   "metadata": {},
   "source": [
    "The next thing to consider is can we tune the hyperparameters in our model to improve the performance/accuracy of the model."
   ]
  },
  {
   "cell_type": "markdown",
   "id": "323881d3",
   "metadata": {},
   "source": [
    "# Hyperparameter Tuning"
   ]
  },
  {
   "cell_type": "markdown",
   "id": "77d038d6",
   "metadata": {},
   "source": [
    "## GridSearch & Cross Validation"
   ]
  },
  {
   "cell_type": "code",
   "execution_count": 28,
   "id": "ca645dae",
   "metadata": {},
   "outputs": [],
   "source": [
    "from sklearn.ensemble import RandomForestClassifier, GradientBoostingClassifier\n",
    "from sklearn.svm import SVR\n",
    "from sklearn.linear_model import LogisticRegression\n",
    "from sklearn.neighbors import KNeighborsClassifier\n",
    "from sklearn.tree import DecisionTreeClassifier\n",
    "from xgboost import XGBClassifier"
   ]
  },
  {
   "cell_type": "code",
   "execution_count": 29,
   "id": "0d0ada71",
   "metadata": {},
   "outputs": [
    {
     "name": "stdout",
     "output_type": "stream",
     "text": [
      "Grid search for RandomForest...\n",
      "Best hyperparameters for RandomForest: {'max_depth': None, 'min_samples_leaf': 2, 'min_samples_split': 2, 'n_estimators': 100}\n",
      "Accuracy of the best RandomForest model on test set: 0.7917\n",
      "\n",
      "Grid search for DecisionTree...\n",
      "Best hyperparameters for DecisionTree: {'max_depth': 5, 'min_samples_leaf': 2, 'min_samples_split': 5}\n",
      "Accuracy of the best DecisionTree model on test set: 0.7708\n",
      "\n",
      "Grid search for GradientBoosting...\n",
      "Best hyperparameters for GradientBoosting: {'learning_rate': 0.05, 'max_depth': 3, 'n_estimators': 50}\n",
      "Accuracy of the best GradientBoosting model on test set: 0.7708\n",
      "\n",
      "Grid search for XGBoost...\n",
      "Best hyperparameters for XGBoost: {'learning_rate': 0.05, 'max_depth': 3, 'n_estimators': 50}\n",
      "Accuracy of the best XGBoost model on test set: 0.7708\n",
      "\n",
      "Grid search for LogisticRegression...\n",
      "Best hyperparameters for LogisticRegression: {'C': 1, 'max_iter': 500, 'solver': 'lbfgs'}\n",
      "Accuracy of the best LogisticRegression model on test set: 0.7604\n",
      "\n"
     ]
    }
   ],
   "source": [
    "param_grid_rf = {\n",
    "    'n_estimators': [50, 100],\n",
    "    'max_depth': [None, 10],\n",
    "    'min_samples_split': [2, 5],\n",
    "    'min_samples_leaf': [1, 2]\n",
    "}\n",
    "\n",
    "param_grid_dt = {\n",
    "    'max_depth': [None, 5, 10, 15],\n",
    "    'min_samples_split': [2, 5, 10],\n",
    "    'min_samples_leaf': [1, 2, 4]\n",
    "}\n",
    "\n",
    "param_grid_gbm = {\n",
    "    'n_estimators': [50, 100],\n",
    "    'learning_rate': [0.05, 0.1, 0.2],\n",
    "    'max_depth': [3, 5, 7]\n",
    "}\n",
    "\n",
    "param_grid_xgb = {\n",
    "    'n_estimators': [50, 100],\n",
    "    'learning_rate': [0.05, 0.1, 0.2],\n",
    "    'max_depth': [3, 5, 7]\n",
    "}\n",
    "param_grid_lr = {\n",
    "    'C': [0.1, 1, 10],\n",
    "    'solver': ['liblinear', 'lbfgs'],\n",
    "    'max_iter': [500, 1000, 10000]\n",
    "}\n",
    "# Create dictionary of models and their respective parameter grids\n",
    "models = {\n",
    "    'RandomForest': (RandomForestClassifier(), param_grid_rf),\n",
    "    'DecisionTree': (DecisionTreeClassifier(), param_grid_dt),\n",
    "    'GradientBoosting': (GradientBoostingClassifier(), param_grid_gbm),\n",
    "    'XGBoost': (XGBClassifier(), param_grid_xgb),\n",
    "    'LogisticRegression': (LogisticRegression(), param_grid_lr)\n",
    "    \n",
    "}\n",
    "\n",
    "# Perform grid search for each model\n",
    "\n",
    "for model_name, (model, param_grid) in models.items():\n",
    "    print(f\"Grid search for {model_name}...\")\n",
    "    grid_search = GridSearchCV(model, param_grid, cv=5, scoring='accuracy')\n",
    "    grid_search.fit(X_train, y_train)\n",
    "    \n",
    "    # Get the best hyperparameters\n",
    "    best_params = grid_search.best_params_\n",
    "    print(f\"Best hyperparameters for {model_name}: {best_params}\")\n",
    "    \n",
    "    # Evaluate the best model on the test set\n",
    "    best_model = grid_search.best_estimator_\n",
    "    y_pred = best_model.predict(X_test)\n",
    "    accuracy = accuracy_score(y_test, y_pred)\n",
    "    print(f\"Accuracy of the best {model_name} model on test set: {accuracy:.4f}\\n\")"
   ]
  },
  {
   "cell_type": "markdown",
   "id": "9055f3b8",
   "metadata": {},
   "source": [
    "So it turns out we have improved the model slighly using GridSearch and Cross Validation."
   ]
  }
 ],
 "metadata": {
  "kernelspec": {
   "display_name": "Python 3 (ipykernel)",
   "language": "python",
   "name": "python3"
  },
  "language_info": {
   "codemirror_mode": {
    "name": "ipython",
    "version": 3
   },
   "file_extension": ".py",
   "mimetype": "text/x-python",
   "name": "python",
   "nbconvert_exporter": "python",
   "pygments_lexer": "ipython3",
   "version": "3.9.6"
  }
 },
 "nbformat": 4,
 "nbformat_minor": 5
}
