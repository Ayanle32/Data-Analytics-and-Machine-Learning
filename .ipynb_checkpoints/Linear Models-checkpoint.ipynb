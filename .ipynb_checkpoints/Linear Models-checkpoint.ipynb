{
 "cells": [
  {
   "cell_type": "code",
   "execution_count": 106,
   "id": "7410aebd",
   "metadata": {},
   "outputs": [],
   "source": [
    "import numpy as np\n",
    "import matplotlib.pyplot as plt"
   ]
  },
  {
   "cell_type": "code",
   "execution_count": 107,
   "id": "2460dac5",
   "metadata": {},
   "outputs": [],
   "source": [
    "X = 2*np.random.rand(100, 1)\n",
    "y = 4 + 3*X + np.random.randn(100, 1)"
   ]
  },
  {
   "cell_type": "code",
   "execution_count": 108,
   "id": "663db8a8",
   "metadata": {},
   "outputs": [
    {
     "data": {
      "image/png": "[encoded data removed]",
      "text/plain": [
       "<Figure size 720x504 with 1 Axes>"
      ]
     },
     "metadata": {
      "needs_background": "light"
     },
     "output_type": "display_data"
    }
   ],
   "source": [
    "def plot(X, y):\n",
    "    plt.figure(figsize=(10, 7))\n",
    "    plt.scatter(X, y, color='blue', s=5)\n",
    "    plt.xlabel(\"X\", fontsize=12)\n",
    "    plt.ylabel(\"y\", fontsize=12)\n",
    "    plt.show()\n",
    "\n",
    "plot(X, y)"
   ]
  },
  {
   "cell_type": "markdown",
   "id": "4a5da764",
   "metadata": {},
   "source": [
    "The normal equation is $\\hat{\\theta} = (X^TX)^{-1}X^Ty$ we can find the parameters of the model by solving this equation by brute force."
   ]
  },
  {
   "cell_type": "code",
   "execution_count": 109,
   "id": "b5dd05e8",
   "metadata": {},
   "outputs": [],
   "source": [
    "X_b = np.c_[np.ones((100,1)), X]"
   ]
  },
  {
   "cell_type": "code",
   "execution_count": 110,
   "id": "bfacb273",
   "metadata": {},
   "outputs": [
    {
     "data": {
      "text/plain": [
       "array([[4.27531386],\n",
       "       [2.7102615 ]])"
      ]
     },
     "execution_count": 110,
     "metadata": {},
     "output_type": "execute_result"
    }
   ],
   "source": [
    "theta_best = np.linalg.inv(X_b.T.dot(X_b)).dot(X_b.T).dot(y)\n",
    "theta_best # not exactly 4 and 3 because of the Gaussian noise term"
   ]
  },
  {
   "cell_type": "code",
   "execution_count": 111,
   "id": "690d2621",
   "metadata": {},
   "outputs": [
    {
     "data": {
      "text/plain": [
       "array([[4.27531386],\n",
       "       [9.69583685]])"
      ]
     },
     "execution_count": 111,
     "metadata": {},
     "output_type": "execute_result"
    }
   ],
   "source": [
    "X_new = np.array([[0], [2]])\n",
    "X_new_b = np.c_[np.ones((2, 1)), X_new]\n",
    "y_pred = X_new_b.dot(theta_best) # making prediction using found paramters\n",
    "y_pred"
   ]
  },
  {
   "cell_type": "code",
   "execution_count": 112,
   "id": "71d0c5eb",
   "metadata": {},
   "outputs": [
    {
     "data": {
      "image/png": "[encoded data removed]",
      "text/plain": [
       "<Figure size 720x504 with 1 Axes>"
      ]
     },
     "metadata": {
      "needs_background": "light"
     },
     "output_type": "display_data"
    }
   ],
   "source": [
    "plt.figure(figsize=(10, 7))\n",
    "plt.scatter(X, y, color='blue', s=5)\n",
    "plt.plot(X_new, y_pred, 'r', label=\"Predictions\")\n",
    "plt.xlabel(\"X\", fontsize=12)\n",
    "plt.ylabel(\"y\", fontsize=12)\n",
    "plt.axis([0, 2, 0, 15])\n",
    "plt.legend(fontsize=13)\n",
    "plt.show()"
   ]
  },
  {
   "cell_type": "markdown",
   "id": "4dc15ad8",
   "metadata": {},
   "source": [
    "# Linear Regression Using Scikit-Learn"
   ]
  },
  {
   "cell_type": "code",
   "execution_count": 113,
   "id": "d2842d82",
   "metadata": {},
   "outputs": [],
   "source": [
    "from sklearn.linear_model import LinearRegression"
   ]
  },
  {
   "cell_type": "code",
   "execution_count": 114,
   "id": "971b19f2",
   "metadata": {},
   "outputs": [],
   "source": [
    "lin_reg = LinearRegression()"
   ]
  },
  {
   "cell_type": "code",
   "execution_count": 115,
   "id": "57e4a6b2",
   "metadata": {},
   "outputs": [
    {
     "data": {
      "text/plain": [
       "LinearRegression()"
      ]
     },
     "execution_count": 115,
     "metadata": {},
     "output_type": "execute_result"
    }
   ],
   "source": [
    "lin_reg.fit(X, y)"
   ]
  },
  {
   "cell_type": "code",
   "execution_count": 116,
   "id": "98cb3704",
   "metadata": {},
   "outputs": [
    {
     "name": "stdout",
     "output_type": "stream",
     "text": [
      "bias: [4.27531386], weight: [[2.7102615]]\n"
     ]
    }
   ],
   "source": [
    "bias, weight = lin_reg.intercept_, lin_reg.coef_\n",
    "print((\"bias: {}, weight: {}\").format(bias, weight))"
   ]
  },
  {
   "cell_type": "markdown",
   "id": "83412c9e",
   "metadata": {},
   "source": [
    "The LinearRegression Class is based on the scipy.linalg.listq() function which is "
   ]
  },
  {
   "cell_type": "code",
   "execution_count": 117,
   "id": "6ecee331",
   "metadata": {},
   "outputs": [
    {
     "data": {
      "text/plain": [
       "array([[4.27531386],\n",
       "       [2.7102615 ]])"
      ]
     },
     "execution_count": 117,
     "metadata": {},
     "output_type": "execute_result"
    }
   ],
   "source": [
    "theta_best_svd, residuals, rank, s = np.linalg.lstsq(X_b, y, rcond=1e-6)\n",
    "theta_best_svd"
   ]
  },
  {
   "cell_type": "markdown",
   "id": "e9009556",
   "metadata": {},
   "source": [
    "This computes the $\\bf{\\hat{\\theta}} = \\bf{X}^{+}\\bf{y}$ where $\\bf{X}^{+}$ is the pseudoinverse. It can be computed directly as"
   ]
  },
  {
   "cell_type": "code",
   "execution_count": 118,
   "id": "89908dbc",
   "metadata": {},
   "outputs": [
    {
     "data": {
      "text/plain": [
       "array([[4.27531386],\n",
       "       [2.7102615 ]])"
      ]
     },
     "execution_count": 118,
     "metadata": {},
     "output_type": "execute_result"
    }
   ],
   "source": [
    "np.linalg.pinv(X_b).dot(y)"
   ]
  },
  {
   "cell_type": "markdown",
   "id": "05305091",
   "metadata": {},
   "source": [
    "# Gradient Descent"
   ]
  },
  {
   "cell_type": "markdown",
   "id": "8891799d",
   "metadata": {},
   "source": [
    "## Batch Gradient Descent"
   ]
  },
  {
   "cell_type": "markdown",
   "id": "102c0314",
   "metadata": {},
   "source": [
    "Implementing Gradient Descent involves computing the partial derivatives of the cost function with respect to the model parameters.\n",
    "\n",
    "$\\Large \\frac{\\partial}{\\partial \\theta_j} MSE(\\bf{\\theta}) = \\frac{2}{m} \\sum_{i=1}^{m}\\left(\\bf{\\theta^T}\\bf{x^{(i)}} - y^{(i)}\\right)x^{(i)}_{j}$\n",
    "\n",
    "and in matrix form this becomes the gradient vector\n",
    "\n",
    "$ \\Large \\nabla_{\\bf{\\theta}}MSE(\\bf{\\theta}) = \\begin{pmatrix}\\frac{\\partial}{\\partial \\theta_0}MSE(\\bf{\\theta})\\\\ \\frac{\\partial}{\\partial \\theta_1}MSE(\\bf{\\theta}) \\\\\n",
    "\\vdots\\\\\n",
    "\\frac{\\partial}{\\partial \\theta_n}MSE(\\bf{\\theta})\\end{pmatrix} = \\frac{2}{m}\\bf{X^T}(\\bf{X}\\bf{\\theta} - \\bf{y})$"
   ]
  },
  {
   "cell_type": "code",
   "execution_count": 119,
   "id": "c4ea22d9",
   "metadata": {},
   "outputs": [],
   "source": [
    "lr = 0.1 # learning rate\n",
    "n_iterations = 1000\n",
    "m = 100\n",
    "\n",
    "theta = np.random.randn(2, 1) # random initialization\n",
    "\n",
    "for i in range(n_iterations):\n",
    "    gradients = 2/m*X_b.T.dot(X_b.dot(theta) - y)\n",
    "    theta = theta - gradients*lr"
   ]
  },
  {
   "cell_type": "code",
   "execution_count": 120,
   "id": "43ef537f",
   "metadata": {},
   "outputs": [
    {
     "data": {
      "text/plain": [
       "array([[4.27531386],\n",
       "       [2.7102615 ]])"
      ]
     },
     "execution_count": 120,
     "metadata": {},
     "output_type": "execute_result"
    }
   ],
   "source": [
    "theta"
   ]
  },
  {
   "cell_type": "markdown",
   "id": "b656dd2a",
   "metadata": {},
   "source": [
    "# Stochastic Gradient Descent"
   ]
  },
  {
   "cell_type": "code",
   "execution_count": 121,
   "id": "b11c281b",
   "metadata": {},
   "outputs": [],
   "source": [
    "n_epochs = 50\n",
    "t0, t1 = 5, 50 # learning schedule hyperparameters\n",
    "\n",
    "def learning_schedule(t):\n",
    "    return t0/(t + t1)\n",
    "\n",
    "theta = np.random.randn(2, 1) # random intialization\n",
    "\n",
    "for epoch in range(n_epochs):\n",
    "    for i in range(m):\n",
    "        rand_index = np.random.randint(m)\n",
    "        xi = X_b[rand_index:rand_index+1]\n",
    "        yi = y[rand_index:rand_index+1]\n",
    "        gradients = 2*xi.T.dot(xi.dot(theta) - yi)\n",
    "        lr = learning_schedule(epoch*m + i)\n",
    "        theta = theta - lr*gradients"
   ]
  },
  {
   "cell_type": "code",
   "execution_count": 122,
   "id": "3e18f31f",
   "metadata": {},
   "outputs": [
    {
     "data": {
      "text/plain": [
       "array([[4.25797815],\n",
       "       [2.72286133]])"
      ]
     },
     "execution_count": 122,
     "metadata": {},
     "output_type": "execute_result"
    }
   ],
   "source": [
    "theta"
   ]
  },
  {
   "cell_type": "markdown",
   "id": "d5c8d178",
   "metadata": {},
   "source": [
    "## Scikit-Learn"
   ]
  },
  {
   "cell_type": "code",
   "execution_count": 123,
   "id": "1f902f19",
   "metadata": {},
   "outputs": [],
   "source": [
    "from sklearn.linear_model import SGDRegressor"
   ]
  },
  {
   "cell_type": "code",
   "execution_count": 124,
   "id": "59040027",
   "metadata": {},
   "outputs": [
    {
     "data": {
      "text/plain": [
       "SGDRegressor(eta0=0.1, penalty=None)"
      ]
     },
     "execution_count": 124,
     "metadata": {},
     "output_type": "execute_result"
    }
   ],
   "source": [
    "sgd_reg = SGDRegressor(max_iter = 1000, tol = 0.001, penalty=None, eta0=0.1)\n",
    "sgd_reg.fit(X, y.ravel())"
   ]
  },
  {
   "cell_type": "code",
   "execution_count": 125,
   "id": "95171451",
   "metadata": {},
   "outputs": [
    {
     "data": {
      "text/plain": [
       "(array([4.24971769]), array([2.770857]))"
      ]
     },
     "execution_count": 125,
     "metadata": {},
     "output_type": "execute_result"
    }
   ],
   "source": [
    "sgd_reg.intercept_, sgd_reg.coef_"
   ]
  },
  {
   "cell_type": "markdown",
   "id": "22567eab",
   "metadata": {},
   "source": [
    "# Mini-batch Gradient Descent"
   ]
  },
  {
   "cell_type": "markdown",
   "id": "275a42ad",
   "metadata": {},
   "source": [
    "Same as SGD except we use random batches in the training rather than one instance."
   ]
  },
  {
   "cell_type": "code",
   "execution_count": 126,
   "id": "3269e50d",
   "metadata": {},
   "outputs": [],
   "source": [
    "n_epochs = 500\n",
    "batch_size = 20\n",
    "lr = 0.01\n",
    "theta_mb = np.random.randn(2, 1)\n",
    "indices = np.random.permutation(m)\n",
    "X_b = X_b[indices]\n",
    "y = y[indices]\n",
    "for epochs in range(n_epochs):\n",
    "    for i in range(0, m, batch_size):\n",
    "        xi = X_b[i:i+batch_size]\n",
    "        yi = y[i: i+batch_size]\n",
    "        gradients = 2/(batch_size) * xi.T.dot(xi.dot(theta_mb) - yi)\n",
    "        theta_mb -= lr*gradients                   "
   ]
  },
  {
   "cell_type": "code",
   "execution_count": 127,
   "id": "6505d8f1",
   "metadata": {},
   "outputs": [
    {
     "data": {
      "text/plain": [
       "array([[4.27134319],\n",
       "       [2.7159754 ]])"
      ]
     },
     "execution_count": 127,
     "metadata": {},
     "output_type": "execute_result"
    }
   ],
   "source": [
    "theta_mb"
   ]
  },
  {
   "cell_type": "markdown",
   "id": "afa4f0d8",
   "metadata": {},
   "source": [
    "# Polynomial Regression"
   ]
  },
  {
   "cell_type": "markdown",
   "id": "87873b29",
   "metadata": {},
   "source": [
    "## Generate Synthetic Data"
   ]
  },
  {
   "cell_type": "code",
   "execution_count": 128,
   "id": "32c05e54",
   "metadata": {},
   "outputs": [],
   "source": [
    "m = 100\n",
    "X = 6*np.random.rand(m, 1) - 3\n",
    "y = 0.5 * X**2 + X + 2 + np.random.randn(m, 1)"
   ]
  },
  {
   "cell_type": "code",
   "execution_count": 129,
   "id": "008f2cb1",
   "metadata": {},
   "outputs": [],
   "source": [
    "from sklearn.preprocessing import PolynomialFeatures"
   ]
  },
  {
   "cell_type": "code",
   "execution_count": 130,
   "id": "850e7181",
   "metadata": {},
   "outputs": [],
   "source": [
    "poly_features = PolynomialFeatures(degree=2, include_bias = False)\n",
    "X_poly = poly_features.fit_transform(X)"
   ]
  },
  {
   "cell_type": "code",
   "execution_count": 131,
   "id": "e66c17dd",
   "metadata": {},
   "outputs": [
    {
     "data": {
      "text/plain": [
       "LinearRegression()"
      ]
     },
     "execution_count": 131,
     "metadata": {},
     "output_type": "execute_result"
    }
   ],
   "source": [
    "lin_reg = LinearRegression()\n",
    "lin_reg.fit(X_poly, y)"
   ]
  },
  {
   "cell_type": "code",
   "execution_count": 132,
   "id": "c674d7fa",
   "metadata": {},
   "outputs": [
    {
     "data": {
      "text/plain": [
       "(array([1.95292408]), array([[1.09385945, 0.50187677]]))"
      ]
     },
     "execution_count": 132,
     "metadata": {},
     "output_type": "execute_result"
    }
   ],
   "source": [
    "lin_reg.intercept_, lin_reg.coef_"
   ]
  },
  {
   "cell_type": "code",
   "execution_count": 133,
   "id": "a72b75ee",
   "metadata": {},
   "outputs": [
    {
     "data": {
      "text/plain": [
       "array([[5.262909]])"
      ]
     },
     "execution_count": 133,
     "metadata": {},
     "output_type": "execute_result"
    }
   ],
   "source": [
    "X_test = np.array([[1.7]])\n",
    "X_test_poly = poly_features.fit_transform(X_test)\n",
    "pred = lin_reg.predict(X_test_poly)\n",
    "pred"
   ]
  },
  {
   "cell_type": "code",
   "execution_count": 134,
   "id": "3042a803",
   "metadata": {},
   "outputs": [
    {
     "data": {
      "image/png": "[encoded data removed]",
      "text/plain": [
       "<Figure size 720x432 with 1 Axes>"
      ]
     },
     "metadata": {
      "needs_background": "light"
     },
     "output_type": "display_data"
    }
   ],
   "source": [
    "X_plot = np.linspace(min(X), max(X), 100).reshape(-1,1)\n",
    "X_plot_poly = poly_features.fit_transform(X_plot)\n",
    "y_plot = lin_reg.predict(X_plot_poly)\n",
    "plt.figure(figsize=(10, 6))\n",
    "plt.scatter(X, y)\n",
    "plt.plot(X_plot_poly, y_plot.ravel())\n",
    "plt.show()"
   ]
  },
  {
   "cell_type": "markdown",
   "id": "ec2b3709",
   "metadata": {},
   "source": [
    "# Learning Curves"
   ]
  },
  {
   "cell_type": "code",
   "execution_count": 135,
   "id": "361f4d9f",
   "metadata": {},
   "outputs": [],
   "source": [
    "from sklearn.metrics import mean_squared_error\n",
    "from sklearn.model_selection import train_test_split"
   ]
  },
  {
   "cell_type": "code",
   "execution_count": 136,
   "id": "f99a928e",
   "metadata": {},
   "outputs": [],
   "source": [
    "def plot_learning_curve(model, X, y):\n",
    "    X_train, X_val, y_train, y_val = train_test_split(X, y, test_size=0.2)\n",
    "    train_error, val_error = [], []\n",
    "    for m in range(1, len(X_train)):\n",
    "        model.fit(X_train[:m], y_train[:m])\n",
    "        y_train_pred = model.predict(X_train[:m])\n",
    "        y_val_pred = model.predict(X_val)\n",
    "        train_error.append(mean_squared_error(y_train[:m], y_train_pred))\n",
    "        val_error.append(mean_squared_error(y_val, y_val_pred))\n",
    "    plt.plot(np.sqrt(train_error), 'r-+', linewidth=2, label='train')\n",
    "    plt.plot(np.sqrt(val_error), 'b-', linewidth=2, label='val')"
   ]
  },
  {
   "cell_type": "code",
   "execution_count": 137,
   "id": "4b2615ce",
   "metadata": {},
   "outputs": [
    {
     "data": {
      "image/png": "[encoded data removed]",
      "text/plain": [
       "<Figure size 720x432 with 1 Axes>"
      ]
     },
     "metadata": {
      "needs_background": "light"
     },
     "output_type": "display_data"
    }
   ],
   "source": [
    "plt.figure(figsize=(10, 6))\n",
    "plt.xlabel('Training set size', fontsize=14)\n",
    "plt.ylabel('RMSE', fontsize=14)\n",
    "plt.xticks(fontsize=12)\n",
    "plt.yticks(fontsize=12)\n",
    "plt.axis([0, 80, 0, 5])\n",
    "plot_learning_curve(LinearRegression(), X, y)\n",
    "plt.legend(fontsize=14)\n",
    "plt.show()"
   ]
  },
  {
   "cell_type": "markdown",
   "id": "6f73ff37",
   "metadata": {},
   "source": [
    "In this plot we can see there's maybe 1 or 2 instances the model could fit perfectly. As the number of training sample increase the error increases because a linear model cannot fit perfectly to quadratic data with Gaussian noise. In the validation curve the error is initially high because using a small training sample means the model doesn't generalise well to unseen data. It then decreases as more training examples are introduced until it hits a plateau because once again a linear model does a poor job modelling a polynomial data. These curves are fairly close to each other, their RMSE is high and they have reached a plateau which shows the model is underfitting the data. In the case we will see the learning curve for a degree 10-th degree polynomial which obviously will overfit the data. "
   ]
  },
  {
   "cell_type": "code",
   "execution_count": 138,
   "id": "de5144ff",
   "metadata": {},
   "outputs": [],
   "source": [
    "from sklearn.pipeline import Pipeline"
   ]
  },
  {
   "cell_type": "code",
   "execution_count": 139,
   "id": "7669c9bf",
   "metadata": {},
   "outputs": [],
   "source": [
    "poly_reg = Pipeline([\n",
    "    (\"poly_features\", PolynomialFeatures(degree=10, include_bias=False)),\n",
    "    (\"lin_reg\", LinearRegression())\n",
    "])"
   ]
  },
  {
   "cell_type": "code",
   "execution_count": 140,
   "id": "a1c9d0a8",
   "metadata": {},
   "outputs": [
    {
     "data": {
      "image/png": "[encoded data removed]",
      "text/plain": [
       "<Figure size 720x432 with 1 Axes>"
      ]
     },
     "metadata": {
      "needs_background": "light"
     },
     "output_type": "display_data"
    }
   ],
   "source": [
    "plt.figure(figsize=(10, 6))\n",
    "plt.xlabel('Training set size', fontsize=14)\n",
    "plt.ylabel('RMSE', fontsize=14)\n",
    "plt.xticks(fontsize=12)\n",
    "plt.yticks(fontsize=12)\n",
    "plt.axis([0, 80, 0, 5])\n",
    "plot_learning_curve(poly_reg, X, y)\n",
    "plt.legend(fontsize=14)\n",
    "plt.show()"
   ]
  },
  {
   "cell_type": "markdown",
   "id": "08e4fb3d",
   "metadata": {},
   "source": [
    "Here we can see the training error is about half of the linear model and there's a significant gap between the two curves which suggests the model is overfitting the data."
   ]
  },
  {
   "cell_type": "markdown",
   "id": "6341627b",
   "metadata": {},
   "source": [
    "# Regularized Linear Models"
   ]
  },
  {
   "cell_type": "markdown",
   "id": "358c10dc",
   "metadata": {},
   "source": [
    "## Ridge Regression"
   ]
  },
  {
   "cell_type": "markdown",
   "id": "6df9951e",
   "metadata": {},
   "source": [
    "### Cost Function\n",
    "\n",
    "$\\Large J(\\bf{\\theta}) = MSE(\\bf{\\theta}) + \\alpha\\frac{1}{2}\\sum_{i=1}^{n}\\theta_{i}^2$ \n",
    "\n",
    "The second term is a regularization term.\n",
    "\n",
    "The closed form solution is \n",
    "\n",
    "$ \\Large \\hat{\\bf{\\theta}} = \\left(\\bf{X}^T\\bf{X} + \\alpha A \\right)^{-1} \\bf{X}^T \\bf{y}$\n",
    "\n",
    "A is the (n-1)x(n-1) identity matrix with 0 in the first entry which accounts for the bias term."
   ]
  },
  {
   "cell_type": "markdown",
   "id": "cc195eb2",
   "metadata": {},
   "source": [
    "### Performing Ridge Regression with Scitkit-Learn"
   ]
  },
  {
   "cell_type": "code",
   "execution_count": 141,
   "id": "83185816",
   "metadata": {},
   "outputs": [],
   "source": [
    "from sklearn.linear_model import Ridge"
   ]
  },
  {
   "cell_type": "code",
   "execution_count": 142,
   "id": "819d8fb4",
   "metadata": {},
   "outputs": [
    {
     "data": {
      "text/plain": [
       "Ridge(alpha=1, solver='cholesky')"
      ]
     },
     "execution_count": 142,
     "metadata": {},
     "output_type": "execute_result"
    }
   ],
   "source": [
    "ridge_reg = Ridge(alpha=1, solver=\"cholesky\") # fitting a regularized linear model to the polynomial data above with alpha = 1.\n",
    "ridge_reg.fit(X, y)                           # This solved using the closed form solution using cholesky factorization."
   ]
  },
  {
   "cell_type": "code",
   "execution_count": 143,
   "id": "6b3ec035",
   "metadata": {},
   "outputs": [
    {
     "data": {
      "text/plain": [
       "(array([3.42927771]), array([[1.09278531]]))"
      ]
     },
     "execution_count": 143,
     "metadata": {},
     "output_type": "execute_result"
    }
   ],
   "source": [
    "ridge_reg.intercept_, ridge_reg.coef_"
   ]
  },
  {
   "cell_type": "markdown",
   "id": "d936d25d",
   "metadata": {},
   "source": [
    "### Ridge Regression with Stochastic Gradient Descent"
   ]
  },
  {
   "cell_type": "code",
   "execution_count": 144,
   "id": "d86166f3",
   "metadata": {},
   "outputs": [
    {
     "data": {
      "text/plain": [
       "(array([3.41276794]), array([1.09305539]))"
      ]
     },
     "execution_count": 144,
     "metadata": {},
     "output_type": "execute_result"
    }
   ],
   "source": [
    "sgdr = SGDRegressor(penalty=\"l2\")\n",
    "sgdr.fit(X, y.ravel())\n",
    "sgdr.intercept_, sgdr.coef_"
   ]
  },
  {
   "cell_type": "markdown",
   "id": "60b29f1a",
   "metadata": {},
   "source": [
    "## Lasso Regression"
   ]
  },
  {
   "cell_type": "markdown",
   "id": "c122f202",
   "metadata": {},
   "source": [
    "### Cost Function\n",
    "\n",
    "$\\Large J(\\bf{\\theta}) = MSE(\\bf{\\theta}) + \\alpha\\sum_{i=1}^{n}|\\theta_{i}|$ \n",
    "\n",
    "We can see the cost function is similar to the Ridge cost function except now we are using the $\\mathcal{l}_1$ norm instead of \n",
    "half the $\\mathcal{l}_2$ norm."
   ]
  },
  {
   "cell_type": "markdown",
   "id": "4b354108",
   "metadata": {},
   "source": [
    "### Performing Lasso Regression with Scitkit-Learn"
   ]
  },
  {
   "cell_type": "code",
   "execution_count": 145,
   "id": "6a601583",
   "metadata": {},
   "outputs": [
    {
     "data": {
      "text/plain": [
       "(array([3.42716671]), array([1.06245741]))"
      ]
     },
     "execution_count": 145,
     "metadata": {},
     "output_type": "execute_result"
    }
   ],
   "source": [
    "from sklearn.linear_model import Lasso\n",
    "lasso = Lasso(alpha=0.1)\n",
    "lasso.fit(X, y)\n",
    "lasso.intercept_, lasso.coef_"
   ]
  },
  {
   "cell_type": "code",
   "execution_count": 146,
   "id": "966242ac",
   "metadata": {},
   "outputs": [
    {
     "data": {
      "text/plain": [
       "(array([3.41361043]), array([1.10094798]))"
      ]
     },
     "execution_count": 146,
     "metadata": {},
     "output_type": "execute_result"
    }
   ],
   "source": [
    "sgdr = SGDRegressor(penalty=\"l1\")\n",
    "sgdr.fit(X, y.ravel())\n",
    "sgdr.intercept_, sgdr.coef_"
   ]
  },
  {
   "cell_type": "markdown",
   "id": "f752e5c1",
   "metadata": {},
   "source": [
    "## Elastic Net"
   ]
  },
  {
   "cell_type": "markdown",
   "id": "5fa4a971",
   "metadata": {},
   "source": [
    "Elastic Net combines Ridge and Lasso Regression using a mix ratio. The Elastic Net cost function is\n",
    "\n",
    "$\\Large J(\\bf{\\theta}) = MSE(\\bf{\\theta}) + r\\alpha\\sum_{i=1}^{n}|\\theta_{i}| + \\frac{1 - r}{2}\\alpha\\sum_{i=1}^{n}\\theta_{i}^2$ \n",
    "\n",
    "When r = 0 we get the Ridge Regression cost function."
   ]
  },
  {
   "cell_type": "markdown",
   "id": "0a2f2f68",
   "metadata": {},
   "source": [
    "### Elastic Net in Scikit-Learn"
   ]
  },
  {
   "cell_type": "code",
   "execution_count": 147,
   "id": "067a2057",
   "metadata": {},
   "outputs": [],
   "source": [
    "from sklearn.linear_model import ElasticNet"
   ]
  },
  {
   "cell_type": "code",
   "execution_count": 148,
   "id": "411e9560",
   "metadata": {},
   "outputs": [
    {
     "data": {
      "text/plain": [
       "(array([3.42709394]), array([1.06141191]))"
      ]
     },
     "execution_count": 148,
     "metadata": {},
     "output_type": "execute_result"
    }
   ],
   "source": [
    "elastic_net = ElasticNet(alpha=0.1, l1_ratio = 0.5)\n",
    "elastic_net.fit(X, y)\n",
    "elastic_net.intercept_, elastic_net.coef_"
   ]
  },
  {
   "cell_type": "markdown",
   "id": "288b7130",
   "metadata": {},
   "source": [
    "Generally speaking we should always use a regularised model instead of plain Linear Regression. Ridge is good in generall however, if only a few of the features are useful (i.e. only a few features are correlated) then Lasso or Elastic Net are preferred. Elastic Net is preferred if several features are correlated and when there are more features than training instances."
   ]
  },
  {
   "cell_type": "markdown",
   "id": "73e198ee",
   "metadata": {},
   "source": [
    "## Early Stopping Regularization"
   ]
  },
  {
   "cell_type": "code",
   "execution_count": 149,
   "id": "5753ec78",
   "metadata": {},
   "outputs": [],
   "source": [
    "from sklearn.base import clone\n",
    "from sklearn.preprocessing import StandardScaler"
   ]
  },
  {
   "cell_type": "code",
   "execution_count": 150,
   "id": "33fdcd36",
   "metadata": {},
   "outputs": [],
   "source": [
    "m = 100\n",
    "X = 3*np.random.rand(m, 1) - 1\n",
    "y = X**4 -2*X**3 + 2 * X**2 - 3*X + 5 + np.random.randn(m, 1)"
   ]
  },
  {
   "cell_type": "code",
   "execution_count": 151,
   "id": "89bde07a",
   "metadata": {},
   "outputs": [],
   "source": [
    "pipeline = Pipeline([\n",
    "    (\"poly\", PolynomialFeatures(degree=4, include_bias = False)),\n",
    "    (\"scaler\", StandardScaler())\n",
    "])\n",
    "\n",
    "X_train, X_val, y_train, y_val = train_test_split(X, y, test_size=0.2)\n",
    "\n",
    "X_train_poly_scaled = pipeline.fit_transform(X_train)\n",
    "\n",
    "X_val_poly_scaled = pipeline.fit_transform(X_val)\n",
    "\n",
    "sgd_reg = SGDRegressor(max_iter=1, tol=-np.infty, warm_start=True,\n",
    " penalty=None, learning_rate=\"constant\", eta0=0.0005)\n",
    "\n",
    "min_val_error = float(\"inf\")\n",
    "best_epoch = None\n",
    "best_model = None\n",
    "\n",
    "for epoch in range(1000):\n",
    "    sgd_reg.fit(X_train_poly_scaled, y_train.ravel())\n",
    "    y_val_pred = sgd_reg.predict(X_val_poly_scaled)\n",
    "    val_error = mean_squared_error(y_val, y_val_pred)\n",
    "    if val_error < min_val_error:\n",
    "        min_val_error = val_error\n",
    "        best_epoch = epoch\n",
    "        best_model = clone(sgd_reg)"
   ]
  },
  {
   "cell_type": "code",
   "execution_count": 152,
   "id": "838ee943",
   "metadata": {},
   "outputs": [
    {
     "name": "stdout",
     "output_type": "stream",
     "text": [
      "Minimum Validation Error: 1.489331376067866 \n",
      "Best Epoch: 991 \n",
      "Best Model: SGDRegressor(eta0=0.0005, learning_rate='constant', max_iter=1, penalty=None,\n",
      "             tol=-inf, warm_start=True)\n"
     ]
    }
   ],
   "source": [
    "print(\"\"\"Minimum Validation Error: {} \n",
    "Best Epoch: {} \n",
    "Best Model: {}\"\"\".format(min_val_error, best_epoch, best_model))"
   ]
  },
  {
   "cell_type": "markdown",
   "id": "08123f5e",
   "metadata": {},
   "source": [
    "# Logistic Regression"
   ]
  },
  {
   "cell_type": "markdown",
   "id": "74121112",
   "metadata": {},
   "source": [
    "A Logistic Regression model computes a weighted sum of the input features plus the bias term and outputs a probability. This probability is expressed through\n",
    "\n",
    "$\\Large \\hat{p} = h_{\\bf{\\theta}}(\\bf{x}) = \\sigma(\\bf{x}^T\\theta)$\n",
    "\n",
    "Here $\\sigma$ is the sigmoid function which outputs a number between 0 and 1 and is defined as \n",
    "\n",
    "$\\Large \\sigma(t) = \\frac{1}{1 + \\exp(-t)}$.\n",
    "\n",
    "The Model makes predictions via\n",
    "\n",
    "$\\Large \\hat{y} = 0: \\hat{p} < 0.5 \\\\$ \n",
    "$\\Large \\hat{y} = 1: \\hat{p} \\geq 0.5 $.\n",
    "\n",
    "We notice that $\\sigma (t) < 0.5$ when $t < 0$ and $\\sigma (t) \\geq 0.5$ when $t \\geq 0$."
   ]
  },
  {
   "cell_type": "code",
   "execution_count": 153,
   "id": "a73f5408",
   "metadata": {},
   "outputs": [],
   "source": [
    "t = np.linspace(-10, 10, 100)\n",
    "\n",
    "def sigmoid_plot(t):\n",
    "    plt.figure(figsize=(10, 6))\n",
    "    plt.title(\"Sigmoid Function\", fontsize=16)\n",
    "    plt.xlabel(\"t\", fontsize=12)\n",
    "    plt.ylabel(\"$\\sigma(t)$\", fontsize=12)\n",
    "    plt.axvline(0, c=\"black\")\n",
    "    plt.axhline(0.50, c=\"black\", linestyle='dotted')\n",
    "    plt.plot(t, 1/(1+np.exp(-t)), c='b')"
   ]
  },
  {
   "cell_type": "code",
   "execution_count": 154,
   "id": "f7fe7b8a",
   "metadata": {},
   "outputs": [
    {
     "data": {
      "image/png": "[encoded data removed]",
      "text/plain": [
       "<Figure size 720x432 with 1 Axes>"
      ]
     },
     "metadata": {
      "needs_background": "light"
     },
     "output_type": "display_data"
    }
   ],
   "source": [
    "sigmoid_plot(t)"
   ]
  },
  {
   "cell_type": "markdown",
   "id": "df1c08fd",
   "metadata": {},
   "source": [
    "## Cost Function"
   ]
  },
  {
   "cell_type": "markdown",
   "id": "5dfea3cf",
   "metadata": {},
   "source": [
    "Below we will derive the cost function for Logistic Regression\n",
    "\n",
    "$ \\Large \\hat{p}(y=1|x) = \\frac{1}{1 + \\exp(-t)} = \\sigma(t) = \\hat{y} \\\\$\n",
    "$ \\Large \\hat{p}(y=0|x) = 1 - \\hat{p}(y=1|x) = 1 - \\hat{y} \\newline$ \n",
    "$\\Large \\hat{p}(y^i|x^i) = (\\hat{y}^i)^{y^i}(1-\\hat{y}^i)^{1-y^i}$ for a single training instance $\\newline$\n",
    "$ \\newline \\Large L(\\bf{w}, b) = \\prod_{i = 1}^{m} (\\hat{y}^i)^{y^i}(1-\\hat{y}^i)^{1-y^i}$ $\\newline$\n",
    "$ \\newline \\Large \\log L = \\sum_{i = 1}^{m}y^i\\log\\hat{y}^i + (1 - y^i)\\log(1 - \\hat{y}^i)$ $\\newline$\n",
    "\n",
    "The negative log-likelihood is the cross entropy or the average log-loss which is the function we want to minimize\n",
    "\n",
    "$\\newline \\Large J(\\theta) = - \\frac{1}{m} \\sum_{i = 1}^{m}y^i\\log\\hat{y}^i + (1 - y^i)\\log(1 - \\hat{y}^i)$ $\\newline$\n",
    "\n",
    "This function does not have a closed form solution but since it is convex we can use gradient descent to find the global minimum. The partial derivatives are\n",
    "\n",
    "$ \\Large \\frac{\\partial}{\\partial \\theta_j}J(\\bf{\\theta}) = \\frac{1}{m}\\sum_{i=1}^{m} \\left(\\sigma\\left(\\bf{\\theta}^T\\bf{x}^{(i)}\\right) - y^{(i)}\\right)x_{j}^{(i)}$\n",
    "\n",
    "we can use this gradient function with gradient descent to compute the weight vector."
   ]
  },
  {
   "cell_type": "markdown",
   "id": "bcc98831",
   "metadata": {},
   "source": [
    "## Decision Boundaries"
   ]
  },
  {
   "cell_type": "code",
   "execution_count": 155,
   "id": "9676f3a1",
   "metadata": {},
   "outputs": [],
   "source": [
    "from sklearn import datasets\n",
    "import pandas as pd"
   ]
  },
  {
   "cell_type": "code",
   "execution_count": 156,
   "id": "ca26ef81",
   "metadata": {},
   "outputs": [
    {
     "data": {
      "text/plain": [
       "array([0, 0, 0, 0, 0, 0, 0, 0, 0, 0, 0, 0, 0, 0, 0, 0, 0, 0, 0, 0, 0, 0,\n",
       "       0, 0, 0, 0, 0, 0, 0, 0, 0, 0, 0, 0, 0, 0, 0, 0, 0, 0, 0, 0, 0, 0,\n",
       "       0, 0, 0, 0, 0, 0, 1, 1, 1, 1, 1, 1, 1, 1, 1, 1, 1, 1, 1, 1, 1, 1,\n",
       "       1, 1, 1, 1, 1, 1, 1, 1, 1, 1, 1, 1, 1, 1, 1, 1, 1, 1, 1, 1, 1, 1,\n",
       "       1, 1, 1, 1, 1, 1, 1, 1, 1, 1, 1, 1, 2, 2, 2, 2, 2, 2, 2, 2, 2, 2,\n",
       "       2, 2, 2, 2, 2, 2, 2, 2, 2, 2, 2, 2, 2, 2, 2, 2, 2, 2, 2, 2, 2, 2,\n",
       "       2, 2, 2, 2, 2, 2, 2, 2, 2, 2, 2, 2, 2, 2, 2, 2, 2, 2])"
      ]
     },
     "execution_count": 156,
     "metadata": {},
     "output_type": "execute_result"
    }
   ],
   "source": [
    "iris = datasets.load_iris()\n",
    "columns = iris.feature_names\n",
    "iris.target"
   ]
  },
  {
   "cell_type": "code",
   "execution_count": 157,
   "id": "226296cb",
   "metadata": {},
   "outputs": [],
   "source": [
    "df = pd.DataFrame(iris.data, columns = columns)\n",
    "df['Target'] = iris.target"
   ]
  },
  {
   "cell_type": "code",
   "execution_count": 158,
   "id": "adac5390",
   "metadata": {},
   "outputs": [],
   "source": [
    "pw = df.iloc[:,3:]"
   ]
  },
  {
   "cell_type": "code",
   "execution_count": 159,
   "id": "a5535e72",
   "metadata": {},
   "outputs": [],
   "source": [
    "X = pw['petal width (cm)']\n",
    "y = (pw['Target'] == 2).astype(int) # 1 for iris virginica and 0 for setosa and versicolor"
   ]
  },
  {
   "cell_type": "code",
   "execution_count": 160,
   "id": "43d2f83a",
   "metadata": {},
   "outputs": [],
   "source": [
    "from sklearn.linear_model import LogisticRegression"
   ]
  },
  {
   "cell_type": "code",
   "execution_count": 161,
   "id": "0aa14609",
   "metadata": {},
   "outputs": [],
   "source": [
    "log_reg = LogisticRegression()"
   ]
  },
  {
   "cell_type": "code",
   "execution_count": 162,
   "id": "be8323d4",
   "metadata": {},
   "outputs": [
    {
     "data": {
      "text/plain": [
       "LogisticRegression()"
      ]
     },
     "execution_count": 162,
     "metadata": {},
     "output_type": "execute_result"
    }
   ],
   "source": [
    "log_reg.fit(np.array(X).reshape(-1, 1), y)"
   ]
  },
  {
   "cell_type": "code",
   "execution_count": 163,
   "id": "371f95f1",
   "metadata": {},
   "outputs": [
    {
     "data": {
      "image/png": "[encoded data removed]",
      "text/plain": [
       "<Figure size 1152x432 with 1 Axes>"
      ]
     },
     "metadata": {
      "needs_background": "light"
     },
     "output_type": "display_data"
    }
   ],
   "source": [
    "X_plot = np.linspace(0, 3, 1000)\n",
    "y_proba = log_reg.predict_proba(np.array(X_plot).reshape(-1, 1))\n",
    "plt.figure(figsize=(16, 6))\n",
    "plt.xlabel(\"Petal Width\", fontsize=14)\n",
    "plt.ylabel(\"Probability\", fontsize=14)\n",
    "plt.xticks(fontsize=13)\n",
    "plt.yticks(fontsize=13)\n",
    "plt.scatter(X[0:100], y[0:100], color=\"b\", marker = 's')\n",
    "plt.scatter(X[100:150], y[100:150], color='g', marker='^')\n",
    "plt.plot(X_plot, y_proba[:, 1], \"g-\", label = \"Iris-Virginica\")\n",
    "plt.axvline(1.66, linestyle = \"dotted\", c=\"black\", label=\"Decision Boundary\")\n",
    "plt.plot(X_plot, y_proba[:, 0], \"b--\", label = \"Not Iris-Virginica\")\n",
    "plt.legend(fontsize=16)\n",
    "plt.show()"
   ]
  },
  {
   "cell_type": "markdown",
   "id": "975aa8ba",
   "metadata": {},
   "source": [
    "In the plot above we can see the model predicts well for the negative class below 1 cm. It predicts well for the positive class above 2 cm. Near the decision boundary the probabilities for both classes are roughly 50% so the model struggles in this region. In fact in this case it would have misclassified 5 flowers."
   ]
  },
  {
   "cell_type": "code",
   "execution_count": 164,
   "id": "a3743fac",
   "metadata": {},
   "outputs": [
    {
     "data": {
      "text/plain": [
       "array([0, 1])"
      ]
     },
     "execution_count": 164,
     "metadata": {},
     "output_type": "execute_result"
    }
   ],
   "source": [
    "log_reg.predict([[1.4], [1.7]])"
   ]
  },
  {
   "cell_type": "markdown",
   "id": "52efc58b",
   "metadata": {},
   "source": [
    "# Softmax Regression"
   ]
  },
  {
   "cell_type": "markdown",
   "id": "03983aac",
   "metadata": {},
   "source": [
    "Softmax Regression allows Logistic Regression to be generalised to support multiple classes. Given an instance $\\bf{x}$, the Softmax model computes a score for each class k\n",
    "\n",
    "$\\Large s_k(\\bf{x}) = \\bf{x}^T\\bf{\\theta}^{(k)}$.\n",
    "\n",
    "The probability of each class is then computed using the softmax function\n",
    "\n",
    "$\\Large \\hat{p}_k = \\sigma(\\bf{s}(\\bf{x}))_k = \\frac{\\exp(s_k(\\bf{x}))}{\\sum_{j=1}^{K}\\exp(s_j(\\bf{x}))} $\n",
    "\n",
    "The Softmax Regression classifier predicts the class with the highest estimated probability which is the class with the highest score.\n",
    "\n",
    "$\\Large \\hat{y} =$ argmax $\\Large \\sigma(\\bf{s}(\\bf{x}))_k =$ argmax $\\Large s_k(\\bf{x}) = $ argmax $\\Large \\left((\\bf{\\theta}^{(k)})^T\\bf{x}\\right)$"
   ]
  },
  {
   "cell_type": "markdown",
   "id": "b79b52bc",
   "metadata": {},
   "source": [
    "## Cost Function\n",
    "\n",
    "The generalised cost function for multinomial Logistic Regression is the cross-entropy\n",
    "\n",
    "$\\Large J(\\bf{\\theta}) = -\\frac{1}{m}\\sum_{i = 1}^{m}\\sum_{j = 1}^{k=K}y_{k}^{(i)}\\log\\left(\\hat{p}_{k}^{(i)}\\right)$\n",
    "\n",
    "when k=2 this becomes the log-loss cost function of binary logistic regression.\n",
    "\n",
    "The gradient vector of this cost function with respect to $\\bf{\\theta}^{(k)}$\n",
    "\n",
    "$\\Large \\nabla_{\\bf{\\theta}^{(k)}}J(\\bf{\\theta}) = \\frac{1}{m}\\sum_{i=1}^{m}\\left(\\hat{p}_{k}^{(i)} - y_{k}^{(i)}\\right)\\bf{x}^{(i)}$"
   ]
  },
  {
   "cell_type": "markdown",
   "id": "1139cd28",
   "metadata": {},
   "source": [
    "## Implementation in Scikit-Learn"
   ]
  },
  {
   "cell_type": "code",
   "execution_count": 165,
   "id": "f328a72d",
   "metadata": {},
   "outputs": [],
   "source": [
    "X = np.array(df.iloc[:, 2:4])# sepal length & sepal width\n",
    "y = df['Target']"
   ]
  },
  {
   "cell_type": "code",
   "execution_count": 166,
   "id": "78e8dbb8",
   "metadata": {},
   "outputs": [],
   "source": [
    "softmax_reg = LogisticRegression(multi_class = \"multinomial\", solver=\"lbfgs\", C=10) # here we specify that we have multiple class\n",
    "                                                                                    # \"lbfgs\" is a solver that supports Softmax\n",
    "                                                                                    # C controls the l2 regularization"
   ]
  },
  {
   "cell_type": "code",
   "execution_count": 167,
   "id": "b67cdfdd",
   "metadata": {},
   "outputs": [
    {
     "data": {
      "text/plain": [
       "LogisticRegression(C=10, multi_class='multinomial')"
      ]
     },
     "execution_count": 167,
     "metadata": {},
     "output_type": "execute_result"
    }
   ],
   "source": [
    "softmax_reg.fit(X, y)"
   ]
  },
  {
   "cell_type": "code",
   "execution_count": 168,
   "id": "c2991d7b",
   "metadata": {},
   "outputs": [
    {
     "data": {
      "text/plain": [
       "array([1])"
      ]
     },
     "execution_count": 168,
     "metadata": {},
     "output_type": "execute_result"
    }
   ],
   "source": [
    "softmax_reg.predict([[5, 1.5]])"
   ]
  },
  {
   "cell_type": "code",
   "execution_count": 169,
   "id": "9ac4e48e",
   "metadata": {},
   "outputs": [
    {
     "data": {
      "text/plain": [
       "array([[7.15110892e-06, 6.18302730e-01, 3.81690119e-01]])"
      ]
     },
     "execution_count": 169,
     "metadata": {},
     "output_type": "execute_result"
    }
   ],
   "source": [
    "softmax_reg.predict_proba([[5, 1.5]]) # probabilities"
   ]
  }
 ],
 "metadata": {
  "kernelspec": {
   "display_name": "Python 3 (ipykernel)",
   "language": "python",
   "name": "python3"
  },
  "language_info": {
   "codemirror_mode": {
    "name": "ipython",
    "version": 3
   },
   "file_extension": ".py",
   "mimetype": "text/x-python",
   "name": "python",
   "nbconvert_exporter": "python",
   "pygments_lexer": "ipython3",
   "version": "3.9.6"
  }
 },
 "nbformat": 4,
 "nbformat_minor": 5
}
