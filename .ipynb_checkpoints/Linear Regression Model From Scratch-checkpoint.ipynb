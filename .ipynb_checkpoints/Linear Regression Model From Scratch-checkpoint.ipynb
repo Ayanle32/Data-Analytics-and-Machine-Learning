{
 "cells": [
  {
   "cell_type": "code",
   "execution_count": 253,
   "id": "760df526",
   "metadata": {},
   "outputs": [],
   "source": [
    "import numpy as np\n",
    "import pandas as pd\n",
    "import matplotlib.pyplot as plt"
   ]
  },
  {
   "cell_type": "markdown",
   "id": "95a782c3",
   "metadata": {},
   "source": [
    "# Theory & Mathematics"
   ]
  },
  {
   "cell_type": "markdown",
   "id": "604ceb18",
   "metadata": {},
   "source": [
    "Lets say we have some data containing features that have a linear relationship. Generally we want to fit a linear model to make predictions about the dependent variable. We assume our model takes the form\n",
    "\n",
    "$ \\Large \\hat{y} = \\mathcal{w} x + b. $\n",
    "\n",
    "If we use vector notation where \n",
    "\n",
    "$ \\Large X = \\begin{bmatrix}\n",
    "           x_{1} \\\\\n",
    "           x_{2} \\\\\n",
    "           \\vdots \\\\\n",
    "           x_{i}\n",
    "         \\end{bmatrix}. \\\\ $ \n",
    "If X has multiple variables this becomes a matrix where columns are occupied by each variables data points. Now the equation above can  be written as \n",
    "\n",
    "$\\Large \\hat{y} = w\\cdot X + b. \\\\ $\n",
    "Here of course w is a row vector and each element of the row vector is a weight corresponding to each variable.\n",
    "\n",
    "\n",
    "Here $w$ are the weights and $b$ is a constant bias term. \n",
    "\n",
    "We have a mean square error which tell us how much our linear model deviates from our actual data\n",
    "\n",
    "$ \\Large J = \\frac{1}{2N}\\sum_{i=1}^{n} (y_i - (wx_i + b))^2. $\n",
    "\n",
    "Here $N$ is the sample size or the number of data points we have, $y_i$ is the data points corresponding to the output or dependent variable. \n",
    "\n",
    "The goal is to find the weights $w$ and bias $b$ that minimise this error and so it is natural to take derivatives.\n",
    "\n",
    "$ \\Large \\frac{\\partial J}{\\partial w} = \\frac{1}{2N}\\sum_{i=1}^{n}2(y_i - (wx_i + b))\\cdot x_i = \\frac{1}{N}\\sum_{i=1}^{n}(y_i - \\hat{y}_i)\\cdot x_i = dw\\\\$\n",
    "$ \\Large \\frac{\\partial J}{\\partial b} = \\frac{1}{2N}\\sum_{i=1}^{n}2(y_i - (wx_i + b)) = \\frac{1}{N}\\sum_{i=1}^{n}(y_i - \\hat{y}_i) = db. $\n",
    "\n",
    "At this point we can either solve these set of linear equations or use the gradient descent algorithm update rules. We will proceed with the later here and see that\n",
    "\n",
    "$\\Large w = w - \\alpha \\cdot dw \\\\$\n",
    "$ \\Large b = b - \\alpha \\cdot db. $"
   ]
  },
  {
   "cell_type": "markdown",
   "id": "afc2cfe0",
   "metadata": {},
   "source": [
    "# Building the Linear Regression Model"
   ]
  },
  {
   "cell_type": "code",
   "execution_count": 254,
   "id": "00798077",
   "metadata": {},
   "outputs": [],
   "source": [
    "class LinearRegression:\n",
    "    def __init__(self, lr = 0.001, iters = 100000):\n",
    "        self.lr = lr\n",
    "        self.iters = iters\n",
    "        self.weights = None\n",
    "        self.bias = None\n",
    "    \n",
    "    def fit(self, X, y):\n",
    "        n_samples, n_features = X.shape\n",
    "        self.weights = np.zeros(n_features)\n",
    "        self.bias = 0\n",
    "        for i in range(self.iters):\n",
    "            y_pred = np.dot(X, self.weights) + self.bias\n",
    "            gd_b = (1/n_samples)*np.sum(y_pred - y)\n",
    "            gd_m = (1/n_samples)*np.dot(X.T, y_pred - y) # Gradient Descent Algorithm\n",
    "            self.bias = self.bias - self.lr*gd_b\n",
    "            self.weights = self.weights - self.lr*gd_m\n",
    "    \n",
    "    def predict(self, X):\n",
    "        y_pred = np.dot(X, self.weights) + self.bias\n",
    "        return y_pred\n",
    "    \n",
    "    def mse(y_test, y_predicted):\n",
    "        return np.mean((y_test - y_pred)**2)"
   ]
  },
  {
   "cell_type": "markdown",
   "id": "e9661b91",
   "metadata": {},
   "source": [
    "# Loading the Dataset"
   ]
  },
  {
   "cell_type": "code",
   "execution_count": 255,
   "id": "e54de0e4",
   "metadata": {},
   "outputs": [
    {
     "data": {
      "text/html": [
       "<div>\n",
       "<style scoped>\n",
       "    .dataframe tbody tr th:only-of-type {\n",
       "        vertical-align: middle;\n",
       "    }\n",
       "\n",
       "    .dataframe tbody tr th {\n",
       "        vertical-align: top;\n",
       "    }\n",
       "\n",
       "    .dataframe thead th {\n",
       "        text-align: right;\n",
       "    }\n",
       "</style>\n",
       "<table border=\"1\" class=\"dataframe\">\n",
       "  <thead>\n",
       "    <tr style=\"text-align: right;\">\n",
       "      <th></th>\n",
       "      <th>Hours</th>\n",
       "      <th>Scores</th>\n",
       "    </tr>\n",
       "  </thead>\n",
       "  <tbody>\n",
       "    <tr>\n",
       "      <th>0</th>\n",
       "      <td>2.5</td>\n",
       "      <td>21</td>\n",
       "    </tr>\n",
       "    <tr>\n",
       "      <th>1</th>\n",
       "      <td>5.1</td>\n",
       "      <td>47</td>\n",
       "    </tr>\n",
       "    <tr>\n",
       "      <th>2</th>\n",
       "      <td>3.2</td>\n",
       "      <td>27</td>\n",
       "    </tr>\n",
       "    <tr>\n",
       "      <th>3</th>\n",
       "      <td>8.5</td>\n",
       "      <td>75</td>\n",
       "    </tr>\n",
       "    <tr>\n",
       "      <th>4</th>\n",
       "      <td>3.5</td>\n",
       "      <td>30</td>\n",
       "    </tr>\n",
       "  </tbody>\n",
       "</table>\n",
       "</div>"
      ],
      "text/plain": [
       "   Hours  Scores\n",
       "0    2.5      21\n",
       "1    5.1      47\n",
       "2    3.2      27\n",
       "3    8.5      75\n",
       "4    3.5      30"
      ]
     },
     "execution_count": 255,
     "metadata": {},
     "output_type": "execute_result"
    }
   ],
   "source": [
    "data = pd.read_csv('student_scores.csv')\n",
    "data.head()"
   ]
  },
  {
   "cell_type": "code",
   "execution_count": 256,
   "id": "ccdd4d95",
   "metadata": {},
   "outputs": [],
   "source": [
    "from sklearn.model_selection import train_test_split"
   ]
  },
  {
   "cell_type": "markdown",
   "id": "c3a8c1ba",
   "metadata": {},
   "source": [
    "# Splitting Dataset"
   ]
  },
  {
   "cell_type": "code",
   "execution_count": 257,
   "id": "3d7de49f",
   "metadata": {},
   "outputs": [],
   "source": [
    "X = np.array(data['Hours']).reshape(-1, 1)\n",
    "y = data['Scores']"
   ]
  },
  {
   "cell_type": "code",
   "execution_count": 258,
   "id": "fe578776",
   "metadata": {},
   "outputs": [],
   "source": [
    "X_train, X_test, y_train, y_test = train_test_split(X, y, test_size = 0.2, random_state = 1)"
   ]
  },
  {
   "cell_type": "markdown",
   "id": "0a32e6d1",
   "metadata": {},
   "source": [
    "# Training Our Model"
   ]
  },
  {
   "cell_type": "code",
   "execution_count": 259,
   "id": "4f4dbdb6",
   "metadata": {},
   "outputs": [],
   "source": [
    "model = LinearRegression()"
   ]
  },
  {
   "cell_type": "code",
   "execution_count": 260,
   "id": "f7f8535f",
   "metadata": {},
   "outputs": [],
   "source": [
    "model.fit(X, y)"
   ]
  },
  {
   "cell_type": "markdown",
   "id": "3eeea7a4",
   "metadata": {},
   "source": [
    "# Making Predictions"
   ]
  },
  {
   "cell_type": "code",
   "execution_count": 261,
   "id": "5768ab32",
   "metadata": {},
   "outputs": [],
   "source": [
    "y_pred = model.predict(X_test)"
   ]
  },
  {
   "cell_type": "markdown",
   "id": "7aa0838f",
   "metadata": {},
   "source": [
    "# Model Parameters"
   ]
  },
  {
   "cell_type": "code",
   "execution_count": 262,
   "id": "0233cc55",
   "metadata": {},
   "outputs": [
    {
     "data": {
      "text/plain": [
       "array([9.77580339])"
      ]
     },
     "execution_count": 262,
     "metadata": {},
     "output_type": "execute_result"
    }
   ],
   "source": [
    "model.weights # \"Gradient\""
   ]
  },
  {
   "cell_type": "code",
   "execution_count": 263,
   "id": "091153e8",
   "metadata": {},
   "outputs": [
    {
     "data": {
      "text/plain": [
       "2.4836734008987866"
      ]
     },
     "execution_count": 263,
     "metadata": {},
     "output_type": "execute_result"
    }
   ],
   "source": [
    "model.bias # \"Intercept\""
   ]
  },
  {
   "cell_type": "markdown",
   "id": "07443a90",
   "metadata": {},
   "source": [
    "# Data and Linear Model Visualization"
   ]
  },
  {
   "cell_type": "code",
   "execution_count": 264,
   "id": "0e596f07",
   "metadata": {},
   "outputs": [
    {
     "data": {
      "image/png": "[encoded data removed]",
      "text/plain": [
       "<Figure size 720x432 with 1 Axes>"
      ]
     },
     "metadata": {
      "needs_background": "light"
     },
     "output_type": "display_data"
    }
   ],
   "source": [
    "plt.figure(figsize=(10, 6))\n",
    "plt.title('Data Fitted With a Model', fontsize=14)\n",
    "plt.plot(X, model.predict(X), color = 'red')\n",
    "plt.scatter(X, y, s=8)\n",
    "plt.xlabel('Hours Studied', fontsize=12)\n",
    "plt.ylabel('Exam Scores', fontsize=12)\n",
    "plt.show()"
   ]
  },
  {
   "cell_type": "markdown",
   "id": "bfa015b4",
   "metadata": {},
   "source": [
    "# Mean-Square Error"
   ]
  },
  {
   "cell_type": "code",
   "execution_count": 265,
   "id": "7363f842",
   "metadata": {},
   "outputs": [],
   "source": [
    "def mse(y_test, y_predicted):\n",
    "        return np.mean((y_test - y_pred)**2)\n",
    "\n",
    "mse = mse(y_test, y_pred)\n",
    "rmse = np.sqrt(mse)"
   ]
  },
  {
   "cell_type": "markdown",
   "id": "362b0cf2",
   "metadata": {},
   "source": [
    "# Using Data with Multiple Independent variables"
   ]
  },
  {
   "cell_type": "code",
   "execution_count": 266,
   "id": "051d3fc3",
   "metadata": {},
   "outputs": [],
   "source": [
    "df2 = pd.read_csv('WeatherDataM.csv')"
   ]
  },
  {
   "cell_type": "code",
   "execution_count": 267,
   "id": "b7bdee0b",
   "metadata": {},
   "outputs": [
    {
     "data": {
      "text/html": [
       "<div>\n",
       "<style scoped>\n",
       "    .dataframe tbody tr th:only-of-type {\n",
       "        vertical-align: middle;\n",
       "    }\n",
       "\n",
       "    .dataframe tbody tr th {\n",
       "        vertical-align: top;\n",
       "    }\n",
       "\n",
       "    .dataframe thead th {\n",
       "        text-align: right;\n",
       "    }\n",
       "</style>\n",
       "<table border=\"1\" class=\"dataframe\">\n",
       "  <thead>\n",
       "    <tr style=\"text-align: right;\">\n",
       "      <th></th>\n",
       "      <th>Temperature (C)</th>\n",
       "      <th>Wind Speed (km/h)</th>\n",
       "      <th>Pressure (millibars)</th>\n",
       "      <th>Humidity</th>\n",
       "    </tr>\n",
       "  </thead>\n",
       "  <tbody>\n",
       "    <tr>\n",
       "      <th>0</th>\n",
       "      <td>9.472222</td>\n",
       "      <td>14.1197</td>\n",
       "      <td>1015.13</td>\n",
       "      <td>0.89</td>\n",
       "    </tr>\n",
       "    <tr>\n",
       "      <th>1</th>\n",
       "      <td>9.355556</td>\n",
       "      <td>14.2646</td>\n",
       "      <td>1015.63</td>\n",
       "      <td>0.86</td>\n",
       "    </tr>\n",
       "    <tr>\n",
       "      <th>2</th>\n",
       "      <td>9.377778</td>\n",
       "      <td>3.9284</td>\n",
       "      <td>1015.94</td>\n",
       "      <td>0.89</td>\n",
       "    </tr>\n",
       "    <tr>\n",
       "      <th>3</th>\n",
       "      <td>8.288889</td>\n",
       "      <td>14.1036</td>\n",
       "      <td>1016.41</td>\n",
       "      <td>0.83</td>\n",
       "    </tr>\n",
       "    <tr>\n",
       "      <th>4</th>\n",
       "      <td>8.755556</td>\n",
       "      <td>11.0446</td>\n",
       "      <td>1016.51</td>\n",
       "      <td>0.83</td>\n",
       "    </tr>\n",
       "  </tbody>\n",
       "</table>\n",
       "</div>"
      ],
      "text/plain": [
       "   Temperature (C)  Wind Speed (km/h)  Pressure (millibars)  Humidity\n",
       "0         9.472222            14.1197               1015.13      0.89\n",
       "1         9.355556            14.2646               1015.63      0.86\n",
       "2         9.377778             3.9284               1015.94      0.89\n",
       "3         8.288889            14.1036               1016.41      0.83\n",
       "4         8.755556            11.0446               1016.51      0.83"
      ]
     },
     "execution_count": 267,
     "metadata": {},
     "output_type": "execute_result"
    }
   ],
   "source": [
    "df2.head()"
   ]
  },
  {
   "cell_type": "code",
   "execution_count": 268,
   "id": "492c92be",
   "metadata": {},
   "outputs": [],
   "source": [
    "X = df2.drop(columns = ['Pressure (millibars)', 'Humidity'])\n",
    "y = df2.Humidity"
   ]
  },
  {
   "cell_type": "markdown",
   "id": "76e83796",
   "metadata": {},
   "source": [
    "# Splitting the Dataset"
   ]
  },
  {
   "cell_type": "code",
   "execution_count": 269,
   "id": "f2f81aa2",
   "metadata": {},
   "outputs": [],
   "source": [
    "X_train, X_test, y_train, y_test = train_test_split(X, y, test_size = 0.1, random_state = 21)"
   ]
  },
  {
   "cell_type": "markdown",
   "id": "e15be6d3",
   "metadata": {},
   "source": [
    "# Visualisation"
   ]
  },
  {
   "cell_type": "code",
   "execution_count": 270,
   "id": "c04b7139",
   "metadata": {},
   "outputs": [
    {
     "data": {
      "image/png": "[encoded data removed]",
      "text/plain": [
       "<Figure size 1440x720 with 3 Axes>"
      ]
     },
     "metadata": {
      "needs_background": "light"
     },
     "output_type": "display_data"
    }
   ],
   "source": [
    "plt.figure(figsize=(20, 10))\n",
    "plt.subplot(3, 3, 1)\n",
    "plt.scatter(df2['Temperature (C)'], df2['Humidity'], s=10, color='blue')\n",
    "plt.xlabel('Temperature (C)')\n",
    "plt.ylabel('Humidity')\n",
    "plt.subplot(3,3,2)\n",
    "plt.scatter(df2['Wind Speed (km/h)'], df2['Humidity'], s=10, color = 'red')\n",
    "plt.xlabel('Wind Speed (km/h)')\n",
    "plt.ylabel('Humidity')\n",
    "plt.subplot(3,3,3)\n",
    "plt.scatter(df2['Pressure (millibars)'], df2['Humidity'], s=10, color = 'green')\n",
    "plt.xlabel('Pressure (millibars)')\n",
    "plt.ylabel('Humidity')\n",
    "plt.show()"
   ]
  },
  {
   "cell_type": "markdown",
   "id": "c3a165dd",
   "metadata": {},
   "source": [
    "Immediately we can disregard pressure in our linear model because from the scatter plot we can see it does not follow a linear relationship with humidity."
   ]
  },
  {
   "cell_type": "code",
   "execution_count": 271,
   "id": "203e5fb8",
   "metadata": {},
   "outputs": [
    {
     "data": {
      "image/png": "[encoded data removed]",
      "text/plain": [
       "<Figure size 720x432 with 1 Axes>"
      ]
     },
     "metadata": {
      "needs_background": "light"
     },
     "output_type": "display_data"
    }
   ],
   "source": [
    "from mpl_toolkits.mplot3d import Axes3D\n",
    "\n",
    "fig = plt.figure(figsize=(10, 6))\n",
    "ax = fig.add_subplot(111, projection = \"3d\")\n",
    "\n",
    "ax.scatter(df2['Temperature (C)'], df2['Wind Speed (km/h)'], df2['Humidity'])\n",
    "ax.set_xlabel('Temperature (C)')\n",
    "ax.set_ylabel('Wind Speed (km/h)')\n",
    "ax.set_zlabel('Humidity')\n",
    "plt.show()"
   ]
  },
  {
   "cell_type": "code",
   "execution_count": null,
   "id": "ecbb647f",
   "metadata": {},
   "outputs": [],
   "source": [
    "model.fit(X, y)"
   ]
  },
  {
   "cell_type": "code",
   "execution_count": null,
   "id": "da1e7d03",
   "metadata": {},
   "outputs": [],
   "source": [
    "model.predict(X_test)"
   ]
  },
  {
   "cell_type": "code",
   "execution_count": null,
   "id": "488bdd4b",
   "metadata": {},
   "outputs": [],
   "source": [
    "model.weights"
   ]
  },
  {
   "cell_type": "markdown",
   "id": "a667423b",
   "metadata": {},
   "source": [
    "Great! Our model works for 2d data and can be generalise to 3d data and so on. In this case the model tell us that humidity is related to temperature and wind speed through the equation\n",
    "\n",
    "$\\Large H = -0.031T - 0.0044W $"
   ]
  }
 ],
 "metadata": {
  "kernelspec": {
   "display_name": "Python 3 (ipykernel)",
   "language": "python",
   "name": "python3"
  },
  "language_info": {
   "codemirror_mode": {
    "name": "ipython",
    "version": 3
   },
   "file_extension": ".py",
   "mimetype": "text/x-python",
   "name": "python",
   "nbconvert_exporter": "python",
   "pygments_lexer": "ipython3",
   "version": "3.9.6"
  }
 },
 "nbformat": 4,
 "nbformat_minor": 5
}
