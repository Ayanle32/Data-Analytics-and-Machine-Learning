{
 "cells": [
  {
   "cell_type": "markdown",
   "id": "91d264b6",
   "metadata": {},
   "source": [
    "A Logistic Regression model computes a weighted sum of the input features plus the bias term and outputs a probability. This probability is expressed through\n",
    "\n",
    "$\\Large \\hat{p} = h_{\\bf{\\theta}}(\\bf{x}) = \\sigma(\\bf{x}^T\\theta)$\n",
    "\n",
    "Here $\\sigma$ is the sigmoid function which outputs a number between 0 and 1 and is defined as \n",
    "\n",
    "$\\Large \\sigma(t) = \\frac{1}{1 + \\exp(-t)}$.\n",
    "\n",
    "The Model makes predictions via\n",
    "\n",
    "$\\Large \\hat{y} = 0: \\hat{p} < 0.5 \\\\$ \n",
    "$\\Large \\hat{y} = 1: \\hat{p} \\geq 0.5 $.\n",
    "\n",
    "We notice that $\\sigma (t) < 0.5$ when $t < 0$ and $\\sigma (t) \\geq 0.5$ when $t \\geq 0$.\n",
    "\n",
    "The negative log-likelihood is the cross entropy or the average log-loss which is the function we want to minimize\n",
    "\n",
    "$\\newline \\Large J(\\theta) = - \\frac{1}{m} \\sum_{i = 1}^{m}y^i\\log\\hat{y}^i + (1 - y^i)\\log(1 - \\hat{y}^i)$ $\\newline$\n",
    "\n",
    "This function does not have a closed form solution but since it is convex we can use gradient descent to find the global minimum. The partial derivatives are\n",
    "\n",
    "$ \\Large \\frac{\\partial}{\\partial \\theta_j}J(\\bf{\\theta}) = \\frac{1}{m}\\sum_{i=1}^{m} \\left(\\sigma\\left(\\bf{\\theta}^T\\bf{x}^{(i)}\\right) - y^{(i)}\\right)x_{j}^{(i)}$\n",
    "\n",
    "we can use this gradient function with gradient descent to compute the weight vector."
   ]
  },
  {
   "cell_type": "code",
   "execution_count": 1,
   "id": "ff1c4607",
   "metadata": {},
   "outputs": [],
   "source": [
    "import numpy as np"
   ]
  },
  {
   "cell_type": "code",
   "execution_count": 59,
   "id": "2175bd74",
   "metadata": {},
   "outputs": [],
   "source": [
    "class LogisticRegression:\n",
    "    \n",
    "    def __init__(self, epochs = 1000, theta = None, lr = 0.1):\n",
    "        self.epochs = epochs\n",
    "        self.theta = None\n",
    "        self.lr = lr\n",
    "    \n",
    "   \n",
    "    def sigmoid(self, z):\n",
    "        return 1/(1+np.exp(-z))\n",
    "    \n",
    "    \n",
    "    def fit(self, X, y):\n",
    "        m,n = X.shape\n",
    "        X_b = np.c_[np.ones((m, 1)), X]\n",
    "        self.theta = np.random.randn(n+1)\n",
    "        for i in range(self.epochs):\n",
    "            z = X_b.dot(self.theta)\n",
    "            gradient = 1/m *X_b.T.dot(self.sigmoid(z) - y)\n",
    "            self.theta -= self.lr*gradient\n",
    "            \n",
    "    def predict(self, X):\n",
    "        X = np.array(X)\n",
    "        m = X.shape[0]\n",
    "        X_b = np.c_[np.ones((m, 1)), X]\n",
    "        proba = self.sigmoid(X_b.dot(self.theta))\n",
    "        return [1 if i > 0.5 else 0 for i in proba]"
   ]
  },
  {
   "cell_type": "code",
   "execution_count": 60,
   "id": "4738657f",
   "metadata": {},
   "outputs": [],
   "source": [
    "from sklearn.datasets import load_iris"
   ]
  },
  {
   "cell_type": "code",
   "execution_count": 61,
   "id": "36654636",
   "metadata": {},
   "outputs": [],
   "source": [
    "iris = load_iris().data"
   ]
  },
  {
   "cell_type": "code",
   "execution_count": 69,
   "id": "76cb1b26",
   "metadata": {},
   "outputs": [],
   "source": [
    "pw = iris[:, 3:]\n",
    "target = load_iris().target\n",
    "target = (target == 2).astype(int) # 1 for Iris-Viriginica 0 for Iris-Setosa and Versicolor"
   ]
  },
  {
   "cell_type": "code",
   "execution_count": 70,
   "id": "c220eba8",
   "metadata": {},
   "outputs": [],
   "source": [
    "log_reg = LogisticRegression()"
   ]
  },
  {
   "cell_type": "code",
   "execution_count": 71,
   "id": "31fccf60",
   "metadata": {},
   "outputs": [],
   "source": [
    "log_reg.fit(pw, target)"
   ]
  },
  {
   "cell_type": "code",
   "execution_count": 78,
   "id": "76d104f9",
   "metadata": {},
   "outputs": [
    {
     "data": {
      "text/plain": [
       "[0, 1]"
      ]
     },
     "execution_count": 78,
     "metadata": {},
     "output_type": "execute_result"
    }
   ],
   "source": [
    "log_reg.predict([[1.5], [2.8]])"
   ]
  },
  {
   "cell_type": "markdown",
   "id": "b2bc82ff",
   "metadata": {},
   "source": [
    "So we have successfully constructed a Logistics Regression binary classifier from scratch."
   ]
  }
 ],
 "metadata": {
  "kernelspec": {
   "display_name": "Python 3 (ipykernel)",
   "language": "python",
   "name": "python3"
  },
  "language_info": {
   "codemirror_mode": {
    "name": "ipython",
    "version": 3
   },
   "file_extension": ".py",
   "mimetype": "text/x-python",
   "name": "python",
   "nbconvert_exporter": "python",
   "pygments_lexer": "ipython3",
   "version": "3.9.6"
  }
 },
 "nbformat": 4,
 "nbformat_minor": 5
}
