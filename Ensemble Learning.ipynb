{
 "cells": [
  {
   "cell_type": "markdown",
   "id": "f66c54a1",
   "metadata": {},
   "source": [
    "A group of predictors (classifier or regressors) is called an ensemble. Random Forest Classifiers makes predictions by taking the class that gets the most votes from the predictions of several Decision Tree Classifiers. Usually Ensemble methods are used at the end of a project to combine a few good predictors into a better predictor."
   ]
  },
  {
   "cell_type": "markdown",
   "id": "38d11917",
   "metadata": {},
   "source": [
    "# Voting Classifiers"
   ]
  },
  {
   "cell_type": "markdown",
   "id": "67f601a0",
   "metadata": {},
   "source": [
    "If we have several classifiers such as Logistic Regression, Support Vector Machine, Random Forest and they all have an accuracy of 80% we can improve this accuracy by aggregating the predictions of each classifier and predict the class that gets the most votes. This classifier which is called a hard voting classifier has a higher accuracy than the best classifier in the ensemble.\n",
    "If we have 1000 classifiers each with an accuracy of 51% then using a majority class vote we can get an accuracy up to 80% accuracy. Since this is a binomial problem an assumption is the classifiers are independently making predictions. This is most likely not the case because they are all being trained on the same data and are likely to make the same errors. "
   ]
  },
  {
   "cell_type": "markdown",
   "id": "43a1089d",
   "metadata": {},
   "source": [
    "## Training a Voting Classifier"
   ]
  },
  {
   "cell_type": "code",
   "execution_count": 2,
   "id": "502d76f2",
   "metadata": {},
   "outputs": [],
   "source": [
    "from sklearn.ensemble import RandomForestClassifier\n",
    "from sklearn.ensemble import VotingClassifier\n",
    "from sklearn.linear_model import LogisticRegression\n",
    "from sklearn.svm import SVC\n",
    "from sklearn.datasets import make_moons\n",
    "from sklearn.model_selection import train_test_split\n",
    "from sklearn.metrics import accuracy_score\n",
    "from sklearn.preprocessing import StandardScaler"
   ]
  },
  {
   "cell_type": "code",
   "execution_count": 32,
   "id": "1ac48718",
   "metadata": {},
   "outputs": [],
   "source": [
    "X = make_moons()[0]\n",
    "y = make_moons()[1]\n",
    "X_train, X_test, y_train, y_test = train_test_split(X, y, test_size = 0.25, random_state = 21)"
   ]
  },
  {
   "cell_type": "code",
   "execution_count": 33,
   "id": "066c31be",
   "metadata": {},
   "outputs": [],
   "source": [
    "log_clf = LogisticRegression()\n",
    "rf_clf = RandomForestClassifier()\n",
    "svm_clf = SVC()"
   ]
  },
  {
   "cell_type": "code",
   "execution_count": 34,
   "id": "931bae90",
   "metadata": {},
   "outputs": [
    {
     "data": {
      "text/plain": [
       "VotingClassifier(estimators=[('lr', LogisticRegression()),\n",
       "                             ('rf', RandomForestClassifier()), ('svc', SVC())])"
      ]
     },
     "execution_count": 34,
     "metadata": {},
     "output_type": "execute_result"
    }
   ],
   "source": [
    "voting_clf = VotingClassifier(\n",
    "        estimators = [('lr', log_clf), ('rf', rf_clf), ('svc', svm_clf)],\n",
    "        voting = 'hard'\n",
    ")\n",
    "voting_clf.fit(X_train, y_train)"
   ]
  },
  {
   "cell_type": "code",
   "execution_count": 35,
   "id": "990d214e",
   "metadata": {},
   "outputs": [
    {
     "name": "stdout",
     "output_type": "stream",
     "text": [
      "LogisticRegression 0.6\n",
      "RandomForestClassifier 0.56\n",
      "SVC 0.64\n",
      "VotingClassifier 0.68\n"
     ]
    }
   ],
   "source": [
    "for clf in (log_clf, rf_clf, svm_clf, voting_clf):\n",
    "    clf.fit(X_train, y_train)\n",
    "    y_pred = clf.predict(X_test)\n",
    "    accuracy = accuracy_score(y_test, y_pred)\n",
    "    print(clf.__class__.__name__, accuracy)"
   ]
  },
  {
   "cell_type": "markdown",
   "id": "2020fd66",
   "metadata": {},
   "source": [
    "The voting classifier outperforms the best model slightly. If all the classifier are able to predict probabilities we can use soft voting which gives more weight to the class with the highest probability. So it predicts the class with the highest average probability. In the code above SVC does not predict probabilities by default, so we can set the probability hyperparameter to True although this will reduce training time. In general soft voting performs better than hard voting."
   ]
  },
  {
   "cell_type": "markdown",
   "id": "94308e43",
   "metadata": {},
   "source": [
    "# Bagging & Pasting"
   ]
  },
  {
   "cell_type": "markdown",
   "id": "be9414c5",
   "metadata": {},
   "source": [
    "Using different algorithms for a voting classifier can improve performance because each algorithms makes predictions independently and so diversity is general good for ensemble methods. Another approach is to use one algorithm for all the predictors but to train it on different random subsets of the training data. Bagging (boostrap aggregating) uses sampling with replacement where as pasting uses sampling without replacement. With bagging a single training instance can be sampled svera; times for the same predictor and also several times across different predictors. But with pasting since it is done without replacement a training instance can only be sampled several times across different predictors. Once all predictors are trained predictions are made through the statistical mode for classification and the average for regression. Each individual predictor has a higher bias than if it were trained on the original training dataset but aggregation reduces bias and variance."
   ]
  },
  {
   "cell_type": "markdown",
   "id": "f36b7756",
   "metadata": {},
   "source": [
    "## Implementation in Scikit-Learn"
   ]
  },
  {
   "cell_type": "code",
   "execution_count": 3,
   "id": "090289aa",
   "metadata": {},
   "outputs": [],
   "source": [
    "from sklearn.ensemble import BaggingClassifier\n",
    "from sklearn.tree import DecisionTreeClassifier"
   ]
  },
  {
   "cell_type": "code",
   "execution_count": 37,
   "id": "f4234192",
   "metadata": {},
   "outputs": [
    {
     "data": {
      "text/plain": [
       "BaggingClassifier(base_estimator=DecisionTreeClassifier(), max_samples=10,\n",
       "                  n_estimators=750, n_jobs=-1)"
      ]
     },
     "execution_count": 37,
     "metadata": {},
     "output_type": "execute_result"
    }
   ],
   "source": [
    "bag_clf = BaggingClassifier(DecisionTreeClassifier(), n_estimators = 750, max_samples = 10, bootstrap = True, n_jobs = -1)\n",
    "bag_clf.fit(X_train, y_train)"
   ]
  },
  {
   "cell_type": "markdown",
   "id": "8099f081",
   "metadata": {},
   "source": [
    "Here we are using a Decision Tree Classifier (500 of them) each trained on 20 random instances. The hyperparameter bootstrap = True allows us to use the bagging method and n_jobs = -1 means we use all CPU cores available. "
   ]
  },
  {
   "cell_type": "code",
   "execution_count": 38,
   "id": "8d8c49f6",
   "metadata": {},
   "outputs": [],
   "source": [
    "y_pred = bag_clf.predict(X_test)"
   ]
  },
  {
   "cell_type": "markdown",
   "id": "7b6b2b1d",
   "metadata": {},
   "source": [
    "# Out-of-Bag Evaluation"
   ]
  },
  {
   "cell_type": "markdown",
   "id": "adfbfd05",
   "metadata": {},
   "source": [
    "With bagging some instances may not be sampled. On average 63% of the training instances are sampled for each predictor. Since the predictor does not see these out-of-bag instances they can be used to evaluate the ensemble predictor."
   ]
  },
  {
   "cell_type": "code",
   "execution_count": 39,
   "id": "70dc97c2",
   "metadata": {},
   "outputs": [
    {
     "data": {
      "text/plain": [
       "BaggingClassifier(base_estimator=DecisionTreeClassifier(), max_samples=0.2,\n",
       "                  n_estimators=500, n_jobs=-1, oob_score=True)"
      ]
     },
     "execution_count": 39,
     "metadata": {},
     "output_type": "execute_result"
    }
   ],
   "source": [
    "bag_clf = BaggingClassifier(DecisionTreeClassifier(), n_estimators = 500, max_samples = 0.2, \n",
    "                            bootstrap=True, n_jobs=-1, oob_score = True) # oob_score - out-bag-score set to true\n",
    "bag_clf.fit(X_train, y_train)"
   ]
  },
  {
   "cell_type": "code",
   "execution_count": 40,
   "id": "ca16622d",
   "metadata": {},
   "outputs": [
    {
     "data": {
      "text/plain": [
       "0.52"
      ]
     },
     "execution_count": 40,
     "metadata": {},
     "output_type": "execute_result"
    }
   ],
   "source": [
    "bag_clf.oob_score_"
   ]
  },
  {
   "cell_type": "code",
   "execution_count": 41,
   "id": "db7869fb",
   "metadata": {},
   "outputs": [
    {
     "data": {
      "text/plain": [
       "0.56"
      ]
     },
     "execution_count": 41,
     "metadata": {},
     "output_type": "execute_result"
    }
   ],
   "source": [
    "y_pred = bag_clf.predict(X_test)\n",
    "y_proba = bag_clf.predict_proba(X_test)\n",
    "accuracy = accuracy_score(y_test, y_pred)\n",
    "accuracy"
   ]
  },
  {
   "cell_type": "markdown",
   "id": "1776eeb0",
   "metadata": {},
   "source": [
    "So we can use the oob instances to evaluate the classifier to get a rough idea of how it will perform on the test set. This means we don't neccessarily need a validation set. Since the Decision Tree Classifier has a predict_proba() method the decision function returns the class probabilities for each instance."
   ]
  },
  {
   "cell_type": "code",
   "execution_count": 42,
   "id": "e9eec0c8",
   "metadata": {},
   "outputs": [
    {
     "data": {
      "text/plain": [
       "array([[0.44691358, 0.55308642],\n",
       "       [0.36138614, 0.63861386],\n",
       "       [0.57178841, 0.42821159],\n",
       "       [0.39805825, 0.60194175],\n",
       "       [0.19211823, 0.80788177],\n",
       "       [0.56009615, 0.43990385],\n",
       "       [0.70263789, 0.29736211],\n",
       "       [0.5207824 , 0.4792176 ],\n",
       "       [0.15061728, 0.84938272],\n",
       "       [0.59158416, 0.40841584]])"
      ]
     },
     "execution_count": 42,
     "metadata": {},
     "output_type": "execute_result"
    }
   ],
   "source": [
    "bag_clf.oob_decision_function_[:10]"
   ]
  },
  {
   "cell_type": "markdown",
   "id": "9663a4a7",
   "metadata": {},
   "source": [
    "We can also sample features. This can be done in Scikit-Learn through the hyperparameters max_features and boostrap_features which work in the same way as max_samples and boostrap hyperparamter.\n",
    "\n",
    "\n",
    "## Random Patches & Subspaces\n",
    "\n",
    "Using all instances but sampling the features (max_samples = 1.0, bootstrap = False, max_features < 1.0, bootstrap_features = True) is called the Random Subspaces method. Sampling both features and instances is called the Random Patches method which can be useful for high dimensional data such as images. Sampling both features and instances increases bias slightly but reduces variance."
   ]
  },
  {
   "cell_type": "markdown",
   "id": "0c8bab13",
   "metadata": {},
   "source": [
    "# Random Forest"
   ]
  },
  {
   "cell_type": "markdown",
   "id": "00e734e7",
   "metadata": {},
   "source": [
    "The Random Forest algorithm is an ensemble of Decision Trees. It is trained via bagging with a max_samples hyperparameter set to the size of the training set."
   ]
  },
  {
   "cell_type": "code",
   "execution_count": 43,
   "id": "ad07fe0a",
   "metadata": {},
   "outputs": [],
   "source": [
    "from sklearn.ensemble import RandomForestClassifier"
   ]
  },
  {
   "cell_type": "code",
   "execution_count": 44,
   "id": "1ab25d3d",
   "metadata": {},
   "outputs": [
    {
     "data": {
      "text/plain": [
       "RandomForestClassifier(max_leaf_nodes=16, n_estimators=500, n_jobs=-1)"
      ]
     },
     "execution_count": 44,
     "metadata": {},
     "output_type": "execute_result"
    }
   ],
   "source": [
    "rf_clf = RandomForestClassifier(n_estimators=500, max_leaf_nodes=16, n_jobs=-1)\n",
    "rf_clf.fit(X_train, y_train)"
   ]
  },
  {
   "cell_type": "code",
   "execution_count": 45,
   "id": "274d600e",
   "metadata": {},
   "outputs": [],
   "source": [
    "y_pred_rf = rf_clf.predict(X_test)"
   ]
  },
  {
   "cell_type": "markdown",
   "id": "ca617a57",
   "metadata": {},
   "source": [
    "RandomForestClassifier has all the hyperparameters of a DecisionTreeClassifier (to control how trees are grown), plus all the hyperparameters of a BaggingClassifier to control the ensemble itself"
   ]
  },
  {
   "cell_type": "code",
   "execution_count": 46,
   "id": "1059aa93",
   "metadata": {},
   "outputs": [],
   "source": [
    "bag_clf = BaggingClassifier(DecisionTreeClassifier(splitter=\"random\", max_leaf_nodes=16), \n",
    "                            n_estimators=500, max_samples=1.0, bootstrap=True, n_jobs=-1) # This is equivalent to the RandomForestClassifier"
   ]
  },
  {
   "cell_type": "markdown",
   "id": "57cbcbce",
   "metadata": {},
   "source": [
    "The RandomForestClassifier introduces extra randomness as it searches for the best feature within a random subset of features instead of searching for the best feature when splitting a node. This increases bias but reduces variance.\n",
    "This randomness can be increased and such trees are called Extremely Randomized Trees. This increases bias while reducing bias but also reduces training time for extra trees. In Scikit-Learn Extremely Randomised Tree classifier can be created \n",
    "through ExtraTreesClassifier class."
   ]
  },
  {
   "cell_type": "markdown",
   "id": "e2e403bf",
   "metadata": {},
   "source": [
    "## Feature Importance"
   ]
  },
  {
   "cell_type": "code",
   "execution_count": 47,
   "id": "da2759a6",
   "metadata": {},
   "outputs": [],
   "source": [
    "from sklearn.datasets import load_iris"
   ]
  },
  {
   "cell_type": "code",
   "execution_count": 48,
   "id": "38a48785",
   "metadata": {},
   "outputs": [
    {
     "data": {
      "text/plain": [
       "RandomForestClassifier(n_estimators=500, n_jobs=-1)"
      ]
     },
     "execution_count": 48,
     "metadata": {},
     "output_type": "execute_result"
    }
   ],
   "source": [
    "rf_clf = RandomForestClassifier(n_estimators=500, n_jobs=-1)\n",
    "rf_clf.fit(load_iris().data, load_iris().target)"
   ]
  },
  {
   "cell_type": "code",
   "execution_count": 49,
   "id": "c65b56f8",
   "metadata": {},
   "outputs": [
    {
     "name": "stdout",
     "output_type": "stream",
     "text": [
      "sepal length (cm) 0.11158086355898864\n",
      "sepal width (cm) 0.025372528128335813\n",
      "petal length (cm) 0.42937722139604395\n",
      "petal width (cm) 0.4336693869166316\n"
     ]
    }
   ],
   "source": [
    "for name, score in zip(load_iris().feature_names, rf_clf.feature_importances_):\n",
    "    print(name, score)"
   ]
  },
  {
   "cell_type": "markdown",
   "id": "9ca15516",
   "metadata": {},
   "source": [
    "# Boosting"
   ]
  },
  {
   "cell_type": "markdown",
   "id": "4d21be1b",
   "metadata": {},
   "source": [
    "Boosting is an ensemble method which combines several weak learners into a strong learner. The predictors are trained sequentially, each trying to correct its predecessor. The two most common boosting methods are AdaBoost and Gradient Boosting."
   ]
  },
  {
   "cell_type": "markdown",
   "id": "6b8037e4",
   "metadata": {},
   "source": [
    "## AdaBoost"
   ]
  },
  {
   "cell_type": "markdown",
   "id": "c71abca1",
   "metadata": {},
   "source": [
    "In AdaBoost each predictor corrects it predecessor by increasing the relative weight of misclassified training instances. It then uses the updated weights and makes new predictions and then these weights are updated by the next predictor. This technique has many similarities with Gradient Descent. In Gradient Descent the parameters of a single predictor are updated to improve the model by minimising the cost function but in AdaBoost predictors are added to the ensemble gradually improving perfomance. After all the predictors are trained the ensemble makes predictions in a similar way to bagging but the predictors have different weights depending on their accuracy on the weighted training set."
   ]
  },
  {
   "cell_type": "markdown",
   "id": "f7ce2f6d",
   "metadata": {},
   "source": [
    "The weight of each instance is initialised to $\\frac{1}{m}$ where m is the sample size. The weighted error of each predictor on the training set is\n",
    "\n",
    "$\\Large r_{j} = \\frac{\\sum_{i = 1}^{m} w^{(i)} \\, \\, \\, \\, \\hat{y}^{(i)}_{j} \\neq y^{(i)}}{\\sum_{i = 1}^{m} w^{(i)}}$\n",
    "\n",
    "\n",
    "The predictor's weight is computed using the weighted error\n",
    "\n",
    "$\\Large \\alpha_j = \\eta \\log \\frac{1 - r_j}{r_j}$\n",
    "\n",
    "If $r_j > 0.5 $ then $\\alpha_j < 0$ and if $r_j < 0.5$ and $\\alpha_j > 0$. If the error is close to 50% i.e. the predictor is randomly guessing the weight of the predictor is close to zero. If the error is greater then 50% i.e. the predictor is worse than random guessing then the weight is negative. If the error is less than 50% then the weight increases and is positive.\n",
    "\n",
    "The weight update rule\n",
    "\n",
    "$ \\Large w^{(i)} \\rightarrow w^{(i)} \\, \\, \\, \\, \\, \\, \\, \\, \\hat{y}^{(i)}_{j} = y^{(i)} \\\\$\n",
    "$ \\Large w^{(i)} \\rightarrow w^{(i)}\\exp\\left(\\alpha_j \\right) \\qquad \\hat{y}^{(i)}_{j} \\neq y^{(i)}$\n",
    "\n",
    "The weights are normalised by dividing by $\\sum_{i = 1}^{m} w^{(i)}$.\n",
    "\n",
    "The algorithm stops when the desired number of predictors are reached or when a perfect predictor is found.\n",
    "\n",
    "AdaBoost computes the predictions of all the predictors and weighs them using the predictors weights $\\alpha_j$. The predicted class is the one that receives the majority of weighted votes.\n",
    "\n",
    "$\\Large \\hat{y}(x) = argmax \\sum_{j = 1 }^{N} \\alpha_{j}$"
   ]
  },
  {
   "cell_type": "markdown",
   "id": "0659c885",
   "metadata": {},
   "source": [
    "## Implementation in Scikit-Learn"
   ]
  },
  {
   "cell_type": "code",
   "execution_count": 50,
   "id": "c439dcff",
   "metadata": {},
   "outputs": [],
   "source": [
    "from sklearn.ensemble import AdaBoostClassifier"
   ]
  },
  {
   "cell_type": "code",
   "execution_count": 51,
   "id": "67d91b10",
   "metadata": {},
   "outputs": [
    {
     "data": {
      "text/plain": [
       "AdaBoostClassifier(base_estimator=DecisionTreeClassifier(max_depth=1),\n",
       "                   learning_rate=0.5, n_estimators=500)"
      ]
     },
     "execution_count": 51,
     "metadata": {},
     "output_type": "execute_result"
    }
   ],
   "source": [
    "ada_clf = AdaBoostClassifier(DecisionTreeClassifier(max_depth = 1), n_estimators = 500, \n",
    "                             algorithm = \"SAMME.R\", learning_rate = 0.5)\n",
    "ada_clf.fit(X_train, y_train)"
   ]
  },
  {
   "cell_type": "code",
   "execution_count": 52,
   "id": "b452445c",
   "metadata": {},
   "outputs": [],
   "source": [
    "y_ada_pred = ada_clf.predict(X_test)"
   ]
  },
  {
   "cell_type": "code",
   "execution_count": 53,
   "id": "cb4e3b46",
   "metadata": {},
   "outputs": [
    {
     "data": {
      "text/plain": [
       "0.68"
      ]
     },
     "execution_count": 53,
     "metadata": {},
     "output_type": "execute_result"
    }
   ],
   "source": [
    "accuracy_score(y_test, y_ada_pred)"
   ]
  },
  {
   "cell_type": "markdown",
   "id": "73783843",
   "metadata": {},
   "source": [
    "Scikit-Learn uses a multiclass version of AdaBoost called SAMME. If the predictors can estimate class probabilities we can use a variant of SAMME called SAMME.R. This uses class probabilities and performs better than hard prediction.\n",
    "The AdaBoostClassifier above uses 200 DecisionTreeClassifiers with max_depth = 1. Some solutions when AdaBoost ensemble are overfitting the data is to limit the number of estimators or regularise the base estimator."
   ]
  },
  {
   "cell_type": "markdown",
   "id": "589e55a1",
   "metadata": {},
   "source": [
    "# Gradient Boosting"
   ]
  },
  {
   "cell_type": "markdown",
   "id": "13ce7348",
   "metadata": {},
   "source": [
    "Gradient Boosting works similarly to AdaBoost. However, instead of adapting weights at each iteration Gradient Boosting fits the new predictors to the residual errors made by the previous predictor"
   ]
  },
  {
   "cell_type": "markdown",
   "id": "cefe0247",
   "metadata": {},
   "source": [
    "## Example of Gradient Boosting in Action"
   ]
  },
  {
   "cell_type": "code",
   "execution_count": 1,
   "id": "6d121762",
   "metadata": {},
   "outputs": [],
   "source": [
    "from sklearn.tree import DecisionTreeRegressor\n",
    "import numpy as np\n",
    "import matplotlib.pyplot as plt"
   ]
  },
  {
   "cell_type": "code",
   "execution_count": 3,
   "id": "6281844d",
   "metadata": {},
   "outputs": [
    {
     "data": {
      "image/png": "[encoded data removed]",
      "text/plain": [
       "<Figure size 720x432 with 1 Axes>"
      ]
     },
     "metadata": {
      "needs_background": "light"
     },
     "output_type": "display_data"
    }
   ],
   "source": [
    "X = 6*np.random.rand(200, 1) - 3\n",
    "y = X**2 + X + 5 + np.random.randn(200, 1)\n",
    "plt.figure(figsize=(10, 6))\n",
    "plt.xlabel('X', fontsize=14)\n",
    "plt.ylabel('y', fontsize=14, rotation=360, labelpad = 20)\n",
    "plt.scatter(X, y, c='b')\n",
    "plt.show()"
   ]
  },
  {
   "cell_type": "code",
   "execution_count": 164,
   "id": "b8d73888",
   "metadata": {},
   "outputs": [
    {
     "data": {
      "text/plain": [
       "DecisionTreeRegressor(max_depth=2)"
      ]
     },
     "execution_count": 164,
     "metadata": {},
     "output_type": "execute_result"
    }
   ],
   "source": [
    "tree_reg1 = DecisionTreeRegressor(max_depth = 2)\n",
    "tree_reg1.fit(X, y.ravel())"
   ]
  },
  {
   "cell_type": "code",
   "execution_count": 175,
   "id": "ba6bda7a",
   "metadata": {},
   "outputs": [],
   "source": [
    "y2 = y.ravel() - tree_reg1.predict(X)"
   ]
  },
  {
   "cell_type": "code",
   "execution_count": 166,
   "id": "3338c62c",
   "metadata": {},
   "outputs": [
    {
     "data": {
      "text/plain": [
       "DecisionTreeRegressor(max_depth=2)"
      ]
     },
     "execution_count": 166,
     "metadata": {},
     "output_type": "execute_result"
    }
   ],
   "source": [
    "tree_reg2 = DecisionTreeRegressor(max_depth=2)\n",
    "tree_reg2.fit(X, y2.ravel())"
   ]
  },
  {
   "cell_type": "code",
   "execution_count": 167,
   "id": "ea3393fc",
   "metadata": {},
   "outputs": [],
   "source": [
    "y3 = y2.ravel() - tree_reg2.predict(X)"
   ]
  },
  {
   "cell_type": "code",
   "execution_count": 168,
   "id": "113b9116",
   "metadata": {},
   "outputs": [
    {
     "data": {
      "text/plain": [
       "DecisionTreeRegressor(max_depth=2)"
      ]
     },
     "execution_count": 168,
     "metadata": {},
     "output_type": "execute_result"
    }
   ],
   "source": [
    "tree_reg3 = DecisionTreeRegressor(max_depth=2)\n",
    "tree_reg3.fit(X, y3.ravel())"
   ]
  },
  {
   "cell_type": "code",
   "execution_count": 169,
   "id": "8a23457c",
   "metadata": {},
   "outputs": [
    {
     "data": {
      "text/plain": [
       "array([10.8175926])"
      ]
     },
     "execution_count": 169,
     "metadata": {},
     "output_type": "execute_result"
    }
   ],
   "source": [
    "X_new = np.array([[2]])\n",
    "y_pred = sum(tree.predict(X_new) for tree in (tree_reg1, tree_reg2, tree_reg3)) # make predictions by adding predictions\n",
    "y_pred                                                                          # from each predictor"
   ]
  },
  {
   "cell_type": "markdown",
   "id": "451604af",
   "metadata": {},
   "source": [
    "## Gradient Boosting Regressor in Scikit-Learn"
   ]
  },
  {
   "cell_type": "code",
   "execution_count": 7,
   "id": "7a979ab6",
   "metadata": {},
   "outputs": [],
   "source": [
    "from sklearn.ensemble import GradientBoostingRegressor"
   ]
  },
  {
   "cell_type": "code",
   "execution_count": 171,
   "id": "fc40fa20",
   "metadata": {},
   "outputs": [],
   "source": [
    "gbr = GradientBoostingRegressor(max_depth = 2, n_estimators = 3, learning_rate = 0.8)"
   ]
  },
  {
   "cell_type": "markdown",
   "id": "7321e6d4",
   "metadata": {},
   "source": [
    "Scikit-Learn's GradientBoosting class has hyperparameters to control the growth of the trees aswell as hyperparameters that control the ensemble itself."
   ]
  },
  {
   "cell_type": "code",
   "execution_count": 172,
   "id": "4e863259",
   "metadata": {},
   "outputs": [
    {
     "data": {
      "text/plain": [
       "GradientBoostingRegressor(learning_rate=0.8, max_depth=2, n_estimators=3)"
      ]
     },
     "execution_count": 172,
     "metadata": {},
     "output_type": "execute_result"
    }
   ],
   "source": [
    "gbr.fit(X, y.ravel())"
   ]
  },
  {
   "cell_type": "code",
   "execution_count": 173,
   "id": "ab1819b9",
   "metadata": {},
   "outputs": [
    {
     "data": {
      "text/plain": [
       "array([10.93318127])"
      ]
     },
     "execution_count": 173,
     "metadata": {},
     "output_type": "execute_result"
    }
   ],
   "source": [
    "gbr.predict(X_new)"
   ]
  },
  {
   "cell_type": "markdown",
   "id": "b1f933d6",
   "metadata": {},
   "source": [
    "Using a high learning rate with a low number of estimators can lead to underfitting while using a low learning rate with a high number of trees can lead to overfitting and so it is important to find the optimal number of estimators for a given learning rate. One way we can do this is by using early stopping."
   ]
  },
  {
   "cell_type": "code",
   "execution_count": 4,
   "id": "1d9c1da1",
   "metadata": {},
   "outputs": [],
   "source": [
    "from sklearn.metrics import mean_squared_error"
   ]
  },
  {
   "cell_type": "code",
   "execution_count": 5,
   "id": "7d92250b",
   "metadata": {},
   "outputs": [],
   "source": [
    "X_train, X_val, y_train, y_val = train_test_split(X, y)"
   ]
  },
  {
   "cell_type": "markdown",
   "id": "8b6b4a2e",
   "metadata": {},
   "source": [
    "## Optimising Number of Trees Using Early Stopping"
   ]
  },
  {
   "cell_type": "code",
   "execution_count": 9,
   "id": "7d938441",
   "metadata": {},
   "outputs": [
    {
     "data": {
      "text/plain": [
       "GradientBoostingRegressor(max_depth=2, n_estimators=150)"
      ]
     },
     "execution_count": 9,
     "metadata": {},
     "output_type": "execute_result"
    }
   ],
   "source": [
    "gbr = GradientBoostingRegressor(max_depth = 2, n_estimators=150)\n",
    "gbr.fit(X_train, y_train.ravel())"
   ]
  },
  {
   "cell_type": "code",
   "execution_count": 10,
   "id": "26e94df4",
   "metadata": {},
   "outputs": [],
   "source": [
    "errors = [mean_squared_error(y_val, y_pred) for y_pred in gbr.staged_predict(X_val)]\n",
    "best_n_estimators = np.argmin(errors)"
   ]
  },
  {
   "cell_type": "markdown",
   "id": "ee7c243f",
   "metadata": {},
   "source": [
    "The stage_predict() method returns the predictions made by the ensemble at each stage (at one tree, two trees, three trees etc)."
   ]
  },
  {
   "cell_type": "code",
   "execution_count": 13,
   "id": "f3b9fc1c",
   "metadata": {},
   "outputs": [
    {
     "data": {
      "text/plain": [
       "GradientBoostingRegressor(max_depth=2, n_estimators=67)"
      ]
     },
     "execution_count": 13,
     "metadata": {},
     "output_type": "execute_result"
    }
   ],
   "source": [
    "gbr_best_estimators = GradientBoostingRegressor(max_depth = 2, n_estimators = best_n_estimators)\n",
    "gbr_best_estimators.fit(X_train, y_train.ravel())"
   ]
  },
  {
   "cell_type": "markdown",
   "id": "fcc75eb5",
   "metadata": {},
   "source": [
    "# Xgboost"
   ]
  },
  {
   "cell_type": "code",
   "execution_count": 23,
   "id": "0e8816c2",
   "metadata": {},
   "outputs": [],
   "source": [
    "import xgboost"
   ]
  },
  {
   "cell_type": "code",
   "execution_count": 29,
   "id": "7e017d8a",
   "metadata": {},
   "outputs": [
    {
     "data": {
      "text/plain": [
       "XGBRegressor(base_score=None, booster=None, callbacks=None,\n",
       "             colsample_bylevel=None, colsample_bynode=None,\n",
       "             colsample_bytree=None, device=None, early_stopping_rounds=None,\n",
       "             enable_categorical=False, eval_metric=None, feature_types=None,\n",
       "             gamma=None, grow_policy=None, importance_type=None,\n",
       "             interaction_constraints=None, learning_rate=None, max_bin=None,\n",
       "             max_cat_threshold=None, max_cat_to_onehot=None,\n",
       "             max_delta_step=None, max_depth=None, max_leaves=None,\n",
       "             min_child_weight=None, missing=nan, monotone_constraints=None,\n",
       "             multi_strategy=None, n_estimators=None, n_jobs=None,\n",
       "             num_parallel_tree=None, random_state=None, ...)"
      ]
     },
     "execution_count": 29,
     "metadata": {},
     "output_type": "execute_result"
    }
   ],
   "source": [
    "xgb_reg = xgboost.XGBRegressor()\n",
    "xgb_reg.fit(X_train, y_train)"
   ]
  },
  {
   "cell_type": "code",
   "execution_count": 30,
   "id": "63157b77",
   "metadata": {},
   "outputs": [
    {
     "data": {
      "text/plain": [
       "2.4171475157781153"
      ]
     },
     "execution_count": 30,
     "metadata": {},
     "output_type": "execute_result"
    }
   ],
   "source": [
    "y_pred = xgb_reg.predict(X_val)\n",
    "mse = mean_squared_error(y_val, y_pred)\n",
    "mse"
   ]
  },
  {
   "cell_type": "code",
   "execution_count": 33,
   "id": "5a0ecd77",
   "metadata": {},
   "outputs": [
    {
     "name": "stdout",
     "output_type": "stream",
     "text": [
      "[0]\tvalidation_0-rmse:2.31967\n",
      "[1]\tvalidation_0-rmse:1.81341\n",
      "[2]\tvalidation_0-rmse:1.51450\n",
      "[3]\tvalidation_0-rmse:1.32305\n",
      "[4]\tvalidation_0-rmse:1.26265\n",
      "[5]\tvalidation_0-rmse:1.19832\n",
      "[6]\tvalidation_0-rmse:1.17185\n",
      "[7]\tvalidation_0-rmse:1.16706\n",
      "[8]\tvalidation_0-rmse:1.17880\n"
     ]
    }
   ],
   "source": [
    "xgb_reg.fit(X_train, y_train, eval_set = [(X_val, y_val)])\n",
    "xgb_reg.set_params(early_stopping_rounds=2) # xgboost incorporates early stopping automatically\n",
    "y_pred = xgb_reg.predict(X_val)"
   ]
  }
 ],
 "metadata": {
  "kernelspec": {
   "display_name": "Python 3 (ipykernel)",
   "language": "python",
   "name": "python3"
  },
  "language_info": {
   "codemirror_mode": {
    "name": "ipython",
    "version": 3
   },
   "file_extension": ".py",
   "mimetype": "text/x-python",
   "name": "python",
   "nbconvert_exporter": "python",
   "pygments_lexer": "ipython3",
   "version": "3.9.6"
  }
 },
 "nbformat": 4,
 "nbformat_minor": 5
}
