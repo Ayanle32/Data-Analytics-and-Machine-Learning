{
 "cells": [
  {
   "cell_type": "code",
   "execution_count": 1,
   "metadata": {},
   "outputs": [
    {
     "name": "stdout",
     "output_type": "stream",
     "text": [
      "Import the sklearn datasets\n",
      "Load the iris data\n",
      "The iris data set has been loaded\n"
     ]
    }
   ],
   "source": [
    "\"\"\"\n",
    "Once again we use the iris data from sklearn.  We need matplotlib for plotting out scatter plots and histograms,\n",
    "and we will be using numpy to compute covaraince and correlation matrices. So all three are imported at the\n",
    "start of this notebook.\n",
    "\"\"\"\n",
    "print(\"Import the sklearn datasets\")\n",
    "import sklearn.datasets as ds\n",
    "import numpy as np\n",
    "\n",
    "\"\"\"\n",
    "The Iris data is to be used for the study.\n",
    "\"\"\"\n",
    "\n",
    "print(\"Load the iris data\")\n",
    "Bunch = ds.load_iris(return_X_y=False) # we want to get the Bunch so that we can access more than just the data and target values\n",
    "print(\"The iris data set has been loaded\")"
   ]
  },
  {
   "cell_type": "markdown",
   "metadata": {},
   "source": [
    "Now we can proceed to compute the mean and uncertainty for each of the types of Iris data.  This will allow us to compare each of the four variables, sepal width, sepal length, petal width and petal length for each type of iris to determine if it is possible to distinguish between one or more types of iris using these quantities alone. "
   ]
  },
  {
   "cell_type": "code",
   "execution_count": 2,
   "metadata": {},
   "outputs": [
    {
     "name": "stdout",
     "output_type": "stream",
     "text": [
      "THIS IS AN EXAMPLE SOLUTION\n",
      "\n",
      "___________________________________________________________________________\n",
      "feature index  0 , type =  sepal length (cm)\n",
      "  Iris Setosa\n",
      "\t value = 5.006 +/- 0.349\n",
      "  Iris Versicolor\n",
      "\t value = 5.936 +/- 0.511\n",
      "  Iris Virginica\n",
      "\t value = 6.588 +/- 0.629\n",
      "\n",
      "\n",
      "  *** Compare possible differences\n",
      "  Delta Iris Setosa vs Versicolor = -0.930 +/- 0.619 (-1.503 sigma)\n",
      "  Delta Iris Setosa vs Virginica = -1.582 +/- 0.720 (-2.198 sigma)\n",
      "  Delta Iris Versicolor vs Virginica = -0.652 +/- 0.811 (-0.804 sigma)\n",
      "\n",
      "___________________________________________________________________________\n",
      "feature index  1 , type =  sepal width (cm)\n",
      "  Iris Setosa\n",
      "\t value = 3.428 +/- 0.375\n",
      "  Iris Versicolor\n",
      "\t value = 2.770 +/- 0.311\n",
      "  Iris Virginica\n",
      "\t value = 2.974 +/- 0.319\n",
      "\n",
      "\n",
      "  *** Compare possible differences\n",
      "  Delta Iris Setosa vs Versicolor = 0.658 +/- 0.487 (1.351 sigma)\n",
      "  Delta Iris Setosa vs Virginica = 0.454 +/- 0.493 (0.921 sigma)\n",
      "  Delta Iris Versicolor vs Virginica = -0.204 +/- 0.445 (-0.458 sigma)\n",
      "\n",
      "___________________________________________________________________________\n",
      "feature index  2 , type =  petal length (cm)\n",
      "  Iris Setosa\n",
      "\t value = 1.462 +/- 0.172\n",
      "  Iris Versicolor\n",
      "\t value = 4.260 +/- 0.465\n",
      "  Iris Virginica\n",
      "\t value = 5.552 +/- 0.546\n",
      "\n",
      "\n",
      "  *** Compare possible differences\n",
      "  Delta Iris Setosa vs Versicolor = -2.798 +/- 0.496 (-5.642 sigma)\n",
      "  Delta Iris Setosa vs Virginica = -4.090 +/- 0.573 (-7.141 sigma)\n",
      "  Delta Iris Versicolor vs Virginica = -1.292 +/- 0.718 (-1.801 sigma)\n",
      "\n",
      "___________________________________________________________________________\n",
      "feature index  3 , type =  petal width (cm)\n",
      "  Iris Setosa\n",
      "\t value = 0.246 +/- 0.104\n",
      "  Iris Versicolor\n",
      "\t value = 1.326 +/- 0.196\n",
      "  Iris Virginica\n",
      "\t value = 2.026 +/- 0.272\n",
      "\n",
      "\n",
      "  *** Compare possible differences\n",
      "  Delta Iris Setosa vs Versicolor = -1.080 +/- 0.222 (-4.869 sigma)\n",
      "  Delta Iris Setosa vs Virginica = -1.780 +/- 0.291 (-6.112 sigma)\n",
      "  Delta Iris Versicolor vs Virginica = -0.700 +/- 0.335 (-2.089 sigma)\n"
     ]
    }
   ],
   "source": [
    "print(\"THIS IS AN EXAMPLE SOLUTION\")\n",
    "for feature_idx in range(len(Bunch.feature_names)):\n",
    "    A = []\n",
    "    B = []\n",
    "    C = []\n",
    "    for i in range(len(Bunch.target)):\n",
    "        if Bunch.target[i] == 0:\n",
    "            A.append(Bunch.data[i,feature_idx])\n",
    "        elif Bunch.target[i] == 1:\n",
    "            B.append(Bunch.data[i,feature_idx])\n",
    "        elif Bunch.target[i] == 2:\n",
    "            C.append(Bunch.data[i,feature_idx])\n",
    "            \\\n",
    "\n",
    "    print(\"\\n___________________________________________________________________________\")\n",
    "    print(\"feature index \", feature_idx, \", type = \", Bunch.feature_names[feature_idx])\n",
    "    print(\"  Iris Setosa\")\n",
    "    print(\"\\t value = {0:5.3f} +/- {1:5.3f}\".format(np.average(A), np.std(A)))\n",
    "    print(\"  Iris Versicolor\")\n",
    "    print(\"\\t value = {0:5.3f} +/- {1:5.3f}\".format(np.average(B), np.std(B)))      \n",
    "    print(\"  Iris Virginica\")\n",
    "    print(\"\\t value = {0:5.3f} +/- {1:5.3f}\".format(np.average(C), np.std(C)))\n",
    "\n",
    "    # There are 3 differences to check A-B, A-C, B-C\n",
    "    print(\"\\n\\n  *** Compare possible differences\")\n",
    "    deltaAB = np.average(A) - np.average(B)\n",
    "    deltaAC = np.average(A) - np.average(C)\n",
    "    deltaBC = np.average(B) - np.average(C)\n",
    "    sigmaAB = np.sqrt(np.std(A)**2 + np.std(B)**2 )\n",
    "    sigmaAC = np.sqrt(np.std(A)**2 + np.std(C)**2 )\n",
    "    sigmaBC = np.sqrt(np.std(B)**2 + np.std(C)**2 )\n",
    "    print(\"  Delta Iris Setosa vs Versicolor = {0:5.3f} +/- {1:5.3f} ({2:5.3f} sigma)\".format( deltaAB, sigmaAB, deltaAB/sigmaAB))\n",
    "    print(\"  Delta Iris Setosa vs Virginica = {0:5.3f} +/- {1:5.3f} ({2:5.3f} sigma)\".format( deltaAC, sigmaAC, deltaAC/sigmaAC))\n",
    "    print(\"  Delta Iris Versicolor vs Virginica = {0:5.3f} +/- {1:5.3f} ({2:5.3f} sigma)\".format( deltaBC, sigmaBC, deltaBC/sigmaBC))"
   ]
  },
  {
   "cell_type": "markdown",
   "metadata": {},
   "source": [
    "CONCLUSIONS\n",
    "-----------\n",
    "\n",
    "Iris Setosa can be distinguished from Versicolor and Virginica using the petal length or petal width features.\n",
    "\n",
    "It is not possible to distinguish between Versicolor and Virginica types using a single feature of the data.\n"
   ]
  },
  {
   "cell_type": "code",
   "execution_count": 0,
   "metadata": {},
   "outputs": [],
   "source": []
  }
 ],
 "metadata": {
  "kernelspec": {
   "display_name": "Python 3 (ipykernel)",
   "language": "python",
   "name": "python3"
  },
  "language_info": {
   "codemirror_mode": {
    "name": "ipython",
    "version": 3
   },
   "file_extension": ".py",
   "mimetype": "text/x-python",
   "name": "python",
   "nbconvert_exporter": "python",
   "pygments_lexer": "ipython3",
   "version": "3.9.6"
  }
 },
 "nbformat": 4,
 "nbformat_minor": 4
}
